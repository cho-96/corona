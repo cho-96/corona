{
 "cells": [
  {
   "cell_type": "code",
   "execution_count": 17,
   "metadata": {},
   "outputs": [
    {
     "name": "stdout",
     "output_type": "stream",
     "text": [
      "LOCAL_PEOPLE_20190103.csv\n",
      "LOCAL_PEOPLE_20190124.csv\n",
      "LOCAL_PEOPLE_20190121.csv\n",
      "LOCAL_PEOPLE_20190106.csv\n",
      "LOCAL_PEOPLE_20190119.csv\n",
      "LOCAL_PEOPLE_20190113.csv\n",
      "LOCAL_PEOPLE_20190115.csv\n",
      "LOCAL_PEOPLE_20190131.csv\n",
      "LOCAL_PEOPLE_20190127.csv\n",
      "LOCAL_PEOPLE_20190122.csv\n",
      "LOCAL_PEOPLE_20190130.csv\n",
      "LOCAL_PEOPLE_20190110.csv\n",
      "LOCAL_PEOPLE_20190101.csv\n",
      "LOCAL_PEOPLE_20190112.csv\n",
      "LOCAL_PEOPLE_20190125.csv\n",
      "LOCAL_PEOPLE_20190104.csv\n",
      "LOCAL_PEOPLE_20190123.csv\n",
      "LOCAL_PEOPLE_20190109.csv\n",
      "LOCAL_PEOPLE_20190129.csv\n",
      "LOCAL_PEOPLE_20190114.csv\n",
      "LOCAL_PEOPLE_20190118.csv\n",
      "LOCAL_PEOPLE_20190111.csv\n",
      "LOCAL_PEOPLE_20190102.csv\n",
      "LOCAL_PEOPLE_20190108.csv\n",
      "LOCAL_PEOPLE_20190117.csv\n",
      "LOCAL_PEOPLE_20190107.csv\n",
      "LOCAL_PEOPLE_20190126.csv\n",
      "LOCAL_PEOPLE_20190105.csv\n",
      "LOCAL_PEOPLE_20190128.csv\n",
      "LOCAL_PEOPLE_20190116.csv\n",
      "LOCAL_PEOPLE_20190120.csv\n"
     ]
    }
   ],
   "source": [
    "import geopandas as gpd\n",
    "import numpy as np # linear algebra\n",
    "import pandas as pd # data processing, CSV file I/O (e.g. pd.read_csv)\n",
    "import seaborn as sns\n",
    "import matplotlib.pyplot as plt\n",
    "import datetime\n",
    "import os\n",
    "import zipfile\n",
    "\n",
    "twenty_to_thirtyfive = [8,9,10,22,23,24]\n",
    "thirtyfive_to_fifty = [11,12,13,25,26,27]\n",
    "fifty_to_sixtyfive = [14,15,16,28,29,30]\n",
    "sixtyfive_plus = [17,18,31,32]\n",
    "\n",
    "curDir = os.getcwd()\n",
    "zf = zipfile.ZipFile(curDir + '\\\\LOCAL_PEOPLE_201901.zip')\n",
    "text_files = zf.infolist()\n",
    "list_ = []\n",
    "for text_file in text_files:\n",
    "    print(text_file.filename)\n",
    "    df = pd.read_csv(zf.open(text_file.filename)).replace('*', 0)\n",
    "    list_.append(df)\n",
    "df = pd.concat(list_)\n",
    "df.iloc[:, 4:] = df.iloc[:, 4:].astype(int)\n",
    "df_a = df.iloc[:,:4]\n",
    "df_a['20_35_total'] = df.iloc[:,twenty_to_thirtyfive].sum(axis=1)\n",
    "df_a['35_50_total'] = df.iloc[:,thirtyfive_to_fifty].sum(axis=1)\n",
    "df_a['50_65_total'] = df.iloc[:,fifty_to_sixtyfive].sum(axis=1)\n",
    "df_a['기준일ID'] = df_a['기준일ID'].astype(str)"
   ]
  },
  {
   "cell_type": "code",
   "execution_count": 20,
   "metadata": {},
   "outputs": [
    {
     "name": "stdout",
     "output_type": "stream",
     "text": [
      "LOCAL_PEOPLE_20190212.csv\n",
      "LOCAL_PEOPLE_20190210.csv\n",
      "LOCAL_PEOPLE_20190215.csv\n",
      "LOCAL_PEOPLE_20190209.csv\n",
      "LOCAL_PEOPLE_20190208.csv\n",
      "LOCAL_PEOPLE_20190202.csv\n",
      "LOCAL_PEOPLE_20190205.csv\n",
      "LOCAL_PEOPLE_20190218.csv\n",
      "LOCAL_PEOPLE_20190203.csv\n",
      "LOCAL_PEOPLE_20190222.csv\n",
      "LOCAL_PEOPLE_20190211.csv\n",
      "LOCAL_PEOPLE_20190217.csv\n",
      "LOCAL_PEOPLE_20190204.csv\n",
      "LOCAL_PEOPLE_20190224.csv\n",
      "LOCAL_PEOPLE_20190206.csv\n",
      "LOCAL_PEOPLE_20190201.csv\n",
      "LOCAL_PEOPLE_20190219.csv\n",
      "LOCAL_PEOPLE_20190216.csv\n",
      "LOCAL_PEOPLE_20190207.csv\n",
      "LOCAL_PEOPLE_20190213.csv\n",
      "LOCAL_PEOPLE_20190223.csv\n",
      "LOCAL_PEOPLE_20190214.csv\n",
      "LOCAL_PEOPLE_20190225.csv\n",
      "LOCAL_PEOPLE_20190228.csv\n",
      "LOCAL_PEOPLE_20190220.csv\n",
      "LOCAL_PEOPLE_20190226.csv\n",
      "LOCAL_PEOPLE_20190221.csv\n",
      "LOCAL_PEOPLE_20190227.csv\n"
     ]
    }
   ],
   "source": [
    "curDir = os.getcwd()\n",
    "zf = zipfile.ZipFile(curDir + '\\\\LOCAL_PEOPLE_201902.zip')\n",
    "text_files = zf.infolist()\n",
    "list_ = []\n",
    "for text_file in text_files:\n",
    "    print(text_file.filename)\n",
    "    df2 = pd.read_csv(zf.open(text_file.filename)).replace('*', 0)\n",
    "    list_.append(df2)\n",
    "df2 = pd.concat(list_)\n",
    "df2.iloc[:, 4:] = df2.iloc[:, 4:].astype(int)\n",
    "df2_a = df2.iloc[:,:4]\n",
    "df2_a['20_35_total'] = df2.iloc[:,twenty_to_thirtyfive].sum(axis=1)\n",
    "df2_a['35_50_total'] = df2.iloc[:,thirtyfive_to_fifty].sum(axis=1)\n",
    "df2_a['50_65_total'] = df2.iloc[:,fifty_to_sixtyfive].sum(axis=1)\n",
    "df2_a['기준일ID'] = df2_a['기준일ID'].astype(str)"
   ]
  },
  {
   "cell_type": "code",
   "execution_count": 23,
   "metadata": {},
   "outputs": [
    {
     "name": "stdout",
     "output_type": "stream",
     "text": [
      "LOCAL_PEOPLE_20190324.csv\n",
      "LOCAL_PEOPLE_20190313.csv\n",
      "LOCAL_PEOPLE_20190319.csv\n",
      "LOCAL_PEOPLE_20190301.csv\n",
      "LOCAL_PEOPLE_20190307.csv\n",
      "LOCAL_PEOPLE_20190321.csv\n",
      "LOCAL_PEOPLE_20190302.csv\n",
      "LOCAL_PEOPLE_20190308.csv\n",
      "LOCAL_PEOPLE_20190331.csv\n",
      "LOCAL_PEOPLE_20190312.csv\n",
      "LOCAL_PEOPLE_20190330.csv\n",
      "LOCAL_PEOPLE_20190315.csv\n",
      "LOCAL_PEOPLE_20190314.csv\n",
      "LOCAL_PEOPLE_20190325.csv\n",
      "LOCAL_PEOPLE_20190306.csv\n",
      "LOCAL_PEOPLE_20190320.csv\n",
      "LOCAL_PEOPLE_20190304.csv\n",
      "LOCAL_PEOPLE_20190329.csv\n",
      "LOCAL_PEOPLE_20190317.csv\n",
      "LOCAL_PEOPLE_20190305.csv\n",
      "LOCAL_PEOPLE_20190326.csv\n",
      "LOCAL_PEOPLE_20190328.csv\n",
      "LOCAL_PEOPLE_20190311.csv\n",
      "LOCAL_PEOPLE_20190303.csv\n",
      "LOCAL_PEOPLE_20190318.csv\n",
      "LOCAL_PEOPLE_20190323.csv\n",
      "LOCAL_PEOPLE_20190310.csv\n",
      "LOCAL_PEOPLE_20190322.csv\n",
      "LOCAL_PEOPLE_20190309.csv\n",
      "LOCAL_PEOPLE_20190316.csv\n",
      "LOCAL_PEOPLE_20190327.csv\n"
     ]
    },
    {
     "name": "stderr",
     "output_type": "stream",
     "text": [
      "C:\\Users\\Main\\Anaconda3\\lib\\site-packages\\ipykernel_launcher.py:17: SettingWithCopyWarning: \n",
      "A value is trying to be set on a copy of a slice from a DataFrame.\n",
      "Try using .loc[row_indexer,col_indexer] = value instead\n",
      "\n",
      "See the caveats in the documentation: http://pandas.pydata.org/pandas-docs/stable/user_guide/indexing.html#returning-a-view-versus-a-copy\n"
     ]
    }
   ],
   "source": [
    "curDir = os.getcwd()\n",
    "zf = zipfile.ZipFile(curDir + '\\\\LOCAL_PEOPLE_201903.zip')\n",
    "text_files = zf.infolist()\n",
    "list_ = []\n",
    "for text_file in text_files:\n",
    "    print(text_file.filename)\n",
    "    df3 = pd.read_csv(zf.open(text_file.filename)).replace('*', 0)\n",
    "    list_.append(df3)\n",
    "df3 = pd.concat(list_)\n",
    "df3.iloc[:, 4:] = df3.iloc[:, 4:].astype(int)\n",
    "df3_a = df3.iloc[:,:4]\n",
    "df3_a['20_35_total'] = df3.iloc[:,twenty_to_thirtyfive].sum(axis=1)\n",
    "df3_a['35_50_total'] = df3.iloc[:,thirtyfive_to_fifty].sum(axis=1)\n",
    "df3_a['50_65_total'] = df3.iloc[:,fifty_to_sixtyfive].sum(axis=1)\n",
    "df3_a['기준일ID'] = df3_a['기준일ID'].astype(str)\n",
    "blank = df3_a[df3_a['기준일ID']=='20190304']\n",
    "blank['기준일ID'] = '20190311'\n",
    "df3_a = df3_a[(df3_a['기준일ID'] != '20190215') & (df3_a['기준일ID'] != '20190311')]\n",
    "df3_a = pd.concat([df3_a, blank])"
   ]
  },
  {
   "cell_type": "code",
   "execution_count": 27,
   "metadata": {},
   "outputs": [
    {
     "name": "stdout",
     "output_type": "stream",
     "text": [
      "LOCAL_PEOPLE_20190421.csv\n",
      "LOCAL_PEOPLE_20190410.csv\n",
      "LOCAL_PEOPLE_20190402.csv\n",
      "LOCAL_PEOPLE_20190427.csv\n",
      "LOCAL_PEOPLE_20190422.csv\n",
      "LOCAL_PEOPLE_20190413.csv\n",
      "LOCAL_PEOPLE_20190428.csv\n",
      "LOCAL_PEOPLE_20190416.csv\n",
      "LOCAL_PEOPLE_20190424.csv\n",
      "LOCAL_PEOPLE_20190403.csv\n",
      "LOCAL_PEOPLE_20190406.csv\n",
      "LOCAL_PEOPLE_20190412.csv\n",
      "LOCAL_PEOPLE_20190408.csv\n",
      "LOCAL_PEOPLE_20190411.csv\n",
      "LOCAL_PEOPLE_20190415.csv\n",
      "LOCAL_PEOPLE_20190417.csv\n",
      "LOCAL_PEOPLE_20190405.csv\n",
      "LOCAL_PEOPLE_20190404.csv\n",
      "LOCAL_PEOPLE_20190409.csv\n",
      "LOCAL_PEOPLE_20190418.csv\n",
      "LOCAL_PEOPLE_20190420.csv\n",
      "LOCAL_PEOPLE_20190426.csv\n",
      "LOCAL_PEOPLE_20190401.csv\n",
      "LOCAL_PEOPLE_20190430.csv\n",
      "LOCAL_PEOPLE_20190429.csv\n",
      "LOCAL_PEOPLE_20190407.csv\n",
      "LOCAL_PEOPLE_20190414.csv\n",
      "LOCAL_PEOPLE_20190419.csv\n",
      "LOCAL_PEOPLE_20190425.csv\n",
      "LOCAL_PEOPLE_20190423.csv\n"
     ]
    }
   ],
   "source": [
    "curDir = os.getcwd()\n",
    "zf = zipfile.ZipFile(curDir + '\\\\LOCAL_PEOPLE_201904.zip')\n",
    "text_files = zf.infolist()\n",
    "list_ = []\n",
    "for text_file in text_files:\n",
    "    print(text_file.filename)\n",
    "    df4 = pd.read_csv(zf.open(text_file.filename)).replace('*', 0)\n",
    "    list_.append(df4)\n",
    "df4 = pd.concat(list_)\n",
    "df4.iloc[:, 4:] = df4.iloc[:, 4:].astype(int)\n",
    "df4_a = df4.iloc[:,:4]\n",
    "df4_a['20_35_total'] = df4.iloc[:,twenty_to_thirtyfive].sum(axis=1)\n",
    "df4_a['35_50_total'] = df4.iloc[:,thirtyfive_to_fifty].sum(axis=1)\n",
    "df4_a['50_65_total'] = df4.iloc[:,fifty_to_sixtyfive].sum(axis=1)\n",
    "df4_a['기준일ID'] = df4_a['기준일ID'].astype(str)"
   ]
  },
  {
   "cell_type": "code",
   "execution_count": 30,
   "metadata": {},
   "outputs": [],
   "source": [
    "date_floating_population = pd.concat([df_a,df2_a,df3_a,df4_a])\n",
    "date_floating_population = date_floating_population.sort_values(by=['기준일ID','집계구코드'])\n",
    "date_floating_population.to_csv('population\\\\2019_stratified_floating_population.csv')"
   ]
  },
  {
   "cell_type": "code",
   "execution_count": 39,
   "metadata": {},
   "outputs": [
    {
     "ename": "NameError",
     "evalue": "name 'a2_a' is not defined",
     "output_type": "error",
     "traceback": [
      "\u001b[1;31m---------------------------------------------------------------------------\u001b[0m",
      "\u001b[1;31mNameError\u001b[0m                                 Traceback (most recent call last)",
      "\u001b[1;32m<ipython-input-39-e10cd3aeb90d>\u001b[0m in \u001b[0;36m<module>\u001b[1;34m\u001b[0m\n\u001b[1;32m----> 1\u001b[1;33m \u001b[0ma2_a\u001b[0m\u001b[1;33m.\u001b[0m\u001b[0mhead\u001b[0m\u001b[1;33m(\u001b[0m\u001b[1;33m)\u001b[0m\u001b[1;33m\u001b[0m\u001b[1;33m\u001b[0m\u001b[0m\n\u001b[0m",
      "\u001b[1;31mNameError\u001b[0m: name 'a2_a' is not defined"
     ]
    }
   ],
   "source": [
    "a2_a.head()"
   ]
  },
  {
   "cell_type": "code",
   "execution_count": 34,
   "metadata": {},
   "outputs": [
    {
     "name": "stdout",
     "output_type": "stream",
     "text": [
      "LOCAL_PEOPLE_20200119.csv\n",
      "LOCAL_PEOPLE_20200120.csv\n",
      "LOCAL_PEOPLE_20200121.csv\n",
      "LOCAL_PEOPLE_20200122.csv\n",
      "LOCAL_PEOPLE_20200123.csv\n",
      "LOCAL_PEOPLE_20200124.csv\n",
      "LOCAL_PEOPLE_20200125.csv\n",
      "LOCAL_PEOPLE_20200126.csv\n",
      "LOCAL_PEOPLE_20200127.csv\n",
      "LOCAL_PEOPLE_20200128.csv\n",
      "LOCAL_PEOPLE_20200129.csv\n",
      "LOCAL_PEOPLE_20200130.csv\n",
      "LOCAL_PEOPLE_20200131.csv\n",
      "LOCAL_PEOPLE_20200101.csv\n",
      "LOCAL_PEOPLE_20200102.csv\n",
      "LOCAL_PEOPLE_20200103.csv\n",
      "LOCAL_PEOPLE_20200104.csv\n",
      "LOCAL_PEOPLE_20200105.csv\n",
      "LOCAL_PEOPLE_20200106.csv\n",
      "LOCAL_PEOPLE_20200107.csv\n",
      "LOCAL_PEOPLE_20200108.csv\n",
      "LOCAL_PEOPLE_20200109.csv\n",
      "LOCAL_PEOPLE_20200110.csv\n",
      "LOCAL_PEOPLE_20200111.csv\n",
      "LOCAL_PEOPLE_20200112.csv\n",
      "LOCAL_PEOPLE_20200113.csv\n",
      "LOCAL_PEOPLE_20200114.csv\n",
      "LOCAL_PEOPLE_20200115.csv\n",
      "LOCAL_PEOPLE_20200116.csv\n",
      "LOCAL_PEOPLE_20200117.csv\n",
      "LOCAL_PEOPLE_20200118.csv\n"
     ]
    }
   ],
   "source": [
    "curDir = os.getcwd()\n",
    "zf = zipfile.ZipFile(curDir + '\\\\LOCAL_PEOPLE_202001.zip')\n",
    "text_files = zf.infolist()\n",
    "list_ = []\n",
    "for text_file in text_files:\n",
    "    print(text_file.filename)\n",
    "    a1 = pd.read_csv(zf.open(text_file.filename)).replace('*', 0)\n",
    "    list_.append(a1)\n",
    "a1 = pd.concat(list_)\n",
    "a1.iloc[:, 4:] = a1.iloc[:, 4:].astype(int)\n",
    "a1_a = a1.iloc[:,:4]\n",
    "a1_a['20_35_total'] = a1.iloc[:,twenty_to_thirtyfive].sum(axis=1)\n",
    "a1_a['35_50_total'] = a1.iloc[:,thirtyfive_to_fifty].sum(axis=1)\n",
    "a1_a['50_65_total'] = a1.iloc[:,fifty_to_sixtyfive].sum(axis=1)\n",
    "a1_a['기준일ID'] = a1_a['기준일ID'].astype(str)"
   ]
  },
  {
   "cell_type": "code",
   "execution_count": 40,
   "metadata": {},
   "outputs": [
    {
     "name": "stdout",
     "output_type": "stream",
     "text": [
      "LOCAL_PEOPLE_20200210.csv\n",
      "LOCAL_PEOPLE_20200217.csv\n",
      "LOCAL_PEOPLE_20200206.csv\n",
      "LOCAL_PEOPLE_20200228.csv\n",
      "LOCAL_PEOPLE_20200218.csv\n",
      "LOCAL_PEOPLE_20200222.csv\n",
      "LOCAL_PEOPLE_20200205.csv\n",
      "LOCAL_PEOPLE_20200226.csv\n",
      "LOCAL_PEOPLE_20200201.csv\n",
      "LOCAL_PEOPLE_20200202.csv\n",
      "LOCAL_PEOPLE_20200203.csv\n",
      "LOCAL_PEOPLE_20200216.csv\n",
      "LOCAL_PEOPLE_20200213.csv\n",
      "LOCAL_PEOPLE_20200214.csv\n",
      "LOCAL_PEOPLE_20200211.csv\n",
      "LOCAL_PEOPLE_20200221.csv\n",
      "LOCAL_PEOPLE_20200219.csv\n",
      "LOCAL_PEOPLE_20200204.csv\n",
      "LOCAL_PEOPLE_20200209.csv\n",
      "LOCAL_PEOPLE_20200224.csv\n",
      "LOCAL_PEOPLE_20200220.csv\n",
      "LOCAL_PEOPLE_20200215.csv\n",
      "LOCAL_PEOPLE_20200212.csv\n",
      "LOCAL_PEOPLE_20200208.csv\n",
      "LOCAL_PEOPLE_20200207.csv\n",
      "LOCAL_PEOPLE_20200225.csv\n",
      "LOCAL_PEOPLE_20200223.csv\n",
      "LOCAL_PEOPLE_20200227.csv\n",
      "LOCAL_PEOPLE_20200229.csv\n"
     ]
    },
    {
     "ename": "MemoryError",
     "evalue": "",
     "output_type": "error",
     "traceback": [
      "\u001b[1;31m---------------------------------------------------------------------------\u001b[0m",
      "\u001b[1;31mMemoryError\u001b[0m                               Traceback (most recent call last)",
      "\u001b[1;32m<ipython-input-40-ee7860bb031f>\u001b[0m in \u001b[0;36m<module>\u001b[1;34m\u001b[0m\n\u001b[0;32m     16\u001b[0m         \u001b[0mlist_\u001b[0m\u001b[1;33m.\u001b[0m\u001b[0mappend\u001b[0m\u001b[1;33m(\u001b[0m\u001b[0ma2\u001b[0m\u001b[1;33m)\u001b[0m\u001b[1;33m\u001b[0m\u001b[1;33m\u001b[0m\u001b[0m\n\u001b[0;32m     17\u001b[0m \u001b[0ma2\u001b[0m \u001b[1;33m=\u001b[0m \u001b[0mpd\u001b[0m\u001b[1;33m.\u001b[0m\u001b[0mconcat\u001b[0m\u001b[1;33m(\u001b[0m\u001b[0mlist_\u001b[0m\u001b[1;33m)\u001b[0m\u001b[1;33m\u001b[0m\u001b[1;33m\u001b[0m\u001b[0m\n\u001b[1;32m---> 18\u001b[1;33m \u001b[0ma2\u001b[0m\u001b[1;33m.\u001b[0m\u001b[0miloc\u001b[0m\u001b[1;33m[\u001b[0m\u001b[1;33m:\u001b[0m\u001b[1;33m,\u001b[0m \u001b[1;36m4\u001b[0m\u001b[1;33m:\u001b[0m\u001b[1;33m]\u001b[0m \u001b[1;33m=\u001b[0m \u001b[0ma2\u001b[0m\u001b[1;33m.\u001b[0m\u001b[0miloc\u001b[0m\u001b[1;33m[\u001b[0m\u001b[1;33m:\u001b[0m\u001b[1;33m,\u001b[0m \u001b[1;36m4\u001b[0m\u001b[1;33m:\u001b[0m\u001b[1;33m]\u001b[0m\u001b[1;33m.\u001b[0m\u001b[0mastype\u001b[0m\u001b[1;33m(\u001b[0m\u001b[0mfloat\u001b[0m\u001b[1;33m)\u001b[0m\u001b[1;33m\u001b[0m\u001b[1;33m\u001b[0m\u001b[0m\n\u001b[0m\u001b[0;32m     19\u001b[0m \u001b[0ma2\u001b[0m\u001b[1;33m.\u001b[0m\u001b[0miloc\u001b[0m\u001b[1;33m[\u001b[0m\u001b[1;33m:\u001b[0m\u001b[1;33m,\u001b[0m \u001b[1;36m4\u001b[0m\u001b[1;33m:\u001b[0m\u001b[1;33m]\u001b[0m \u001b[1;33m=\u001b[0m \u001b[0ma2\u001b[0m\u001b[1;33m.\u001b[0m\u001b[0miloc\u001b[0m\u001b[1;33m[\u001b[0m\u001b[1;33m:\u001b[0m\u001b[1;33m,\u001b[0m \u001b[1;36m4\u001b[0m\u001b[1;33m:\u001b[0m\u001b[1;33m]\u001b[0m\u001b[1;33m.\u001b[0m\u001b[0mastype\u001b[0m\u001b[1;33m(\u001b[0m\u001b[0mint\u001b[0m\u001b[1;33m)\u001b[0m\u001b[1;33m\u001b[0m\u001b[1;33m\u001b[0m\u001b[0m\n\u001b[0;32m     20\u001b[0m \u001b[0ma2_a\u001b[0m \u001b[1;33m=\u001b[0m \u001b[0ma2\u001b[0m\u001b[1;33m.\u001b[0m\u001b[0miloc\u001b[0m\u001b[1;33m[\u001b[0m\u001b[1;33m:\u001b[0m\u001b[1;33m,\u001b[0m\u001b[1;33m:\u001b[0m\u001b[1;36m4\u001b[0m\u001b[1;33m]\u001b[0m\u001b[1;33m\u001b[0m\u001b[1;33m\u001b[0m\u001b[0m\n",
      "\u001b[1;32m~\\Anaconda3\\lib\\site-packages\\pandas\\core\\generic.py\u001b[0m in \u001b[0;36mastype\u001b[1;34m(self, dtype, copy, errors, **kwargs)\u001b[0m\n\u001b[0;32m   5880\u001b[0m             \u001b[1;31m# else, only a single dtype is given\u001b[0m\u001b[1;33m\u001b[0m\u001b[1;33m\u001b[0m\u001b[1;33m\u001b[0m\u001b[0m\n\u001b[0;32m   5881\u001b[0m             new_data = self._data.astype(\n\u001b[1;32m-> 5882\u001b[1;33m                 \u001b[0mdtype\u001b[0m\u001b[1;33m=\u001b[0m\u001b[0mdtype\u001b[0m\u001b[1;33m,\u001b[0m \u001b[0mcopy\u001b[0m\u001b[1;33m=\u001b[0m\u001b[0mcopy\u001b[0m\u001b[1;33m,\u001b[0m \u001b[0merrors\u001b[0m\u001b[1;33m=\u001b[0m\u001b[0merrors\u001b[0m\u001b[1;33m,\u001b[0m \u001b[1;33m**\u001b[0m\u001b[0mkwargs\u001b[0m\u001b[1;33m\u001b[0m\u001b[1;33m\u001b[0m\u001b[0m\n\u001b[0m\u001b[0;32m   5883\u001b[0m             )\n\u001b[0;32m   5884\u001b[0m             \u001b[1;32mreturn\u001b[0m \u001b[0mself\u001b[0m\u001b[1;33m.\u001b[0m\u001b[0m_constructor\u001b[0m\u001b[1;33m(\u001b[0m\u001b[0mnew_data\u001b[0m\u001b[1;33m)\u001b[0m\u001b[1;33m.\u001b[0m\u001b[0m__finalize__\u001b[0m\u001b[1;33m(\u001b[0m\u001b[0mself\u001b[0m\u001b[1;33m)\u001b[0m\u001b[1;33m\u001b[0m\u001b[1;33m\u001b[0m\u001b[0m\n",
      "\u001b[1;32m~\\Anaconda3\\lib\\site-packages\\pandas\\core\\internals\\managers.py\u001b[0m in \u001b[0;36mastype\u001b[1;34m(self, dtype, **kwargs)\u001b[0m\n\u001b[0;32m    579\u001b[0m \u001b[1;33m\u001b[0m\u001b[0m\n\u001b[0;32m    580\u001b[0m     \u001b[1;32mdef\u001b[0m \u001b[0mastype\u001b[0m\u001b[1;33m(\u001b[0m\u001b[0mself\u001b[0m\u001b[1;33m,\u001b[0m \u001b[0mdtype\u001b[0m\u001b[1;33m,\u001b[0m \u001b[1;33m**\u001b[0m\u001b[0mkwargs\u001b[0m\u001b[1;33m)\u001b[0m\u001b[1;33m:\u001b[0m\u001b[1;33m\u001b[0m\u001b[1;33m\u001b[0m\u001b[0m\n\u001b[1;32m--> 581\u001b[1;33m         \u001b[1;32mreturn\u001b[0m \u001b[0mself\u001b[0m\u001b[1;33m.\u001b[0m\u001b[0mapply\u001b[0m\u001b[1;33m(\u001b[0m\u001b[1;34m\"astype\"\u001b[0m\u001b[1;33m,\u001b[0m \u001b[0mdtype\u001b[0m\u001b[1;33m=\u001b[0m\u001b[0mdtype\u001b[0m\u001b[1;33m,\u001b[0m \u001b[1;33m**\u001b[0m\u001b[0mkwargs\u001b[0m\u001b[1;33m)\u001b[0m\u001b[1;33m\u001b[0m\u001b[1;33m\u001b[0m\u001b[0m\n\u001b[0m\u001b[0;32m    582\u001b[0m \u001b[1;33m\u001b[0m\u001b[0m\n\u001b[0;32m    583\u001b[0m     \u001b[1;32mdef\u001b[0m \u001b[0mconvert\u001b[0m\u001b[1;33m(\u001b[0m\u001b[0mself\u001b[0m\u001b[1;33m,\u001b[0m \u001b[1;33m**\u001b[0m\u001b[0mkwargs\u001b[0m\u001b[1;33m)\u001b[0m\u001b[1;33m:\u001b[0m\u001b[1;33m\u001b[0m\u001b[1;33m\u001b[0m\u001b[0m\n",
      "\u001b[1;32m~\\Anaconda3\\lib\\site-packages\\pandas\\core\\internals\\managers.py\u001b[0m in \u001b[0;36mapply\u001b[1;34m(self, f, axes, filter, do_integrity_check, consolidate, **kwargs)\u001b[0m\n\u001b[0;32m    444\u001b[0m             \u001b[0mresult_blocks\u001b[0m\u001b[1;33m,\u001b[0m \u001b[0maxes\u001b[0m \u001b[1;32mor\u001b[0m \u001b[0mself\u001b[0m\u001b[1;33m.\u001b[0m\u001b[0maxes\u001b[0m\u001b[1;33m,\u001b[0m \u001b[0mdo_integrity_check\u001b[0m\u001b[1;33m=\u001b[0m\u001b[0mdo_integrity_check\u001b[0m\u001b[1;33m\u001b[0m\u001b[1;33m\u001b[0m\u001b[0m\n\u001b[0;32m    445\u001b[0m         )\n\u001b[1;32m--> 446\u001b[1;33m         \u001b[0mbm\u001b[0m\u001b[1;33m.\u001b[0m\u001b[0m_consolidate_inplace\u001b[0m\u001b[1;33m(\u001b[0m\u001b[1;33m)\u001b[0m\u001b[1;33m\u001b[0m\u001b[1;33m\u001b[0m\u001b[0m\n\u001b[0m\u001b[0;32m    447\u001b[0m         \u001b[1;32mreturn\u001b[0m \u001b[0mbm\u001b[0m\u001b[1;33m\u001b[0m\u001b[1;33m\u001b[0m\u001b[0m\n\u001b[0;32m    448\u001b[0m \u001b[1;33m\u001b[0m\u001b[0m\n",
      "\u001b[1;32m~\\Anaconda3\\lib\\site-packages\\pandas\\core\\internals\\managers.py\u001b[0m in \u001b[0;36m_consolidate_inplace\u001b[1;34m(self)\u001b[0m\n\u001b[0;32m    935\u001b[0m     \u001b[1;32mdef\u001b[0m \u001b[0m_consolidate_inplace\u001b[0m\u001b[1;33m(\u001b[0m\u001b[0mself\u001b[0m\u001b[1;33m)\u001b[0m\u001b[1;33m:\u001b[0m\u001b[1;33m\u001b[0m\u001b[1;33m\u001b[0m\u001b[0m\n\u001b[0;32m    936\u001b[0m         \u001b[1;32mif\u001b[0m \u001b[1;32mnot\u001b[0m \u001b[0mself\u001b[0m\u001b[1;33m.\u001b[0m\u001b[0mis_consolidated\u001b[0m\u001b[1;33m(\u001b[0m\u001b[1;33m)\u001b[0m\u001b[1;33m:\u001b[0m\u001b[1;33m\u001b[0m\u001b[1;33m\u001b[0m\u001b[0m\n\u001b[1;32m--> 937\u001b[1;33m             \u001b[0mself\u001b[0m\u001b[1;33m.\u001b[0m\u001b[0mblocks\u001b[0m \u001b[1;33m=\u001b[0m \u001b[0mtuple\u001b[0m\u001b[1;33m(\u001b[0m\u001b[0m_consolidate\u001b[0m\u001b[1;33m(\u001b[0m\u001b[0mself\u001b[0m\u001b[1;33m.\u001b[0m\u001b[0mblocks\u001b[0m\u001b[1;33m)\u001b[0m\u001b[1;33m)\u001b[0m\u001b[1;33m\u001b[0m\u001b[1;33m\u001b[0m\u001b[0m\n\u001b[0m\u001b[0;32m    938\u001b[0m             \u001b[0mself\u001b[0m\u001b[1;33m.\u001b[0m\u001b[0m_is_consolidated\u001b[0m \u001b[1;33m=\u001b[0m \u001b[1;32mTrue\u001b[0m\u001b[1;33m\u001b[0m\u001b[1;33m\u001b[0m\u001b[0m\n\u001b[0;32m    939\u001b[0m             \u001b[0mself\u001b[0m\u001b[1;33m.\u001b[0m\u001b[0m_known_consolidated\u001b[0m \u001b[1;33m=\u001b[0m \u001b[1;32mTrue\u001b[0m\u001b[1;33m\u001b[0m\u001b[1;33m\u001b[0m\u001b[0m\n",
      "\u001b[1;32m~\\Anaconda3\\lib\\site-packages\\pandas\\core\\internals\\managers.py\u001b[0m in \u001b[0;36m_consolidate\u001b[1;34m(blocks)\u001b[0m\n\u001b[0;32m   1911\u001b[0m     \u001b[1;32mfor\u001b[0m \u001b[1;33m(\u001b[0m\u001b[0m_can_consolidate\u001b[0m\u001b[1;33m,\u001b[0m \u001b[0mdtype\u001b[0m\u001b[1;33m)\u001b[0m\u001b[1;33m,\u001b[0m \u001b[0mgroup_blocks\u001b[0m \u001b[1;32min\u001b[0m \u001b[0mgrouper\u001b[0m\u001b[1;33m:\u001b[0m\u001b[1;33m\u001b[0m\u001b[1;33m\u001b[0m\u001b[0m\n\u001b[0;32m   1912\u001b[0m         merged_blocks = _merge_blocks(\n\u001b[1;32m-> 1913\u001b[1;33m             \u001b[0mlist\u001b[0m\u001b[1;33m(\u001b[0m\u001b[0mgroup_blocks\u001b[0m\u001b[1;33m)\u001b[0m\u001b[1;33m,\u001b[0m \u001b[0mdtype\u001b[0m\u001b[1;33m=\u001b[0m\u001b[0mdtype\u001b[0m\u001b[1;33m,\u001b[0m \u001b[0m_can_consolidate\u001b[0m\u001b[1;33m=\u001b[0m\u001b[0m_can_consolidate\u001b[0m\u001b[1;33m\u001b[0m\u001b[1;33m\u001b[0m\u001b[0m\n\u001b[0m\u001b[0;32m   1914\u001b[0m         )\n\u001b[0;32m   1915\u001b[0m         \u001b[0mnew_blocks\u001b[0m \u001b[1;33m=\u001b[0m \u001b[0m_extend_blocks\u001b[0m\u001b[1;33m(\u001b[0m\u001b[0mmerged_blocks\u001b[0m\u001b[1;33m,\u001b[0m \u001b[0mnew_blocks\u001b[0m\u001b[1;33m)\u001b[0m\u001b[1;33m\u001b[0m\u001b[1;33m\u001b[0m\u001b[0m\n",
      "\u001b[1;32m~\\Anaconda3\\lib\\site-packages\\pandas\\core\\internals\\blocks.py\u001b[0m in \u001b[0;36m_merge_blocks\u001b[1;34m(blocks, dtype, _can_consolidate)\u001b[0m\n\u001b[0;32m   3321\u001b[0m \u001b[1;33m\u001b[0m\u001b[0m\n\u001b[0;32m   3322\u001b[0m         \u001b[0margsort\u001b[0m \u001b[1;33m=\u001b[0m \u001b[0mnp\u001b[0m\u001b[1;33m.\u001b[0m\u001b[0margsort\u001b[0m\u001b[1;33m(\u001b[0m\u001b[0mnew_mgr_locs\u001b[0m\u001b[1;33m)\u001b[0m\u001b[1;33m\u001b[0m\u001b[1;33m\u001b[0m\u001b[0m\n\u001b[1;32m-> 3323\u001b[1;33m         \u001b[0mnew_values\u001b[0m \u001b[1;33m=\u001b[0m \u001b[0mnew_values\u001b[0m\u001b[1;33m[\u001b[0m\u001b[0margsort\u001b[0m\u001b[1;33m]\u001b[0m\u001b[1;33m\u001b[0m\u001b[1;33m\u001b[0m\u001b[0m\n\u001b[0m\u001b[0;32m   3324\u001b[0m         \u001b[0mnew_mgr_locs\u001b[0m \u001b[1;33m=\u001b[0m \u001b[0mnew_mgr_locs\u001b[0m\u001b[1;33m[\u001b[0m\u001b[0margsort\u001b[0m\u001b[1;33m]\u001b[0m\u001b[1;33m\u001b[0m\u001b[1;33m\u001b[0m\u001b[0m\n\u001b[0;32m   3325\u001b[0m \u001b[1;33m\u001b[0m\u001b[0m\n",
      "\u001b[1;31mMemoryError\u001b[0m: "
     ]
    }
   ],
   "source": [
    "curDir = os.getcwd()\n",
    "zf = zipfile.ZipFile(curDir + '\\\\LOCAL_PEOPLE_202002.zip')\n",
    "text_files = zf.infolist()\n",
    "list_ = []\n",
    "for text_file in text_files:\n",
    "    date = text_file.filename\n",
    "    date = date[19:21]\n",
    "    if int(date) < 17:\n",
    "        print(text_file.filename)\n",
    "        a2 = pd.read_csv(zf.open(text_file.filename)).replace('*', 0)\n",
    "        list_.append(a2)\n",
    "    else:\n",
    "        print(text_file.filename)\n",
    "        a2 = pd.read_csv(zf.open(text_file.filename), encoding='cp949').replace('*', 0)\n",
    "        a2 = a2.rename(columns={'?\"기준일ID\"': '기준일ID'})\n",
    "        list_.append(a2)\n",
    "a2 = pd.concat(list_)\n",
    "a2.iloc[:, 4:] = a2.iloc[:, 4:].astype(float)\n",
    "a2.iloc[:, 4:] = a2.iloc[:, 4:].astype(int)\n",
    "a2_a = a2.iloc[:,:4]\n",
    "a2_a['20_35_total'] = a2.iloc[:,twenty_to_thirtyfive].sum(axis=1)\n",
    "a2_a['35_50_total'] = a2.iloc[:,thirtyfive_to_fifty].sum(axis=1)\n",
    "a2_a['50_65_total'] = a2.iloc[:,fifty_to_sixtyfive].sum(axis=1)\n",
    "a2_a['기준일ID'] = a2_a['기준일ID'].astype(str)"
   ]
  },
  {
   "cell_type": "code",
   "execution_count": null,
   "metadata": {},
   "outputs": [],
   "source": [
    "curDir = os.getcwd()\n",
    "zf = zipfile.ZipFile(curDir + '\\\\LOCAL_PEOPLE_202003.zip')\n",
    "text_files = zf.infolist()\n",
    "list_ = []\n",
    "for text_file in text_files:\n",
    "    print(text_file.filename)\n",
    "    a3 = pd.read_csv(zf.open(text_file.filename), encoding='cp949').replace('*', 0)\n",
    "    a3 = a3.rename(columns={'?\"기준일ID\"': '기준일ID'})\n",
    "    list_.append(a3)\n",
    "a3 = pd.concat(list_)\n",
    "a3.iloc[:, 4:] = a3.iloc[:, 4:].astype(float)\n",
    "a3.iloc[:, 4:] = a3.iloc[:, 4:].astype(int)\n",
    "a3_a = a3.iloc[:,:4]\n",
    "a3_a['20_35_total'] = a3.iloc[:,twenty_to_thirtyfive].sum(axis=1)\n",
    "a3_a['35_50_total'] = a3.iloc[:,thirtyfive_to_fifty].sum(axis=1)\n",
    "a3_a['50_65_total'] = a3.iloc[:,fifty_to_sixtyfive].sum(axis=1)\n",
    "a3_a['기준일ID'] = a3_a['기준일ID'].astype(str)"
   ]
  },
  {
   "cell_type": "code",
   "execution_count": null,
   "metadata": {},
   "outputs": [],
   "source": [
    "curDir = os.getcwd()\n",
    "directory = os.listdir(curDir + '\\\\202004')\n",
    "list_ = []\n",
    "for zipf in directory:\n",
    "    zf = zipfile.ZipFile(curDir + '\\\\202004' + '\\\\' + zipf)\n",
    "    text_files = zf.infolist()\n",
    "    for text_file in text_files:\n",
    "        print(text_file.filename)\n",
    "        a4 = pd.read_csv(zf.open(text_file.filename), encoding='cp949').replace('*', 0)\n",
    "        a4 = a4.rename(columns={'?\"기준일ID\"': '기준일ID'})\n",
    "        list_.append(a4)\n",
    "a4 = pd.concat(list_)\n",
    "a4.iloc[:, 4:] = a4.iloc[:, 4:].astype(float)\n",
    "a4.iloc[:, 4:] = a4.iloc[:, 4:].astype(int)\n",
    "a4_a = a4.iloc[:,:4]\n",
    "a4_a['20_35_total'] = a4.iloc[:,twenty_to_thirtyfive].sum(axis=1)\n",
    "a4_a['35_50_total'] = a4.iloc[:,thirtyfive_to_fifty].sum(axis=1)\n",
    "a4_a['50_65_total'] = a4.iloc[:,fifty_to_sixtyfive].sum(axis=1)\n",
    "a4_a['기준일ID'] = a4_a['기준일ID'].astype(str)"
   ]
  },
  {
   "cell_type": "code",
   "execution_count": null,
   "metadata": {},
   "outputs": [],
   "source": [
    "date_floating_population_2020 = pd.concat([a1_a,a2_a,a3_a,a4_a])\n",
    "date_floating_population_2020 = date_floating_population_2020.sort_values(by=['기준일ID','집계구코드'])\n",
    "date_floating_population_2020.to_csv('population\\\\2020_stratified_floating_population.csv')"
   ]
  }
 ],
 "metadata": {
  "kernelspec": {
   "display_name": "Python 3",
   "language": "python",
   "name": "python3"
  },
  "language_info": {
   "codemirror_mode": {
    "name": "ipython",
    "version": 3
   },
   "file_extension": ".py",
   "mimetype": "text/x-python",
   "name": "python",
   "nbconvert_exporter": "python",
   "pygments_lexer": "ipython3",
   "version": "3.7.4"
  }
 },
 "nbformat": 4,
 "nbformat_minor": 4
}
