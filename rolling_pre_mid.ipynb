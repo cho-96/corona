{
 "cells": [
  {
   "cell_type": "code",
   "execution_count": 1,
   "metadata": {},
   "outputs": [],
   "source": [
    "import pandas as pd\n",
    "covid = pd.read_csv('COVID19_nation_180.csv')\n",
    "pre_confirmed = covid[['Airport', 'Incheon', 'Seoul', 'Gyeonggi', 'Gangwon','Gyeongbuk', 'Daegu', 'Gyeongnam', 'Busan', 'Ulsan', 'Chungbuk','Sejong', 'Daejeon', 'Chungnam', 'Jeonbuk', 'Gwangju', 'Jeonnam','Jeju', 'Seoul_Metro', 'Gyeongsang Province', 'Chungcheong Province','Jeolla Province', 'nation']].rolling(7,min_periods=1).mean()\n",
    "pre_confirmed[['day','date']] = covid[['day','date']]\n",
    "pre_confirmed = pre_confirmed[['day', 'date', 'Airport', 'Incheon', 'Seoul', 'Gyeonggi', 'Gangwon',\n",
    "       'Gyeongbuk', 'Daegu', 'Gyeongnam', 'Busan', 'Ulsan', 'Chungbuk',\n",
    "       'Sejong', 'Daejeon', 'Chungnam', 'Jeonbuk', 'Gwangju', 'Jeonnam',\n",
    "       'Jeju', 'Seoul_Metro', 'Gyeongsang Province', 'Chungcheong Province',\n",
    "       'Jeolla Province', 'nation']]\n",
    "mid_confirmed = covid[['Airport', 'Incheon', 'Seoul', 'Gyeonggi', 'Gangwon','Gyeongbuk', 'Daegu', 'Gyeongnam', 'Busan', 'Ulsan', 'Chungbuk','Sejong', 'Daejeon', 'Chungnam', 'Jeonbuk', 'Gwangju', 'Jeonnam','Jeju', 'Seoul_Metro', 'Gyeongsang Province', 'Chungcheong Province','Jeolla Province', 'nation']].rolling(7,min_periods=1,center=True).mean()\n",
    "mid_confirmed[['day','date']]=covid[['day','date']]\n",
    "mid_confirmed = mid_confirmed[['day', 'date', 'Airport', 'Incheon', 'Seoul', 'Gyeonggi', 'Gangwon',\n",
    "       'Gyeongbuk', 'Daegu', 'Gyeongnam', 'Busan', 'Ulsan', 'Chungbuk',\n",
    "       'Sejong', 'Daejeon', 'Chungnam', 'Jeonbuk', 'Gwangju', 'Jeonnam',\n",
    "       'Jeju', 'Seoul_Metro', 'Gyeongsang Province', 'Chungcheong Province',\n",
    "       'Jeolla Province', 'nation']]\n",
    "pre_confirmed.to_csv('COVID19_nation_7day_180.csv', index=False)\n",
    "mid_confirmed.to_csv('COVID19_nation_7day_mid_180.csv', index=False)"
   ]
  },
  {
   "cell_type": "code",
   "execution_count": 2,
   "metadata": {},
   "outputs": [],
   "source": [
    "covid = pd.read_csv('COVID19_nation_183.csv')\n",
    "pre_confirmed = covid[['Airport', 'Incheon', 'Seoul', 'Gyeonggi', 'Gangwon','Gyeongbuk', 'Daegu', 'Gyeongnam', 'Busan', 'Ulsan', 'Chungbuk','Sejong', 'Daejeon', 'Chungnam', 'Jeonbuk', 'Gwangju', 'Jeonnam','Jeju', 'Seoul_Metro', 'Gyeongsang Province', 'Chungcheong Province','Jeolla Province', 'nation']].rolling(7,min_periods=1).mean()\n",
    "pre_confirmed[['day','date']] = covid[['day','date']]\n",
    "pre_confirmed = pre_confirmed[['day', 'date', 'Airport', 'Incheon', 'Seoul', 'Gyeonggi', 'Gangwon',\n",
    "       'Gyeongbuk', 'Daegu', 'Gyeongnam', 'Busan', 'Ulsan', 'Chungbuk',\n",
    "       'Sejong', 'Daejeon', 'Chungnam', 'Jeonbuk', 'Gwangju', 'Jeonnam',\n",
    "       'Jeju', 'Seoul_Metro', 'Gyeongsang Province', 'Chungcheong Province',\n",
    "       'Jeolla Province', 'nation']]\n",
    "mid_confirmed = covid[['Airport', 'Incheon', 'Seoul', 'Gyeonggi', 'Gangwon','Gyeongbuk', 'Daegu', 'Gyeongnam', 'Busan', 'Ulsan', 'Chungbuk','Sejong', 'Daejeon', 'Chungnam', 'Jeonbuk', 'Gwangju', 'Jeonnam','Jeju', 'Seoul_Metro', 'Gyeongsang Province', 'Chungcheong Province','Jeolla Province', 'nation']].rolling(7,min_periods=1,center=True).mean()\n",
    "mid_confirmed[['day','date']]=covid[['day','date']]\n",
    "mid_confirmed = mid_confirmed[['day', 'date', 'Airport', 'Incheon', 'Seoul', 'Gyeonggi', 'Gangwon',\n",
    "       'Gyeongbuk', 'Daegu', 'Gyeongnam', 'Busan', 'Ulsan', 'Chungbuk',\n",
    "       'Sejong', 'Daejeon', 'Chungnam', 'Jeonbuk', 'Gwangju', 'Jeonnam',\n",
    "       'Jeju', 'Seoul_Metro', 'Gyeongsang Province', 'Chungcheong Province',\n",
    "       'Jeolla Province', 'nation']]\n",
    "pre_confirmed.to_csv('COVID19_nation_7day_183.csv', index=False)\n",
    "mid_confirmed.to_csv('COVID19_nation_7day_mid_183.csv', index=False)"
   ]
  },
  {
   "cell_type": "code",
   "execution_count": null,
   "metadata": {},
   "outputs": [],
   "source": []
  }
 ],
 "metadata": {
  "kernelspec": {
   "display_name": "Python 3",
   "language": "python",
   "name": "python3"
  },
  "language_info": {
   "codemirror_mode": {
    "name": "ipython",
    "version": 3
   },
   "file_extension": ".py",
   "mimetype": "text/x-python",
   "name": "python",
   "nbconvert_exporter": "python",
   "pygments_lexer": "ipython3",
   "version": "3.7.4"
  }
 },
 "nbformat": 4,
 "nbformat_minor": 4
}
