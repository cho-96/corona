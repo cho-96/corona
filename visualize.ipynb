{
 "cells": [
  {
   "cell_type": "code",
   "execution_count": 272,
   "metadata": {},
   "outputs": [],
   "source": [
    "import matplotlib as mpl\n",
    "import matplotlib.cm as cm\n",
    "import matplotlib.colors as mcol\n",
    "import numpy as np\n",
    "import matplotlib.pyplot as plt\n",
    "cmap = plt.cm.Reds\n",
    "def visualize_groups(class1, class2):\n",
    "    fig, ax = plt.subplots(figsize=(15,2))\n",
    "    plt.title('test count per million population')\n",
    "    img1 = ax.scatter(np.array(range(1,167)).astype('float')+0.5,  [2.3] * 166, c=class1, marker='_', lw=25, cmap=cmap, vmin=0, vmax=np.max(class2))\n",
    "    img2 = ax.scatter(np.array(range(1,167)).astype('float')+0.5,  [0.8] * 166, c=class2, marker='_', lw=25, cmap=cmap, vmin=0, vmax=np.max(class2))\n",
    "    ax.set(xlim=[1,167],ylim=[0,3], xticks=range(5,167,5), yticks=[2.3,0.8], yticklabels=['Nation','Seoul'], xlabel=\"Day\")\n",
    "    ax.spines['top'].set_visible(False)\n",
    "    ax.spines['right'].set_visible(False)\n",
    "    ax.spines['bottom'].set_visible(False)\n",
    "    ax.spines['left'].set_visible(False)\n",
    "#     ax2 = ax.twiny()\n",
    "#     ax2.xaxis.set_ticks_position(\"top\")\n",
    "#     ax2.xaxis.set_label_position(\"top\")\n",
    "#     ax2.set_frame_on(True)\n",
    "#     ax2.patch.set_visible(False)\n",
    "    \n",
    "#     for sp in ax2.spines.values():\n",
    "#         sp.set_visible(False)\n",
    "#     ax2.set(xlim=[0.5,150],ylim=[0,4.4], yticks=[4,3.4,2.8,2.2,1.6,1,0.4], yticklabels=['Nation','Airport','Seoul','Seoul_Metro','Gyeongsang Province','Chungcheong Province','Jeolla Province'])\n",
    "    \n",
    "    cbax1 = fig.add_axes([0.92, 0.13, 0.01, 0.8])\n",
    "    cbar1 = fig.colorbar(img2, cax=cbax1)\n"
   ]
  },
  {
   "cell_type": "code",
   "execution_count": 273,
   "metadata": {},
   "outputs": [],
   "source": [
    "def visualize_groups2(class1, class2):\n",
    "    fig, ax = plt.subplots(figsize=(15,2))\n",
    "    plt.title('confirmed case per test count')\n",
    "    img1 = ax.scatter(np.array(range(1,167)).astype('float')+0.5,  [2.3] * 166, c=class1, marker='_', lw=25, cmap=cmap, vmin=0, vmax=0.02)\n",
    "    img2 = ax.scatter(np.array(range(1,167)).astype('float')+0.5,  [0.8] * 166, c=class2, marker='_', lw=25, cmap=cmap, vmin=0, vmax=0.02)\n",
    "    ax.set(xlim=[1,167],ylim=[0,3], xticks=range(5,167,5), yticks=[2.3,0.8], yticklabels=['Nation','Seoul'], xlabel=\"Day\")\n",
    "    ax.spines['top'].set_visible(False)\n",
    "    ax.spines['right'].set_visible(False)\n",
    "    ax.spines['bottom'].set_visible(False)\n",
    "    ax.spines['left'].set_visible(False)\n",
    "#     ax2 = ax.twiny()\n",
    "#     ax2.xaxis.set_ticks_position(\"top\")\n",
    "#     ax2.xaxis.set_label_position(\"top\")\n",
    "#     ax2.set_frame_on(True)\n",
    "#     ax2.patch.set_visible(False)\n",
    "    \n",
    "#     for sp in ax2.spines.values():\n",
    "#         sp.set_visible(False)\n",
    "#     ax2.set(xlim=[0.5,150],ylim=[0,4.4], yticks=[4,3.4,2.8,2.2,1.6,1,0.4], yticklabels=['Nation','Airport','Seoul','Seoul_Metro','Gyeongsang Province','Chungcheong Province','Jeolla Province'])\n",
    "    cbax1 = fig.add_axes([0.92, 0.13, 0.01, 0.8]) \n",
    "    cbar = fig.colorbar(img2, ticks=[0,0.005,0.01,0.015,0.02], cax=cbax1)\n",
    "    cbar.set_ticklabels([\"0\",\"0.005\",\"0.01\",\"0.015\",\">=0.02\"])"
   ]
  },
  {
   "cell_type": "code",
   "execution_count": 286,
   "metadata": {},
   "outputs": [],
   "source": [
    "import matplotlib.cm as cm\n",
    "import matplotlib.colors as mcol\n",
    "import numpy as np\n",
    "import matplotlib.pyplot as plt\n",
    "bins=[0,5,10,25,50,100,250,2000]\n",
    "group_names = range(len(bins)-1)\n",
    "cmap = cm.get_cmap('Reds',lut=len(bins)+1)\n",
    "cmap_bounds = np.arange(-1,8) + 0.5\n",
    "norm = mcol.BoundaryNorm(cmap_bounds,cmap.N)\n",
    "def visualize_groups3(class1, class2, class3, class4, class5, class6, class7):\n",
    "    # Visualize dataset groups\n",
    "    class1 = np.digitize(class1,bins,right=True)\n",
    "    class2 = np.digitize(class2,bins,right=True)\n",
    "    class3 = np.digitize(class3,bins,right=True)\n",
    "    class4 = np.digitize(class4,bins,right=True)\n",
    "    class5 = np.digitize(class5,bins,right=True)\n",
    "    class6 = np.digitize(class6,bins,right=True)\n",
    "    class7 = np.digitize(class7,bins,right=True)\n",
    "    fig, ax = plt.subplots(figsize=(15,5))\n",
    "    ax.set_facecolor('white')\n",
    "    ax.scatter(np.array(range(1,169)).astype('float')+0.5,  [4] * 168, c=class1, marker='_', lw=25, cmap=cmap, norm=norm)\n",
    "    ax.scatter(np.array(range(1,169)).astype('float')+0.5,  [3.4] * 168, c=class2, marker='_', lw=25, cmap=cmap, norm=norm)\n",
    "    ax.scatter(np.array(range(1,169)).astype('float')+0.5,  [2.8] * 168, c=class3, marker='_', lw=25, cmap=cmap, norm=norm)\n",
    "    ax.scatter(np.array(range(1,169)).astype('float')+0.5,  [2.2] * 168, c=class4, marker='_', lw=25, cmap=cmap, norm=norm)\n",
    "    ax.scatter(np.array(range(1,169)).astype('float')+0.5,  [1.6] * 168, c=class5, marker='_', lw=25, cmap=cmap, norm=norm)\n",
    "    ax.scatter(np.array(range(1,169)).astype('float')+0.5,  [1] * 168, c=class6, marker='_', lw=25, cmap=cmap, norm=norm)\n",
    "    ax.scatter(np.array(range(1,169)).astype('float')+0.5,  [0.4] * 168, c=class7, marker='_', lw=25, cmap=cmap, norm=norm)\n",
    "    ax.set(xlim=[1,169],ylim=[0,4.4],xticks=range(5,169,5), yticks=[4,3.4,2.8,2.2,1.6,1,0.4], yticklabels=['Nation','Airport','Seoul','Seoul_Metro','Gyeongsang Province','Chungcheong Province','Jeolla Province'], xlabel=\"Day\")\n",
    "    ax.spines['top'].set_visible(False)\n",
    "    ax.spines['right'].set_visible(False)\n",
    "    ax.spines['bottom'].set_visible(False)\n",
    "    ax.spines['left'].set_visible(False)\n",
    "#     ax2 = ax.twiny()\n",
    "#     ax2.xaxis.set_ticks_position(\"top\")\n",
    "#     ax2.xaxis.set_label_position(\"top\")\n",
    "#     ax2.set_frame_on(True)\n",
    "#     ax2.patch.set_visible(False)\n",
    "    \n",
    "#     for sp in ax2.spines.values():\n",
    "#         sp.set_visible(False)\n",
    "#     ax2.set(xlim=[0.5,150],ylim=[0,4.4], yticks=[4,3.4,2.8,2.2,1.6,1,0.4], yticklabels=['Nation','Airport','Seoul','Seoul_Metro','Gyeongsang Province','Chungcheong Province','Jeolla Province'])\n",
    "    cbax1 = fig.add_axes([0.92, 0.13, 0.01, 0.7]) \n",
    "    cbar = fig.colorbar(cm.ScalarMappable(norm=norm, cmap=cmap),ticks=[0,1,2,3,4,5,6,7] , cax=cbax1)\n",
    "    cbar.set_ticklabels([\"no case\",\"1~5\",\"6~10\",\"11~25\",\"26~50\",\"51~100\",\"101~250\",\"> 250\"])"
   ]
  },
  {
   "cell_type": "code",
   "execution_count": 276,
   "metadata": {},
   "outputs": [],
   "source": [
    "import pandas as pd\n",
    "a = pd.read_csv('covid19_test_0706_rolling.csv')\n",
    "p = pd.read_csv('population.csv')\n",
    "p.columns = ['province','population']\n",
    "pop_nation = p.loc[p['province']=='nation','population'].values[0]\n",
    "pop_seoul = p.loc[p['province']=='Seoul','population'].values[0]\n",
    "a['test_ratio'] = a['test']/pop_nation*1000000\n",
    "a['test_ratio_seoul'] = a['test_seoul']/pop_seoul*1000000"
   ]
  },
  {
   "cell_type": "code",
   "execution_count": 277,
   "metadata": {},
   "outputs": [],
   "source": [
    "b = pd.read_csv('COVID19_nation_0706_rolling.csv')"
   ]
  },
  {
   "cell_type": "code",
   "execution_count": 280,
   "metadata": {},
   "outputs": [
    {
     "data": {
      "text/html": [
       "<div>\n",
       "<style scoped>\n",
       "    .dataframe tbody tr th:only-of-type {\n",
       "        vertical-align: middle;\n",
       "    }\n",
       "\n",
       "    .dataframe tbody tr th {\n",
       "        vertical-align: top;\n",
       "    }\n",
       "\n",
       "    .dataframe thead th {\n",
       "        text-align: right;\n",
       "    }\n",
       "</style>\n",
       "<table border=\"1\" class=\"dataframe\">\n",
       "  <thead>\n",
       "    <tr style=\"text-align: right;\">\n",
       "      <th></th>\n",
       "      <th>day</th>\n",
       "      <th>date</th>\n",
       "      <th>test</th>\n",
       "      <th>test_seoul</th>\n",
       "      <th>confirmed</th>\n",
       "      <th>confirmed_seoul</th>\n",
       "      <th>ratio</th>\n",
       "      <th>ratio_seoul</th>\n",
       "      <th>test_ratio</th>\n",
       "      <th>test_ratio_seoul</th>\n",
       "    </tr>\n",
       "  </thead>\n",
       "  <tbody>\n",
       "    <tr>\n",
       "      <td>0</td>\n",
       "      <td>1</td>\n",
       "      <td>2020-01-20</td>\n",
       "      <td>4.000000</td>\n",
       "      <td>0.0</td>\n",
       "      <td>1.000000</td>\n",
       "      <td>0.0</td>\n",
       "      <td>0.250000</td>\n",
       "      <td>0.0</td>\n",
       "      <td>0.077158</td>\n",
       "      <td>0.0</td>\n",
       "    </tr>\n",
       "    <tr>\n",
       "      <td>1</td>\n",
       "      <td>2</td>\n",
       "      <td>2020-01-21</td>\n",
       "      <td>5.500000</td>\n",
       "      <td>0.0</td>\n",
       "      <td>0.500000</td>\n",
       "      <td>0.0</td>\n",
       "      <td>0.125000</td>\n",
       "      <td>0.0</td>\n",
       "      <td>0.106093</td>\n",
       "      <td>0.0</td>\n",
       "    </tr>\n",
       "    <tr>\n",
       "      <td>2</td>\n",
       "      <td>3</td>\n",
       "      <td>2020-01-22</td>\n",
       "      <td>5.333333</td>\n",
       "      <td>0.0</td>\n",
       "      <td>0.333333</td>\n",
       "      <td>0.0</td>\n",
       "      <td>0.083333</td>\n",
       "      <td>0.0</td>\n",
       "      <td>0.102878</td>\n",
       "      <td>0.0</td>\n",
       "    </tr>\n",
       "    <tr>\n",
       "      <td>3</td>\n",
       "      <td>4</td>\n",
       "      <td>2020-01-23</td>\n",
       "      <td>5.500000</td>\n",
       "      <td>0.0</td>\n",
       "      <td>0.250000</td>\n",
       "      <td>0.0</td>\n",
       "      <td>0.062500</td>\n",
       "      <td>0.0</td>\n",
       "      <td>0.106093</td>\n",
       "      <td>0.0</td>\n",
       "    </tr>\n",
       "    <tr>\n",
       "      <td>4</td>\n",
       "      <td>5</td>\n",
       "      <td>2020-01-24</td>\n",
       "      <td>5.400000</td>\n",
       "      <td>0.0</td>\n",
       "      <td>0.400000</td>\n",
       "      <td>0.2</td>\n",
       "      <td>0.090000</td>\n",
       "      <td>0.0</td>\n",
       "      <td>0.104164</td>\n",
       "      <td>0.0</td>\n",
       "    </tr>\n",
       "  </tbody>\n",
       "</table>\n",
       "</div>"
      ],
      "text/plain": [
       "   day        date      test  test_seoul  confirmed  confirmed_seoul  \\\n",
       "0    1  2020-01-20  4.000000         0.0   1.000000              0.0   \n",
       "1    2  2020-01-21  5.500000         0.0   0.500000              0.0   \n",
       "2    3  2020-01-22  5.333333         0.0   0.333333              0.0   \n",
       "3    4  2020-01-23  5.500000         0.0   0.250000              0.0   \n",
       "4    5  2020-01-24  5.400000         0.0   0.400000              0.2   \n",
       "\n",
       "      ratio  ratio_seoul  test_ratio  test_ratio_seoul  \n",
       "0  0.250000          0.0    0.077158               0.0  \n",
       "1  0.125000          0.0    0.106093               0.0  \n",
       "2  0.083333          0.0    0.102878               0.0  \n",
       "3  0.062500          0.0    0.106093               0.0  \n",
       "4  0.090000          0.0    0.104164               0.0  "
      ]
     },
     "execution_count": 280,
     "metadata": {},
     "output_type": "execute_result"
    }
   ],
   "source": [
    "a.head()"
   ]
  },
  {
   "cell_type": "code",
   "execution_count": 279,
   "metadata": {},
   "outputs": [
    {
     "data": {
      "image/png": "[encoded data removed]",
      "text/plain": [
       "<Figure size 1080x144 with 2 Axes>"
      ]
     },
     "metadata": {
      "needs_background": "light"
     },
     "output_type": "display_data"
    }
   ],
   "source": [
    "visualize_groups(a['test_ratio'],a['test_ratio_seoul'])"
   ]
  },
  {
   "cell_type": "code",
   "execution_count": 281,
   "metadata": {},
   "outputs": [
    {
     "data": {
      "image/png": "[encoded data removed]",
      "text/plain": [
       "<Figure size 1080x144 with 2 Axes>"
      ]
     },
     "metadata": {
      "needs_background": "light"
     },
     "output_type": "display_data"
    }
   ],
   "source": [
    "visualize_groups2(a['ratio'],a['ratio_seoul'])"
   ]
  },
  {
   "cell_type": "code",
   "execution_count": 282,
   "metadata": {},
   "outputs": [],
   "source": [
    "nation = b['nation']\n",
    "airport = b['Airport']\n",
    "seoul = b['Seoul']\n",
    "seoul_metro = b['Seoul_Metro']\n",
    "Gyeongsang = b['Gyeongsang Province']\n",
    "Chungcheong = b['Chungcheong Province']\n",
    "Jeolla = b['Jeolla Province']"
   ]
  },
  {
   "cell_type": "code",
   "execution_count": 287,
   "metadata": {},
   "outputs": [
    {
     "data": {
      "image/png": "[encoded data removed]",
      "text/plain": [
       "<Figure size 1080x360 with 2 Axes>"
      ]
     },
     "metadata": {
      "needs_background": "light"
     },
     "output_type": "display_data"
    }
   ],
   "source": [
    "visualize_groups3(nation, airport, seoul, seoul_metro, Gyeongsang, Chungcheong, Jeolla)"
   ]
  },
  {
   "cell_type": "code",
   "execution_count": null,
   "metadata": {},
   "outputs": [],
   "source": []
  }
 ],
 "metadata": {
  "kernelspec": {
   "display_name": "Python 3",
   "language": "python",
   "name": "python3"
  },
  "language_info": {
   "codemirror_mode": {
    "name": "ipython",
    "version": 3
   },
   "file_extension": ".py",
   "mimetype": "text/x-python",
   "name": "python",
   "nbconvert_exporter": "python",
   "pygments_lexer": "ipython3",
   "version": "3.7.4"
  }
 },
 "nbformat": 4,
 "nbformat_minor": 4
}
