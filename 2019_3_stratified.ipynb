{
 "cells": [
  {
   "cell_type": "code",
   "execution_count": 1,
   "metadata": {},
   "outputs": [
    {
     "name": "stdout",
     "output_type": "stream",
     "text": [
      "LOCAL_PEOPLE_20190324.csv\n",
      "LOCAL_PEOPLE_20190313.csv\n",
      "LOCAL_PEOPLE_20190319.csv\n",
      "LOCAL_PEOPLE_20190301.csv\n",
      "LOCAL_PEOPLE_20190307.csv\n",
      "LOCAL_PEOPLE_20190321.csv\n",
      "LOCAL_PEOPLE_20190302.csv\n",
      "LOCAL_PEOPLE_20190308.csv\n",
      "LOCAL_PEOPLE_20190331.csv\n",
      "LOCAL_PEOPLE_20190312.csv\n",
      "LOCAL_PEOPLE_20190330.csv\n",
      "LOCAL_PEOPLE_20190315.csv\n",
      "LOCAL_PEOPLE_20190314.csv\n",
      "LOCAL_PEOPLE_20190325.csv\n",
      "LOCAL_PEOPLE_20190306.csv\n",
      "LOCAL_PEOPLE_20190320.csv\n",
      "LOCAL_PEOPLE_20190304.csv\n",
      "LOCAL_PEOPLE_20190329.csv\n",
      "LOCAL_PEOPLE_20190317.csv\n",
      "LOCAL_PEOPLE_20190305.csv\n",
      "LOCAL_PEOPLE_20190326.csv\n",
      "LOCAL_PEOPLE_20190328.csv\n",
      "LOCAL_PEOPLE_20190311.csv\n",
      "LOCAL_PEOPLE_20190303.csv\n",
      "LOCAL_PEOPLE_20190318.csv\n",
      "LOCAL_PEOPLE_20190323.csv\n",
      "LOCAL_PEOPLE_20190310.csv\n",
      "LOCAL_PEOPLE_20190322.csv\n",
      "LOCAL_PEOPLE_20190309.csv\n",
      "LOCAL_PEOPLE_20190316.csv\n",
      "LOCAL_PEOPLE_20190327.csv\n"
     ]
    },
    {
     "name": "stderr",
     "output_type": "stream",
     "text": [
      "C:\\Users\\Main\\Anaconda3\\lib\\site-packages\\ipykernel_launcher.py:37: SettingWithCopyWarning: \n",
      "A value is trying to be set on a copy of a slice from a DataFrame.\n",
      "Try using .loc[row_indexer,col_indexer] = value instead\n",
      "\n",
      "See the caveats in the documentation: http://pandas.pydata.org/pandas-docs/stable/user_guide/indexing.html#returning-a-view-versus-a-copy\n"
     ]
    }
   ],
   "source": [
    "import geopandas as gpd\n",
    "import numpy as np # linear algebra\n",
    "import pandas as pd # data processing, CSV file I/O (e.g. pd.read_csv)\n",
    "import seaborn as sns\n",
    "import matplotlib.pyplot as plt\n",
    "import datetime\n",
    "import os\n",
    "import zipfile\n",
    "curDir = os.getcwd()\n",
    "zf = zipfile.ZipFile(curDir + '\\\\LOCAL_PEOPLE_201903.zip')\n",
    "text_files = zf.infolist()\n",
    "list_ = []\n",
    "for text_file in text_files:\n",
    "    print(text_file.filename)\n",
    "    b1 = pd.read_csv(zf.open(text_file.filename), usecols=[0,1,2,3,8,9,10,22,23,24]).replace('*', 0)\n",
    "    b1.iloc[:, 4:] = b1.iloc[:, 4:].astype(float)\n",
    "    b1.iloc[:, 4:] = b1.iloc[:, 4:].astype(int)\n",
    "    a4 = b1.iloc[:,:4]\n",
    "    a4['20_35_total'] = b1.iloc[:,4:].sum(axis=1)\n",
    "    b2 = pd.read_csv(zf.open(text_file.filename), usecols=[11,12,13,25,26,27]).replace('*', 0)\n",
    "    b2.iloc[:, :] = b2.iloc[:, :].astype(float)\n",
    "    b2.iloc[:, :] = b2.iloc[:, :].astype(int)\n",
    "    a4['35_50_total'] = b2.iloc[:, :].sum(axis=1)\n",
    "    b3 = pd.read_csv(zf.open(text_file.filename), usecols=[14,15,16,28,29,30]).replace('*', 0)\n",
    "    b3.iloc[:, :] = b3.iloc[:, :].astype(float)\n",
    "    b3.iloc[:, :] = b3.iloc[:, :].astype(int)\n",
    "    a4['50_65_total'] = b3.iloc[:, :].sum(axis=1)\n",
    "    b4 = pd.read_csv(zf.open(text_file.filename), usecols=[17,18,31,32]).replace('*', 0)\n",
    "    b4.iloc[:, :] = b4.iloc[:, :].astype(float)\n",
    "    b4.iloc[:, :] = b4.iloc[:, :].astype(int)\n",
    "    a4['65+_total'] = b4.iloc[:, :].sum(axis=1)\n",
    "    a4 = a4.rename(columns={'?\"기준일ID\"': '기준일ID'})\n",
    "    list_.append(a4)\n",
    "a4 = pd.concat(list_)\n",
    "a4['기준일ID'] = a4['기준일ID'].astype(str)\n",
    "blank = a4[a4['기준일ID']=='20190304']\n",
    "blank['기준일ID'] = '20190311'\n",
    "a4 = a4[(a4['기준일ID'] != '20190215') & (a4['기준일ID'] != '20190311')]\n",
    "a4 = pd.concat([a4, blank])\n",
    "a4 = a4.sort_values(by=['기준일ID','집계구코드'])\n",
    "a4.to_csv('population\\\\2019_3_stratified_floating_population.csv')"
   ]
  },
  {
   "cell_type": "code",
   "execution_count": null,
   "metadata": {},
   "outputs": [],
   "source": []
  }
 ],
 "metadata": {
  "kernelspec": {
   "display_name": "Python 3",
   "language": "python",
   "name": "python3"
  },
  "language_info": {
   "codemirror_mode": {
    "name": "ipython",
    "version": 3
   },
   "file_extension": ".py",
   "mimetype": "text/x-python",
   "name": "python",
   "nbconvert_exporter": "python",
   "pygments_lexer": "ipython3",
   "version": "3.7.4"
  }
 },
 "nbformat": 4,
 "nbformat_minor": 4
}
