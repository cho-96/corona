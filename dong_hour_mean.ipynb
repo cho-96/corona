{
 "cells": [
  {
   "cell_type": "code",
   "execution_count": 1,
   "metadata": {},
   "outputs": [
    {
     "name": "stdout",
     "output_type": "stream",
     "text": [
      "LOCAL_PEOPLE_20190103.csv\n",
      "LOCAL_PEOPLE_20190124.csv\n",
      "LOCAL_PEOPLE_20190121.csv\n",
      "LOCAL_PEOPLE_20190106.csv\n",
      "LOCAL_PEOPLE_20190119.csv\n",
      "LOCAL_PEOPLE_20190113.csv\n",
      "LOCAL_PEOPLE_20190115.csv\n",
      "LOCAL_PEOPLE_20190131.csv\n",
      "LOCAL_PEOPLE_20190127.csv\n",
      "LOCAL_PEOPLE_20190122.csv\n",
      "LOCAL_PEOPLE_20190130.csv\n",
      "LOCAL_PEOPLE_20190110.csv\n",
      "LOCAL_PEOPLE_20190101.csv\n",
      "LOCAL_PEOPLE_20190112.csv\n",
      "LOCAL_PEOPLE_20190125.csv\n",
      "LOCAL_PEOPLE_20190104.csv\n",
      "LOCAL_PEOPLE_20190123.csv\n",
      "LOCAL_PEOPLE_20190109.csv\n",
      "LOCAL_PEOPLE_20190129.csv\n",
      "LOCAL_PEOPLE_20190114.csv\n",
      "LOCAL_PEOPLE_20190118.csv\n",
      "LOCAL_PEOPLE_20190111.csv\n",
      "LOCAL_PEOPLE_20190102.csv\n",
      "LOCAL_PEOPLE_20190108.csv\n",
      "LOCAL_PEOPLE_20190117.csv\n",
      "LOCAL_PEOPLE_20190107.csv\n",
      "LOCAL_PEOPLE_20190126.csv\n",
      "LOCAL_PEOPLE_20190105.csv\n",
      "LOCAL_PEOPLE_20190128.csv\n",
      "LOCAL_PEOPLE_20190116.csv\n",
      "LOCAL_PEOPLE_20190120.csv\n"
     ]
    }
   ],
   "source": [
    "import geopandas as gpd\n",
    "import numpy as np # linear algebra\n",
    "import pandas as pd # data processing, CSV file I/O (e.g. pd.read_csv)\n",
    "import seaborn as sns\n",
    "import matplotlib.pyplot as plt\n",
    "import datetime\n",
    "import os\n",
    "import zipfile\n",
    "curDir = os.getcwd()\n",
    "zf = zipfile.ZipFile(curDir + '\\\\LOCAL_PEOPLE_201901.zip')\n",
    "text_files = zf.infolist()\n",
    "list_ = []\n",
    "for text_file in text_files:\n",
    "    print(text_file.filename)\n",
    "    df = pd.read_csv(zf.open(text_file.filename), usecols=[0,1,2,3,4])\n",
    "    list_.append(df)\n",
    "df = pd.concat(list_)\n",
    "df.columns = ['기준일ID','시간대구분','행정동코드','집계구코드','총생활인구수']\n",
    "df = df.groupby(['기준일ID','시간대구분','행정동코드'])['총생활인구수'].agg('sum').reset_index()\n",
    "df['기준일ID'] = df['기준일ID'].astype(str)\n",
    "df['date'] = [x[6:] for x in df['기준일ID']]\n",
    "df.columns = ['wholedate','hour','dong','floating population','date']\n",
    "df['month'] = 1\n",
    "df['date'] = df['date'].astype(int)"
   ]
  },
  {
   "cell_type": "code",
   "execution_count": 2,
   "metadata": {},
   "outputs": [
    {
     "name": "stdout",
     "output_type": "stream",
     "text": [
      "LOCAL_PEOPLE_20200119.csv\n",
      "LOCAL_PEOPLE_20200120.csv\n",
      "LOCAL_PEOPLE_20200121.csv\n",
      "LOCAL_PEOPLE_20200122.csv\n",
      "LOCAL_PEOPLE_20200123.csv\n",
      "LOCAL_PEOPLE_20200124.csv\n",
      "LOCAL_PEOPLE_20200125.csv\n",
      "LOCAL_PEOPLE_20200126.csv\n",
      "LOCAL_PEOPLE_20200127.csv\n",
      "LOCAL_PEOPLE_20200128.csv\n",
      "LOCAL_PEOPLE_20200129.csv\n",
      "LOCAL_PEOPLE_20200130.csv\n",
      "LOCAL_PEOPLE_20200131.csv\n",
      "LOCAL_PEOPLE_20200101.csv\n",
      "LOCAL_PEOPLE_20200102.csv\n",
      "LOCAL_PEOPLE_20200103.csv\n",
      "LOCAL_PEOPLE_20200104.csv\n",
      "LOCAL_PEOPLE_20200105.csv\n",
      "LOCAL_PEOPLE_20200106.csv\n",
      "LOCAL_PEOPLE_20200107.csv\n",
      "LOCAL_PEOPLE_20200108.csv\n",
      "LOCAL_PEOPLE_20200109.csv\n",
      "LOCAL_PEOPLE_20200110.csv\n",
      "LOCAL_PEOPLE_20200111.csv\n",
      "LOCAL_PEOPLE_20200112.csv\n",
      "LOCAL_PEOPLE_20200113.csv\n",
      "LOCAL_PEOPLE_20200114.csv\n",
      "LOCAL_PEOPLE_20200115.csv\n",
      "LOCAL_PEOPLE_20200116.csv\n",
      "LOCAL_PEOPLE_20200117.csv\n",
      "LOCAL_PEOPLE_20200118.csv\n"
     ]
    }
   ],
   "source": [
    "curDir = os.getcwd()\n",
    "zf = zipfile.ZipFile(curDir + '\\\\LOCAL_PEOPLE_202001.zip')\n",
    "text_files = zf.infolist()\n",
    "list_ = []\n",
    "for text_file in text_files:\n",
    "    print(text_file.filename)\n",
    "    df1 = pd.read_csv(zf.open(text_file.filename), usecols=[0,1,2,3,4])\n",
    "    list_.append(df1)\n",
    "df1 = pd.concat(list_)\n",
    "df1.columns = ['기준일ID','시간대구분','행정동코드','집계구코드','총생활인구수']\n",
    "df1 = df1.groupby(['기준일ID','시간대구분','행정동코드'])['총생활인구수'].agg('sum')\n",
    "df1 = df1.reset_index()\n",
    "df1['기준일ID'] = df1['기준일ID'].astype(str)\n",
    "df1['date'] = [x[6:] for x in df1['기준일ID']]\n",
    "df1.columns = ['wholedate','hour','dong','floating population','date']\n",
    "df1['month'] = 1\n",
    "df1['date'] = df1['date'].astype(int)"
   ]
  },
  {
   "cell_type": "code",
   "execution_count": 3,
   "metadata": {},
   "outputs": [
    {
     "name": "stdout",
     "output_type": "stream",
     "text": [
      "LOCAL_PEOPLE_20190212.csv\n",
      "LOCAL_PEOPLE_20190210.csv\n",
      "LOCAL_PEOPLE_20190215.csv\n",
      "LOCAL_PEOPLE_20190209.csv\n",
      "LOCAL_PEOPLE_20190208.csv\n",
      "LOCAL_PEOPLE_20190202.csv\n",
      "LOCAL_PEOPLE_20190205.csv\n",
      "LOCAL_PEOPLE_20190218.csv\n",
      "LOCAL_PEOPLE_20190203.csv\n",
      "LOCAL_PEOPLE_20190222.csv\n",
      "LOCAL_PEOPLE_20190211.csv\n",
      "LOCAL_PEOPLE_20190217.csv\n",
      "LOCAL_PEOPLE_20190204.csv\n",
      "LOCAL_PEOPLE_20190224.csv\n",
      "LOCAL_PEOPLE_20190206.csv\n",
      "LOCAL_PEOPLE_20190201.csv\n",
      "LOCAL_PEOPLE_20190219.csv\n",
      "LOCAL_PEOPLE_20190216.csv\n",
      "LOCAL_PEOPLE_20190207.csv\n",
      "LOCAL_PEOPLE_20190213.csv\n",
      "LOCAL_PEOPLE_20190223.csv\n",
      "LOCAL_PEOPLE_20190214.csv\n",
      "LOCAL_PEOPLE_20190225.csv\n",
      "LOCAL_PEOPLE_20190228.csv\n",
      "LOCAL_PEOPLE_20190220.csv\n",
      "LOCAL_PEOPLE_20190226.csv\n",
      "LOCAL_PEOPLE_20190221.csv\n",
      "LOCAL_PEOPLE_20190227.csv\n"
     ]
    }
   ],
   "source": [
    "curDir = os.getcwd()\n",
    "zf = zipfile.ZipFile(curDir + '\\\\LOCAL_PEOPLE_201902.zip')\n",
    "text_files = zf.infolist()\n",
    "list_ = []\n",
    "for text_file in text_files:\n",
    "    print(text_file.filename)\n",
    "    df2 = pd.read_csv(zf.open(text_file.filename), usecols=[0,1,2,3,4])\n",
    "    list_.append(df2)\n",
    "df2 = pd.concat(list_)\n",
    "df2 = df2[['기준일ID','시간대구분','행정동코드','집계구코드','총생활인구수']]\n",
    "df2 = df2.groupby(['기준일ID','시간대구분','행정동코드'])['총생활인구수'].agg('sum').reset_index()\n",
    "df2['기준일ID'] = df2['기준일ID'].astype(str)\n",
    "df2['date'] = [x[6:] for x in df2['기준일ID']]\n",
    "df2.columns = ['wholedate','hour','dong','floating population','date']\n",
    "df2['month'] = 2\n",
    "df2['date'] = df2['date'].astype(int)"
   ]
  },
  {
   "cell_type": "code",
   "execution_count": 4,
   "metadata": {},
   "outputs": [
    {
     "name": "stdout",
     "output_type": "stream",
     "text": [
      "LOCAL_PEOPLE_20200210.csv\n",
      "LOCAL_PEOPLE_20200217.csv\n",
      "LOCAL_PEOPLE_20200206.csv\n",
      "LOCAL_PEOPLE_20200228.csv\n",
      "LOCAL_PEOPLE_20200218.csv\n",
      "LOCAL_PEOPLE_20200222.csv\n",
      "LOCAL_PEOPLE_20200205.csv\n",
      "LOCAL_PEOPLE_20200226.csv\n",
      "LOCAL_PEOPLE_20200201.csv\n",
      "LOCAL_PEOPLE_20200202.csv\n",
      "LOCAL_PEOPLE_20200203.csv\n",
      "LOCAL_PEOPLE_20200216.csv\n",
      "LOCAL_PEOPLE_20200213.csv\n",
      "LOCAL_PEOPLE_20200214.csv\n",
      "LOCAL_PEOPLE_20200211.csv\n",
      "LOCAL_PEOPLE_20200221.csv\n",
      "LOCAL_PEOPLE_20200219.csv\n",
      "LOCAL_PEOPLE_20200204.csv\n",
      "LOCAL_PEOPLE_20200209.csv\n",
      "LOCAL_PEOPLE_20200224.csv\n",
      "LOCAL_PEOPLE_20200220.csv\n",
      "LOCAL_PEOPLE_20200215.csv\n",
      "LOCAL_PEOPLE_20200212.csv\n",
      "LOCAL_PEOPLE_20200208.csv\n",
      "LOCAL_PEOPLE_20200207.csv\n",
      "LOCAL_PEOPLE_20200225.csv\n",
      "LOCAL_PEOPLE_20200223.csv\n",
      "LOCAL_PEOPLE_20200227.csv\n",
      "LOCAL_PEOPLE_20200229.csv\n"
     ]
    }
   ],
   "source": [
    "curDir = os.getcwd()\n",
    "zf = zipfile.ZipFile(curDir + '\\\\LOCAL_PEOPLE_202002.zip')\n",
    "text_files = zf.infolist()\n",
    "list_ = []\n",
    "for text_file in text_files:\n",
    "    date = text_file.filename\n",
    "    date = date[19:21]\n",
    "    if int(date) < 17:\n",
    "        print(text_file.filename)\n",
    "        df3 = pd.read_csv(zf.open(text_file.filename), usecols=[0,1,2,3,4])\n",
    "        list_.append(df3)\n",
    "    else:\n",
    "        print(text_file.filename)\n",
    "        df3 = pd.read_csv(zf.open(text_file.filename), encoding='cp949', usecols=[0,1,2,3,4])\n",
    "        list_.append(df3)\n",
    "for listi in list_:\n",
    "    listi.columns = ['기준일ID','시간대구분','행정동코드','집계구코드','총생활인구수']\n",
    "df3 = pd.concat(list_)\n",
    "df3.columns = ['기준일ID','시간대구분','행정동코드','집계구코드','총생활인구수']\n",
    "df3 = df3.groupby(['기준일ID','시간대구분','행정동코드'])['총생활인구수'].agg('sum').reset_index()\n",
    "df3['기준일ID'] = df3['기준일ID'].astype(str)\n",
    "df3['date'] = [x[6:] for x in df3['기준일ID']]\n",
    "df3.columns = ['wholedate','hour','dong','floating population','date']\n",
    "df3['month'] = 2\n",
    "df3['date'] = df3['date'].astype(int)"
   ]
  },
  {
   "cell_type": "code",
   "execution_count": 5,
   "metadata": {},
   "outputs": [
    {
     "name": "stdout",
     "output_type": "stream",
     "text": [
      "LOCAL_PEOPLE_20190324.csv\n",
      "LOCAL_PEOPLE_20190313.csv\n",
      "LOCAL_PEOPLE_20190319.csv\n",
      "LOCAL_PEOPLE_20190301.csv\n",
      "LOCAL_PEOPLE_20190307.csv\n",
      "LOCAL_PEOPLE_20190321.csv\n",
      "LOCAL_PEOPLE_20190302.csv\n",
      "LOCAL_PEOPLE_20190308.csv\n",
      "LOCAL_PEOPLE_20190331.csv\n",
      "LOCAL_PEOPLE_20190312.csv\n",
      "LOCAL_PEOPLE_20190330.csv\n",
      "LOCAL_PEOPLE_20190315.csv\n",
      "LOCAL_PEOPLE_20190314.csv\n",
      "LOCAL_PEOPLE_20190325.csv\n",
      "LOCAL_PEOPLE_20190306.csv\n",
      "LOCAL_PEOPLE_20190320.csv\n",
      "LOCAL_PEOPLE_20190304.csv\n",
      "LOCAL_PEOPLE_20190329.csv\n",
      "LOCAL_PEOPLE_20190317.csv\n",
      "LOCAL_PEOPLE_20190305.csv\n",
      "LOCAL_PEOPLE_20190326.csv\n",
      "LOCAL_PEOPLE_20190328.csv\n",
      "LOCAL_PEOPLE_20190311.csv\n",
      "LOCAL_PEOPLE_20190303.csv\n",
      "LOCAL_PEOPLE_20190318.csv\n",
      "LOCAL_PEOPLE_20190323.csv\n",
      "LOCAL_PEOPLE_20190310.csv\n",
      "LOCAL_PEOPLE_20190322.csv\n",
      "LOCAL_PEOPLE_20190309.csv\n",
      "LOCAL_PEOPLE_20190316.csv\n",
      "LOCAL_PEOPLE_20190327.csv\n"
     ]
    }
   ],
   "source": [
    "curDir = os.getcwd()\n",
    "zf = zipfile.ZipFile(curDir + '\\\\LOCAL_PEOPLE_201903.zip')\n",
    "text_files = zf.infolist()\n",
    "list_ = []\n",
    "for text_file in text_files:\n",
    "    print(text_file.filename)\n",
    "    df4 = pd.read_csv(zf.open(text_file.filename), usecols=[0,1,2,3,4])\n",
    "    list_.append(df4)\n",
    "df4 = pd.concat(list_)\n",
    "df4 = df4[['기준일ID','시간대구분','행정동코드','집계구코드','총생활인구수']]\n",
    "df4 = df4.groupby(['기준일ID','시간대구분','행정동코드'])['총생활인구수'].agg('sum').reset_index()\n",
    "df4['기준일ID'] = df4['기준일ID'].astype(str)\n",
    "df4['date'] = [x[6:] for x in df4['기준일ID']]\n",
    "df4.columns = ['wholedate','hour','dong','floating population','date']\n",
    "df4['month'] = 3\n",
    "df4['date'] = df4['date'].astype(int)"
   ]
  },
  {
   "cell_type": "code",
   "execution_count": 6,
   "metadata": {},
   "outputs": [],
   "source": [
    "df4 = df4[(df4['wholedate'] != '20190215') & (df4['wholedate'] != '20190311')]"
   ]
  },
  {
   "cell_type": "code",
   "execution_count": 7,
   "metadata": {},
   "outputs": [
    {
     "name": "stdout",
     "output_type": "stream",
     "text": [
      "LOCAL_PEOPLE_20200309.csv\n",
      "LOCAL_PEOPLE_20200301.csv\n",
      "LOCAL_PEOPLE_20200316.csv\n",
      "LOCAL_PEOPLE_20200311.csv\n",
      "LOCAL_PEOPLE_20200306.csv\n",
      "LOCAL_PEOPLE_20200328.csv\n",
      "LOCAL_PEOPLE_20200329.csv\n",
      "LOCAL_PEOPLE_20200304.csv\n",
      "LOCAL_PEOPLE_20200315.csv\n",
      "LOCAL_PEOPLE_20200324.csv\n",
      "LOCAL_PEOPLE_20200307.csv\n",
      "LOCAL_PEOPLE_20200326.csv\n",
      "LOCAL_PEOPLE_20200318.csv\n",
      "LOCAL_PEOPLE_20200305.csv\n",
      "LOCAL_PEOPLE_20200312.csv\n",
      "LOCAL_PEOPLE_20200314.csv\n",
      "LOCAL_PEOPLE_20200321.csv\n",
      "LOCAL_PEOPLE_20200308.csv\n",
      "LOCAL_PEOPLE_20200327.csv\n",
      "LOCAL_PEOPLE_20200303.csv\n",
      "LOCAL_PEOPLE_20200331.csv\n",
      "LOCAL_PEOPLE_20200317.csv\n",
      "LOCAL_PEOPLE_20200323.csv\n",
      "LOCAL_PEOPLE_20200313.csv\n",
      "LOCAL_PEOPLE_20200330.csv\n",
      "LOCAL_PEOPLE_20200322.csv\n",
      "LOCAL_PEOPLE_20200319.csv\n",
      "LOCAL_PEOPLE_20200320.csv\n",
      "LOCAL_PEOPLE_20200302.csv\n",
      "LOCAL_PEOPLE_20200325.csv\n",
      "LOCAL_PEOPLE_20200310.csv\n"
     ]
    }
   ],
   "source": [
    "curDir = os.getcwd()\n",
    "zf = zipfile.ZipFile(curDir + '\\\\LOCAL_PEOPLE_202003.zip')\n",
    "text_files = zf.infolist()\n",
    "list_ = []\n",
    "for text_file in text_files:\n",
    "    print(text_file.filename)\n",
    "    df5 = pd.read_csv(zf.open(text_file.filename), encoding='cp949', usecols=[0,1,2,3,4])\n",
    "    list_.append(df5)\n",
    "df5 = pd.concat(list_)\n",
    "df5.columns = ['기준일ID','시간대구분','행정동코드','집계구코드','총생활인구수']\n",
    "df5 = df5.groupby(['기준일ID','시간대구분','행정동코드'])['총생활인구수'].agg('sum').reset_index()\n",
    "df5['기준일ID'] = df5['기준일ID'].astype(str)\n",
    "df5['date'] = [x[6:] for x in df5['기준일ID']]\n",
    "df5.columns = ['wholedate','hour','dong','floating population','date']\n",
    "df5['month'] = 3\n",
    "df5['date'] = df5['date'].astype(int)"
   ]
  },
  {
   "cell_type": "code",
   "execution_count": 8,
   "metadata": {},
   "outputs": [],
   "source": [
    "df5 = df5[df5['wholedate'] != '20200309']"
   ]
  },
  {
   "cell_type": "code",
   "execution_count": 9,
   "metadata": {},
   "outputs": [
    {
     "name": "stdout",
     "output_type": "stream",
     "text": [
      "LOCAL_PEOPLE_20190421.csv\n",
      "LOCAL_PEOPLE_20190410.csv\n",
      "LOCAL_PEOPLE_20190402.csv\n",
      "LOCAL_PEOPLE_20190427.csv\n",
      "LOCAL_PEOPLE_20190422.csv\n",
      "LOCAL_PEOPLE_20190413.csv\n",
      "LOCAL_PEOPLE_20190428.csv\n",
      "LOCAL_PEOPLE_20190416.csv\n",
      "LOCAL_PEOPLE_20190424.csv\n",
      "LOCAL_PEOPLE_20190403.csv\n",
      "LOCAL_PEOPLE_20190406.csv\n",
      "LOCAL_PEOPLE_20190412.csv\n",
      "LOCAL_PEOPLE_20190408.csv\n",
      "LOCAL_PEOPLE_20190411.csv\n",
      "LOCAL_PEOPLE_20190415.csv\n",
      "LOCAL_PEOPLE_20190417.csv\n",
      "LOCAL_PEOPLE_20190405.csv\n",
      "LOCAL_PEOPLE_20190404.csv\n",
      "LOCAL_PEOPLE_20190409.csv\n",
      "LOCAL_PEOPLE_20190418.csv\n",
      "LOCAL_PEOPLE_20190420.csv\n",
      "LOCAL_PEOPLE_20190426.csv\n",
      "LOCAL_PEOPLE_20190401.csv\n",
      "LOCAL_PEOPLE_20190430.csv\n",
      "LOCAL_PEOPLE_20190429.csv\n",
      "LOCAL_PEOPLE_20190407.csv\n",
      "LOCAL_PEOPLE_20190414.csv\n",
      "LOCAL_PEOPLE_20190419.csv\n",
      "LOCAL_PEOPLE_20190425.csv\n",
      "LOCAL_PEOPLE_20190423.csv\n"
     ]
    }
   ],
   "source": [
    "curDir = os.getcwd()\n",
    "zf = zipfile.ZipFile(curDir + '\\\\LOCAL_PEOPLE_201904.zip')\n",
    "text_files = zf.infolist()\n",
    "list_ = []\n",
    "for text_file in text_files:\n",
    "    print(text_file.filename)\n",
    "    df6 = pd.read_csv(zf.open(text_file.filename), usecols=[0,1,2,3,4])\n",
    "    list_.append(df6)\n",
    "df6 = pd.concat(list_)\n",
    "df6.columns = ['기준일ID','시간대구분','행정동코드','집계구코드','총생활인구수']\n",
    "df6 = df6.groupby(['기준일ID','시간대구분','행정동코드'])['총생활인구수'].agg('sum').reset_index()\n",
    "df6['기준일ID'] = df6['기준일ID'].astype(str)\n",
    "df6['date'] = [x[6:] for x in df6['기준일ID']]\n",
    "df6.columns = ['wholedate','hour','dong','floating population','date']\n",
    "df6['month'] = 4\n",
    "df6['date'] = df6['date'].astype(int)"
   ]
  },
  {
   "cell_type": "code",
   "execution_count": 10,
   "metadata": {},
   "outputs": [
    {
     "name": "stdout",
     "output_type": "stream",
     "text": [
      "LOCAL_PEOPLE_20200401.csv\n",
      "LOCAL_PEOPLE_20200402.csv\n",
      "LOCAL_PEOPLE_20200403.csv\n",
      "LOCAL_PEOPLE_20200404.csv\n",
      "LOCAL_PEOPLE_20200405.csv\n",
      "LOCAL_PEOPLE_20200406.csv\n",
      "LOCAL_PEOPLE_20200407.csv\n",
      "LOCAL_PEOPLE_20200408.csv\n",
      "LOCAL_PEOPLE_20200409.csv\n",
      "LOCAL_PEOPLE_20200410.csv\n",
      "LOCAL_PEOPLE_20200411.csv\n",
      "LOCAL_PEOPLE_20200412.csv\n",
      "LOCAL_PEOPLE_20200413.csv\n",
      "LOCAL_PEOPLE_20200414.csv\n",
      "LOCAL_PEOPLE_20200415.csv\n",
      "LOCAL_PEOPLE_20200416.csv\n",
      "LOCAL_PEOPLE_20200417.csv\n",
      "LOCAL_PEOPLE_20200418.csv\n"
     ]
    }
   ],
   "source": [
    "curDir = os.getcwd()\n",
    "directory = os.listdir(curDir + '\\\\202004')\n",
    "list_ = []\n",
    "for zipf in directory:\n",
    "    zf = zipfile.ZipFile(curDir + '\\\\202004' + '\\\\' + zipf)\n",
    "    text_files = zf.infolist()\n",
    "    for text_file in text_files:\n",
    "        print(text_file.filename)\n",
    "        df7 = pd.read_csv(zf.open(text_file.filename), encoding='cp949', usecols=[0,1,2,3,4])\n",
    "        list_.append(df7)\n",
    "df7 = pd.concat(list_)\n",
    "df7.columns = ['기준일ID','시간대구분','행정동코드','집계구코드','총생활인구수']\n",
    "df7 = df7.groupby(['기준일ID','시간대구분','행정동코드'])['총생활인구수'].agg('sum').reset_index()\n",
    "df7['기준일ID'] = df7['기준일ID'].astype(str)\n",
    "df7['date'] = [x[6:] for x in df7['기준일ID']]\n",
    "df7.columns = ['wholedate','hour','dong','floating population','date']\n",
    "df7['month'] = 4\n",
    "df7['date'] = df7['date'].astype(int)"
   ]
  },
  {
   "cell_type": "code",
   "execution_count": 12,
   "metadata": {},
   "outputs": [],
   "source": [
    "a1 = df[(6<=df['date'])&(df['date']<=12)].groupby(['hour','dong'])['floating population'].mean().reset_index()\n",
    "b1 = df1[(5<=df1['date'])&(df1['date']<=11)].groupby(['hour','dong'])['floating population'].mean().reset_index()\n",
    "a2 = df[(13<=df['date'])&(df['date']<=19)].groupby(['hour','dong'])['floating population'].mean().reset_index()\n",
    "b2 = df1[(12<=df1['date'])&(df1['date']<=18)].groupby(['hour','dong'])['floating population'].mean().reset_index()\n",
    "a3 = df[(20<=df['date'])&(df['date']<=26)].groupby(['hour','dong'])['floating population'].mean().reset_index()\n",
    "b3 = df1[(19<=df1['date'])&(df1['date']<=25)].groupby(['hour','dong'])['floating population'].mean().reset_index()\n",
    "a4 = pd.concat([df[27<=df['date']], df2[df2['date']<=2]]).groupby(['hour','dong'])['floating population'].mean().reset_index()\n",
    "b4 = pd.concat([df1[26<=df1['date']], df3[df3['date']<=1]]).groupby(['hour','dong'])['floating population'].mean().reset_index()\n",
    "a5 = df2[(3<=df2['date'])&(df2['date']<=9)].groupby(['hour','dong'])['floating population'].mean().reset_index()\n",
    "b5 = df3[(2<=df3['date'])&(df3['date']<=8)].groupby(['hour','dong'])['floating population'].mean().reset_index()\n",
    "a6 = df2[(10<=df2['date'])&(df2['date']<=16)].groupby(['hour','dong'])['floating population'].mean().reset_index()\n",
    "b6 = df3[(9<=df3['date'])&(df3['date']<=15)].groupby(['hour','dong'])['floating population'].mean().reset_index()\n",
    "a7 = df2[(17<=df2['date'])&(df2['date']<=23)].groupby(['hour','dong'])['floating population'].mean().reset_index()\n",
    "b7 = df3[(16<=df3['date'])&(df3['date']<=22)].groupby(['hour','dong'])['floating population'].mean().reset_index()\n",
    "a8 = pd.concat([df2[24<=df2['date']], df4[df4['date']<=2]]).groupby(['hour','dong'])['floating population'].mean().reset_index()\n",
    "b8 = df3[(23<=df3['date'])&(df3['date']<=29)].groupby(['hour','dong'])['floating population'].mean().reset_index()\n",
    "a9 = df4[(3<=df4['date'])&(df4['date']<=9)].groupby(['hour','dong'])['floating population'].mean().reset_index()\n",
    "b9 = df5[(1<=df5['date'])&(df5['date']<=7)].groupby(['hour','dong'])['floating population'].mean().reset_index()\n",
    "a10 = df4[(10<=df4['date'])&(df4['date']<=16)].groupby(['hour','dong'])['floating population'].mean().reset_index()\n",
    "b10 = df5[(8<=df5['date'])&(df5['date']<=14)].groupby(['hour','dong'])['floating population'].mean().reset_index()\n",
    "a11 = df4[(17<=df4['date'])&(df4['date']<=23)].groupby(['hour','dong'])['floating population'].mean().reset_index()\n",
    "b11 = df5[(15<=df5['date'])&(df5['date']<=21)].groupby(['hour','dong'])['floating population'].mean().reset_index()\n",
    "a12 = df4[(24<=df4['date'])&(df4['date']<=30)].groupby(['hour','dong'])['floating population'].mean().reset_index()\n",
    "b12 = df5[(22<=df5['date'])&(df5['date']<=28)].groupby(['hour','dong'])['floating population'].mean().reset_index()\n",
    "a13 = pd.concat([df4[31<=df4['date']], df6[df6['date']<=6]]).groupby(['hour','dong'])['floating population'].mean().reset_index()\n",
    "b13 = pd.concat([df5[29<=df5['date']], df7[df7['date']<=4]]).groupby(['hour','dong'])['floating population'].mean().reset_index()\n",
    "a14 = df6[(7<=df6['date'])&(df6['date']<=13)].groupby(['hour','dong'])['floating population'].mean().reset_index()\n",
    "b14 = df7[(5<=df7['date'])&(df7['date']<=11)].groupby(['hour','dong'])['floating population'].mean().reset_index()\n",
    "a15 = df6[(14<=df6['date'])&(df6['date']<=20)].groupby(['hour','dong'])['floating population'].mean().reset_index()\n",
    "b15 = df7[(12<=df7['date'])&(df7['date']<=18)].groupby(['hour','dong'])['floating population'].mean().reset_index()"
   ]
  },
  {
   "cell_type": "code",
   "execution_count": 42,
   "metadata": {},
   "outputs": [
    {
     "data": {
      "text/plain": [
       "10176"
      ]
     },
     "execution_count": 42,
     "metadata": {},
     "output_type": "execute_result"
    }
   ],
   "source": [
    "len(b15)"
   ]
  },
  {
   "cell_type": "code",
   "execution_count": 43,
   "metadata": {},
   "outputs": [
    {
     "data": {
      "text/html": [
       "<div>\n",
       "<style scoped>\n",
       "    .dataframe tbody tr th:only-of-type {\n",
       "        vertical-align: middle;\n",
       "    }\n",
       "\n",
       "    .dataframe tbody tr th {\n",
       "        vertical-align: top;\n",
       "    }\n",
       "\n",
       "    .dataframe thead th {\n",
       "        text-align: right;\n",
       "    }\n",
       "</style>\n",
       "<table border=\"1\" class=\"dataframe\">\n",
       "  <thead>\n",
       "    <tr style=\"text-align: right;\">\n",
       "      <th></th>\n",
       "      <th>hour</th>\n",
       "      <th>dong</th>\n",
       "      <th>floating population</th>\n",
       "    </tr>\n",
       "  </thead>\n",
       "  <tbody>\n",
       "    <tr>\n",
       "      <td>0</td>\n",
       "      <td>0</td>\n",
       "      <td>11110515</td>\n",
       "      <td>15368.857143</td>\n",
       "    </tr>\n",
       "    <tr>\n",
       "      <td>1</td>\n",
       "      <td>0</td>\n",
       "      <td>11110530</td>\n",
       "      <td>16092.571429</td>\n",
       "    </tr>\n",
       "    <tr>\n",
       "      <td>2</td>\n",
       "      <td>0</td>\n",
       "      <td>11110540</td>\n",
       "      <td>4149.714286</td>\n",
       "    </tr>\n",
       "    <tr>\n",
       "      <td>3</td>\n",
       "      <td>0</td>\n",
       "      <td>11110550</td>\n",
       "      <td>9654.857143</td>\n",
       "    </tr>\n",
       "    <tr>\n",
       "      <td>4</td>\n",
       "      <td>0</td>\n",
       "      <td>11110560</td>\n",
       "      <td>18426.571429</td>\n",
       "    </tr>\n",
       "  </tbody>\n",
       "</table>\n",
       "</div>"
      ],
      "text/plain": [
       "   hour      dong  floating population\n",
       "0     0  11110515         15368.857143\n",
       "1     0  11110530         16092.571429\n",
       "2     0  11110540          4149.714286\n",
       "3     0  11110550          9654.857143\n",
       "4     0  11110560         18426.571429"
      ]
     },
     "execution_count": 43,
     "metadata": {},
     "output_type": "execute_result"
    }
   ],
   "source": [
    "a1.head()"
   ]
  },
  {
   "cell_type": "code",
   "execution_count": 44,
   "metadata": {},
   "outputs": [],
   "source": [
    "a1['week']='1.6~1.12'\n",
    "b1['week']='1.5~1.11'\n",
    "a2['week']='1.13~1.19'\n",
    "b2['week']='1.12~1.18'\n",
    "a3['week']='1.20~1.26'\n",
    "b3['week']='1.19~1.25'\n",
    "a4['week']='1.27~2.2'\n",
    "b4['week']='1.26~2.1'\n",
    "a5['week']='2.3~2.9'\n",
    "b5['week']='2.2~2.8'\n",
    "a6['week']='2.10~2.16'\n",
    "b6['week']='2.9~2.15'\n",
    "a7['week']='2.17~2.23'\n",
    "b7['week']='2.16~2.22'\n",
    "a8['week']='2.24~3.2'\n",
    "b8['week']='2.23~2.29'\n",
    "a9['week']='3.3~3.9'\n",
    "b9['week']='3.1~3.7'\n",
    "a10['week']='3.10~3.16'\n",
    "b10['week']='3.8~3.14'\n",
    "a11['week']='3.17~3.23'\n",
    "b11['week']='3.15~3.21'\n",
    "a12['week']='3.24~3.30'\n",
    "b12['week']='3.22~3.28'\n",
    "a13['week']='3.31~4.6'\n",
    "b13['week']='3.29~4.4'\n",
    "a14['week']='4.7~4.13'\n",
    "b14['week']='4.5~4.11'\n",
    "a15['week']='4.14~4.20'\n",
    "b15['week']='4.12~4.18'"
   ]
  },
  {
   "cell_type": "code",
   "execution_count": 45,
   "metadata": {},
   "outputs": [],
   "source": [
    "a = pd.concat([a1,a2,a3,a4,a5,a6,a7,a8,a9,a10,a11,a12,a13,a14,a15])\n",
    "b = pd.concat([b1,b2,b3,b4,b5,b6,b7,b8,b9,b10,b11,b12,b13,b14,b15])"
   ]
  },
  {
   "cell_type": "code",
   "execution_count": 46,
   "metadata": {},
   "outputs": [
    {
     "data": {
      "text/plain": [
       "152640"
      ]
     },
     "execution_count": 46,
     "metadata": {},
     "output_type": "execute_result"
    }
   ],
   "source": [
    "len(a)"
   ]
  },
  {
   "cell_type": "code",
   "execution_count": 47,
   "metadata": {},
   "outputs": [
    {
     "data": {
      "text/plain": [
       "152640"
      ]
     },
     "execution_count": 47,
     "metadata": {},
     "output_type": "execute_result"
    }
   ],
   "source": [
    "len(b)"
   ]
  },
  {
   "cell_type": "code",
   "execution_count": 48,
   "metadata": {},
   "outputs": [
    {
     "data": {
      "text/html": [
       "<div>\n",
       "<style scoped>\n",
       "    .dataframe tbody tr th:only-of-type {\n",
       "        vertical-align: middle;\n",
       "    }\n",
       "\n",
       "    .dataframe tbody tr th {\n",
       "        vertical-align: top;\n",
       "    }\n",
       "\n",
       "    .dataframe thead th {\n",
       "        text-align: right;\n",
       "    }\n",
       "</style>\n",
       "<table border=\"1\" class=\"dataframe\">\n",
       "  <thead>\n",
       "    <tr style=\"text-align: right;\">\n",
       "      <th></th>\n",
       "      <th>hour</th>\n",
       "      <th>dong</th>\n",
       "      <th>floating population</th>\n",
       "      <th>week</th>\n",
       "    </tr>\n",
       "  </thead>\n",
       "  <tbody>\n",
       "    <tr>\n",
       "      <td>0</td>\n",
       "      <td>0</td>\n",
       "      <td>11110515</td>\n",
       "      <td>15368.857143</td>\n",
       "      <td>1.6~1.12</td>\n",
       "    </tr>\n",
       "    <tr>\n",
       "      <td>1</td>\n",
       "      <td>0</td>\n",
       "      <td>11110530</td>\n",
       "      <td>16092.571429</td>\n",
       "      <td>1.6~1.12</td>\n",
       "    </tr>\n",
       "    <tr>\n",
       "      <td>2</td>\n",
       "      <td>0</td>\n",
       "      <td>11110540</td>\n",
       "      <td>4149.714286</td>\n",
       "      <td>1.6~1.12</td>\n",
       "    </tr>\n",
       "    <tr>\n",
       "      <td>3</td>\n",
       "      <td>0</td>\n",
       "      <td>11110550</td>\n",
       "      <td>9654.857143</td>\n",
       "      <td>1.6~1.12</td>\n",
       "    </tr>\n",
       "    <tr>\n",
       "      <td>4</td>\n",
       "      <td>0</td>\n",
       "      <td>11110560</td>\n",
       "      <td>18426.571429</td>\n",
       "      <td>1.6~1.12</td>\n",
       "    </tr>\n",
       "  </tbody>\n",
       "</table>\n",
       "</div>"
      ],
      "text/plain": [
       "   hour      dong  floating population      week\n",
       "0     0  11110515         15368.857143  1.6~1.12\n",
       "1     0  11110530         16092.571429  1.6~1.12\n",
       "2     0  11110540          4149.714286  1.6~1.12\n",
       "3     0  11110550          9654.857143  1.6~1.12\n",
       "4     0  11110560         18426.571429  1.6~1.12"
      ]
     },
     "execution_count": 48,
     "metadata": {},
     "output_type": "execute_result"
    }
   ],
   "source": [
    "a.head()"
   ]
  },
  {
   "cell_type": "code",
   "execution_count": 49,
   "metadata": {},
   "outputs": [
    {
     "data": {
      "text/plain": [
       "array(['1.6~1.12', '1.13~1.19', '1.20~1.26', '1.27~2.2', '2.3~2.9',\n",
       "       '2.10~2.16', '2.17~2.23', '2.24~3.2', '3.3~3.9', '3.10~3.16',\n",
       "       '3.17~3.23', '3.24~3.30', '3.31~4.6', '4.7~4.13', '4.14~4.20'],\n",
       "      dtype=object)"
      ]
     },
     "execution_count": 49,
     "metadata": {},
     "output_type": "execute_result"
    }
   ],
   "source": [
    "a['week'].unique()"
   ]
  },
  {
   "cell_type": "code",
   "execution_count": 50,
   "metadata": {},
   "outputs": [
    {
     "data": {
      "text/plain": [
       "array(['1.5~1.11', '1.12~1.18', '1.19~1.25', '1.26~2.1', '2.2~2.8',\n",
       "       '2.9~2.15', '2.16~2.22', '2.23~2.29', '3.1~3.7', '3.8~3.14',\n",
       "       '3.15~3.21', '3.22~3.28', '3.29~4.4', '4.5~4.11', '4.12~4.18'],\n",
       "      dtype=object)"
      ]
     },
     "execution_count": 50,
     "metadata": {},
     "output_type": "execute_result"
    }
   ],
   "source": [
    "b['week'].unique()"
   ]
  },
  {
   "cell_type": "code",
   "execution_count": 52,
   "metadata": {},
   "outputs": [],
   "source": [
    "a.to_csv('2019_floating_population.csv')\n",
    "b.to_csv('2020_floating_population.csv')"
   ]
  },
  {
   "cell_type": "code",
   "execution_count": null,
   "metadata": {},
   "outputs": [],
   "source": []
  }
 ],
 "metadata": {
  "kernelspec": {
   "display_name": "Python 3",
   "language": "python",
   "name": "python3"
  },
  "language_info": {
   "codemirror_mode": {
    "name": "ipython",
    "version": 3
   },
   "file_extension": ".py",
   "mimetype": "text/x-python",
   "name": "python",
   "nbconvert_exporter": "python",
   "pygments_lexer": "ipython3",
   "version": "3.7.4"
  }
 },
 "nbformat": 4,
 "nbformat_minor": 2
}
