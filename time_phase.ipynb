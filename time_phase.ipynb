{
 "cells": [
  {
   "cell_type": "code",
   "execution_count": 57,
   "metadata": {},
   "outputs": [],
   "source": [
    "import matplotlib as mpl\n",
    "import matplotlib.cm as cm\n",
    "import matplotlib.colors as mcol\n",
    "import numpy as np\n",
    "import matplotlib.pyplot as plt\n",
    "bins=[0,int(np.percentile(nation,10)),int(np.percentile(nation,25)),int(np.percentile(nation,50)),int(np.percentile(nation,75)),int(np.percentile(nation,85)),int(np.percentile(nation,100))]\n",
    "group_names = range(len(bins)-1)\n",
    "cmap = cm.get_cmap('Reds',lut=6)\n",
    "cmap.set_under('#E0E0E0')\n",
    "cmap_bounds = np.arange(7) + 0.5\n",
    "norm = mcol.BoundaryNorm(cmap_bounds,cmap.N)\n",
    "cmap1 = mpl.colors.ListedColormap(['#E0E0E0'])\n",
    "def visualize_groups(class1, class2, class3, class4, class5, class6, class7):\n",
    "    # Visualize dataset groups\n",
    "    class1 = np.digitize(class1,bins,right=True)\n",
    "    class2 = np.digitize(class2,bins,right=True)\n",
    "    class3 = np.digitize(class3,bins,right=True)\n",
    "    class4 = np.digitize(class4,bins,right=True)\n",
    "    class5 = np.digitize(class5,bins,right=True)\n",
    "    class6 = np.digitize(class6,bins,right=True)\n",
    "    class7 = np.digitize(class7,bins,right=True)\n",
    "    fig, ax = plt.subplots(figsize=(15,10))\n",
    "    ax.scatter(range(150),  [7] * 150, c=class1, marker='_', lw=50, cmap=cmap, norm=norm, vmin = 0.05)\n",
    "    ax.scatter(range(150),  [6] * 150, c=class2, marker='_', lw=50, cmap=cmap, norm=norm, vmin = 0.05)\n",
    "    ax.scatter(range(150),  [5] * 150, c=class3, marker='_', lw=50, cmap=cmap, norm=norm, vmin = 0.05)\n",
    "    ax.scatter(range(150),  [4] * 150, c=class4, marker='_', lw=50, cmap=cmap, norm=norm, vmin = 0.05)\n",
    "    ax.scatter(range(150),  [3] * 150, c=class5, marker='_', lw=50, cmap=cmap, norm=norm, vmin = 0.05)\n",
    "    ax.scatter(range(150),  [2] * 150, c=class6, marker='_', lw=50, cmap=cmap, norm=norm, vmin = 0.05)\n",
    "    ax.scatter(range(150),  [1] * 150, c=class7, marker='_', lw=50, cmap=cmap, norm=norm, vmin = 0.05)\n",
    "    ax.set(xlim=[0.5,150],ylim=[0.5,8], yticks=[7,6,5,4,3,2,1], yticklabels=['Nation','Airport','Seoul','Seoul_Metro','Gyeongsang Province','Chungcheong Province','Jeolla Province'], xlabel=\"Day\")\n",
    "    ax.spines['top'].set_visible(False)\n",
    "    ax.spines['right'].set_visible(False)\n",
    "    ax.spines['bottom'].set_visible(False)\n",
    "    ax.spines['left'].set_visible(False)\n",
    "    cbax1 = fig.add_axes([0.94, 0.245, 0.01, 0.5]) \n",
    "    cbar = fig.colorbar(cm.ScalarMappable(norm=norm, cmap=cmap),ticks=[1,2,3,4,5,6] , cax=cbax1)\n",
    "    cbar.set_ticklabels([\"0~1\",\"1~8\",\"8~31\",\"31~83\",\"83~112\",\"112~1076\"])\n",
    "    cbax2 = fig.add_axes([0.94, 0.215, 0.01, 0.03]) \n",
    "    cb = fig.colorbar(cm.ScalarMappable(cmap=cmap1),ticks=[0.5], cax = cbax2)\n",
    "    cb.set_ticklabels([\"no case\"])"
   ]
  },
  {
   "cell_type": "code",
   "execution_count": 200,
   "metadata": {},
   "outputs": [],
   "source": [
    "import matplotlib as mpl\n",
    "import matplotlib.cm as cm\n",
    "import matplotlib.colors as mcol\n",
    "import numpy as np\n",
    "import matplotlib.pyplot as plt\n",
    "plt.style.use('seaborn-deep')\n",
    "bins=[0,5,10,25,50,100,250,2000]\n",
    "group_names = range(len(bins)-1)\n",
    "cmap = cm.get_cmap('Reds',lut=len(bins)-1)\n",
    "cmap.set_under('#E0E0E0')\n",
    "cmap_bounds = np.arange(8) + 0.5\n",
    "norm = mcol.BoundaryNorm(cmap_bounds,cmap.N)\n",
    "cmap1 = mpl.colors.ListedColormap(['#E0E0E0'])\n",
    "\n",
    "def visualize_groups(class1, class2, class3, class4, class5, class6, class7):\n",
    "    # Visualize dataset groups\n",
    "    class1 = np.digitize(class1,bins,right=True)\n",
    "    class2 = np.digitize(class2,bins,right=True)\n",
    "    class3 = np.digitize(class3,bins,right=True)\n",
    "    class4 = np.digitize(class4,bins,right=True)\n",
    "    class5 = np.digitize(class5,bins,right=True)\n",
    "    class6 = np.digitize(class6,bins,right=True)\n",
    "    class7 = np.digitize(class7,bins,right=True)\n",
    "    fig, ax = plt.subplots(figsize=(15,5))\n",
    "    ax.scatter(range(150),  [4] * 150, c=class1, marker='_', lw=25, cmap=cmap, norm=norm, vmin = 0.05)\n",
    "    ax.scatter(range(150),  [3.4] * 150, c=class2, marker='_', lw=25, cmap=cmap, norm=norm, vmin = 0.05)\n",
    "    ax.scatter(range(150),  [2.8] * 150, c=class3, marker='_', lw=25, cmap=cmap, norm=norm, vmin = 0.05)\n",
    "    ax.scatter(range(150),  [2.2] * 150, c=class4, marker='_', lw=25, cmap=cmap, norm=norm, vmin = 0.05)\n",
    "    ax.scatter(range(150),  [1.6] * 150, c=class5, marker='_', lw=25, cmap=cmap, norm=norm, vmin = 0.05)\n",
    "    ax.scatter(range(150),  [1] * 150, c=class6, marker='_', lw=25, cmap=cmap, norm=norm, vmin = 0.05)\n",
    "    ax.scatter(range(150),  [0.4] * 150, c=class7, marker='_', lw=25, cmap=cmap, norm=norm, vmin = 0.05)\n",
    "    ax.set(xlim=[0.5,150],ylim=[0,4.4], yticks=[4,3.4,2.8,2.2,1.6,1,0.4], yticklabels=['Nation','Airport','Seoul','Seoul_Metro','Gyeongsang Province','Chungcheong Province','Jeolla Province'], xlabel=\"Day\")\n",
    "    ax.spines['top'].set_visible(False)\n",
    "    ax.spines['right'].set_visible(False)\n",
    "    ax.spines['bottom'].set_visible(False)\n",
    "    ax.spines['left'].set_visible(False)\n",
    "    ax2 = ax.twiny()\n",
    "    ax2.xaxis.set_ticks_position(\"top\")\n",
    "    ax2.xaxis.set_label_position(\"top\")\n",
    "    ax2.set_frame_on(True)\n",
    "    ax2.patch.set_visible(False)\n",
    "    \n",
    "    for sp in ax2.spines.values():\n",
    "        sp.set_visible(False)\n",
    "    ax2.spines[\"bottom\"].set_visible(True)\n",
    "    ax2.set(xlim=[0.5,150],ylim=[0,4.4], yticks=[4,3.4,2.8,2.2,1.6,1,0.4], yticklabels=['Nation','Airport','Seoul','Seoul_Metro','Gyeongsang Province','Chungcheong Province','Jeolla Province'])\n",
    "    cbax1 = fig.add_axes([0.92, 0.2, 0.01, 0.63]) \n",
    "    cbar = fig.colorbar(cm.ScalarMappable(norm=norm, cmap=cmap),ticks=[1,2,3,4,5,6,7] , cax=cbax1)\n",
    "    cbar.set_ticklabels([\"1~5\",\"6~10\",\"11~25\",\"26~50\",\"51~100\",\"101~250\",\"> 250\"])\n",
    "    cbax2 = fig.add_axes([0.92, 0.11, 0.01, 0.09]) \n",
    "    cb = fig.colorbar(cm.ScalarMappable(cmap=cmap1),ticks=[0.5], cax = cbax2)\n",
    "    cb.set_ticklabels([\"no case\"])"
   ]
  },
  {
   "cell_type": "code",
   "execution_count": 237,
   "metadata": {},
   "outputs": [],
   "source": [
    "import matplotlib as mpl\n",
    "import matplotlib.cm as cm\n",
    "import matplotlib.colors as mcol\n",
    "import numpy as np\n",
    "import matplotlib.pyplot as plt\n",
    "bins=[0,5,10,25,50,100,250,2000]\n",
    "group_names = range(len(bins)-1)\n",
    "cmap = plt.cm.Reds\n",
    "def visualize_groups3(class1, class2, class3, class4, class5, class6, class7):\n",
    "    # Visualize dataset groups\n",
    "    fig, ax = plt.subplots(figsize=(15,5))\n",
    "    ax.set_facecolor('white')\n",
    "    img1 = ax.scatter(range(150),  [4] * 150, c=class1, marker='_', lw=25, cmap=cmap,vmin=0, vmax=np.max(class1))\n",
    "    ax.scatter(range(150),  [3.4] * 150, c=class2, marker='_', lw=25, cmap=cmap,vmin=0, vmax=np.max(class1))\n",
    "    ax.scatter(range(150),  [2.8] * 150, c=class3, marker='_', lw=25, cmap=cmap,vmin=0, vmax=np.max(class1))\n",
    "    ax.scatter(range(150),  [2.2] * 150, c=class4, marker='_', lw=25, cmap=cmap,vmin=0, vmax=np.max(class1))\n",
    "    ax.scatter(range(150),  [1.6] * 150, c=class5, marker='_', lw=25, cmap=cmap,vmin=0, vmax=np.max(class1))\n",
    "    ax.scatter(range(150),  [1] * 150, c=class6, marker='_', lw=25, cmap=cmap,vmin=0, vmax=np.max(class1))\n",
    "    ax.scatter(range(150),  [0.4] * 150, c=class7, marker='_', lw=25, cmap=cmap,vmin=0, vmax=np.max(class1))\n",
    "    ax.set(xlim=[0.5,150],ylim=[0,4.4], yticks=[4,3.4,2.8,2.2,1.6,1,0.4], yticklabels=['Nation','Airport','Seoul','Seoul_Metro','Gyeongsang Province','Chungcheong Province','Jeolla Province'], xlabel=\"Day\")\n",
    "    ax.spines['top'].set_visible(False)\n",
    "    ax.spines['right'].set_visible(False)\n",
    "    ax.spines['bottom'].set_visible(False)\n",
    "    ax.spines['left'].set_visible(False)\n",
    "#     ax2 = ax.twiny()\n",
    "#     ax2.xaxis.set_ticks_position(\"top\")\n",
    "#     ax2.xaxis.set_label_position(\"top\")\n",
    "#     ax2.set_frame_on(True)\n",
    "#     ax2.patch.set_visible(False)\n",
    "    \n",
    "#     for sp in ax2.spines.values():\n",
    "#         sp.set_visible(False)\n",
    "#     ax2.set(xlim=[0.5,150],ylim=[0,4.4], yticks=[4,3.4,2.8,2.2,1.6,1,0.4], yticklabels=['Nation','Airport','Seoul','Seoul_Metro','Gyeongsang Province','Chungcheong Province','Jeolla Province'])\n",
    "    cbax1 = fig.add_axes([0.92, 0.13, 0.01, 0.7]) \n",
    "    fig.colorbar(img1, cax=cbax1)"
   ]
  },
  {
   "cell_type": "code",
   "execution_count": 24,
   "metadata": {},
   "outputs": [],
   "source": [
    "nation = a['nation']\n",
    "airport = a['Airport']\n",
    "seoul = a['Seoul']\n",
    "seoul_metro = a['Seoul_Metro']\n",
    "Gyeongsang = a['Gyeongsang Province']\n",
    "Chungcheong = a['Chungcheong Province']\n",
    "Jeolla = a['Jeolla Province']"
   ]
  },
  {
   "cell_type": "code",
   "execution_count": 218,
   "metadata": {},
   "outputs": [
    {
     "data": {
      "text/plain": [
       "0        1\n",
       "1        0\n",
       "2        0\n",
       "3        0\n",
       "4        1\n",
       "5        0\n",
       "6        1\n",
       "7        1\n",
       "8        0\n",
       "9        0\n",
       "10       3\n",
       "11       4\n",
       "12       1\n",
       "13       3\n",
       "14       0\n",
       "15       1\n",
       "16       2\n",
       "17       5\n",
       "18       1\n",
       "19       0\n",
       "20       3\n",
       "21       0\n",
       "22       1\n",
       "23       0\n",
       "24       0\n",
       "25       0\n",
       "26       0\n",
       "27       1\n",
       "28       1\n",
       "29       1\n",
       "30      20\n",
       "31      53\n",
       "32     100\n",
       "33     229\n",
       "34     169\n",
       "35     231\n",
       "36     144\n",
       "37     284\n",
       "38     505\n",
       "39     571\n",
       "40     813\n",
       "41     586\n",
       "42    1076\n",
       "43     516\n",
       "44     438\n",
       "45     519\n",
       "46     483\n",
       "47     367\n",
       "48     248\n",
       "49     131\n",
       "Name: nation, dtype: int64"
      ]
     },
     "execution_count": 218,
     "metadata": {},
     "output_type": "execute_result"
    }
   ],
   "source": [
    "nation[0:50]"
   ]
  },
  {
   "cell_type": "code",
   "execution_count": 252,
   "metadata": {},
   "outputs": [
    {
     "data": {
      "image/png": "[encoded data removed]",
      "text/plain": [
       "<Figure size 1080x360 with 2 Axes>"
      ]
     },
     "metadata": {
      "needs_background": "light"
     },
     "output_type": "display_data"
    }
   ],
   "source": [
    "visualize_groups2(nation, airport, seoul, seoul_metro, Gyeongsang, Chungcheong, Jeolla)"
   ]
  },
  {
   "cell_type": "code",
   "execution_count": 250,
   "metadata": {},
   "outputs": [],
   "source": [
    "import matplotlib as mpl\n",
    "import matplotlib.cm as cm\n",
    "import matplotlib.colors as mcol\n",
    "import numpy as np\n",
    "import matplotlib.pyplot as plt\n",
    "bins=[0,5,10,25,50,100,250,2000]\n",
    "group_names = range(len(bins)-1)\n",
    "cmap = cm.get_cmap('Reds',lut=len(bins)+1)\n",
    "cmap_bounds = np.arange(-1,8) + 0.5\n",
    "norm = mcol.BoundaryNorm(cmap_bounds,cmap.N)\n",
    "def visualize_groups2(class1, class2, class3, class4, class5, class6, class7):\n",
    "    # Visualize dataset groups\n",
    "    class1 = np.digitize(class1,bins,right=True)\n",
    "    class2 = np.digitize(class2,bins,right=True)\n",
    "    class3 = np.digitize(class3,bins,right=True)\n",
    "    class4 = np.digitize(class4,bins,right=True)\n",
    "    class5 = np.digitize(class5,bins,right=True)\n",
    "    class6 = np.digitize(class6,bins,right=True)\n",
    "    class7 = np.digitize(class7,bins,right=True)\n",
    "    fig, ax = plt.subplots(figsize=(15,5))\n",
    "    ax.set_facecolor('white')\n",
    "    ax.scatter(range(150),  [4] * 150, c=class1, marker='_', lw=25, cmap=cmap, norm=norm)\n",
    "    ax.scatter(range(150),  [3.4] * 150, c=class2, marker='_', lw=25, cmap=cmap, norm=norm)\n",
    "    ax.scatter(range(150),  [2.8] * 150, c=class3, marker='_', lw=25, cmap=cmap, norm=norm)\n",
    "    ax.scatter(range(150),  [2.2] * 150, c=class4, marker='_', lw=25, cmap=cmap, norm=norm)\n",
    "    ax.scatter(range(150),  [1.6] * 150, c=class5, marker='_', lw=25, cmap=cmap, norm=norm)\n",
    "    ax.scatter(range(150),  [1] * 150, c=class6, marker='_', lw=25, cmap=cmap, norm=norm)\n",
    "    ax.scatter(range(150),  [0.4] * 150, c=class7, marker='_', lw=25, cmap=cmap, norm=norm)\n",
    "    ax.set(xlim=[0.5,150],ylim=[0,4.4], yticks=[4,3.4,2.8,2.2,1.6,1,0.4], yticklabels=['Nation','Airport','Seoul','Seoul_Metro','Gyeongsang Province','Chungcheong Province','Jeolla Province'], xlabel=\"Day\")\n",
    "    ax.spines['top'].set_visible(False)\n",
    "    ax.spines['right'].set_visible(False)\n",
    "    ax.spines['bottom'].set_visible(False)\n",
    "    ax.spines['left'].set_visible(False)\n",
    "#     ax2 = ax.twiny()\n",
    "#     ax2.xaxis.set_ticks_position(\"top\")\n",
    "#     ax2.xaxis.set_label_position(\"top\")\n",
    "#     ax2.set_frame_on(True)\n",
    "#     ax2.patch.set_visible(False)\n",
    "    \n",
    "#     for sp in ax2.spines.values():\n",
    "#         sp.set_visible(False)\n",
    "#     ax2.set(xlim=[0.5,150],ylim=[0,4.4], yticks=[4,3.4,2.8,2.2,1.6,1,0.4], yticklabels=['Nation','Airport','Seoul','Seoul_Metro','Gyeongsang Province','Chungcheong Province','Jeolla Province'])\n",
    "    cbax1 = fig.add_axes([0.92, 0.13, 0.01, 0.7]) \n",
    "    cbar = fig.colorbar(cm.ScalarMappable(norm=norm, cmap=cmap),ticks=[0,1,2,3,4,5,6,7] , cax=cbax1)\n",
    "    cbar.set_ticklabels([\"no case\",\"1~5\",\"6~10\",\"11~25\",\"26~50\",\"51~100\",\"101~250\",\"> 250\"])"
   ]
  },
  {
   "cell_type": "code",
   "execution_count": 245,
   "metadata": {},
   "outputs": [],
   "source": [
    "import matplotlib as mpl\n",
    "import matplotlib.cm as cm\n",
    "import matplotlib.colors as mcol\n",
    "import numpy as np\n",
    "import matplotlib.pyplot as plt\n",
    "bins=[0,5,10,25,50,100,250,2000]\n",
    "group_names = range(len(bins)-1)\n",
    "cmap = plt.cm.Reds\n",
    "def visualize_groups4(class1):\n",
    "    # Visualize dataset groups\n",
    "    fig, ax = plt.subplots(figsize=(15,2))\n",
    "    ax.set_facecolor('white')\n",
    "    img1 = ax.scatter(range(150),  [1] * 150, c=class1, marker='_', lw=25, cmap=cmap,vmin=0, vmax=np.max(class1))\n",
    "    ax.set(xlim=[0.5,150],ylim=[0,2], yticks=[1], yticklabels=['Seoul'], xlabel=\"Day\")\n",
    "    ax.spines['top'].set_visible(False)\n",
    "    ax.spines['right'].set_visible(False)\n",
    "    ax.spines['bottom'].set_visible(False)\n",
    "    ax.spines['left'].set_visible(False)\n",
    "#     ax2 = ax.twiny()\n",
    "#     ax2.xaxis.set_ticks_position(\"top\")\n",
    "#     ax2.xaxis.set_label_position(\"top\")\n",
    "#     ax2.set_frame_on(True)\n",
    "#     ax2.patch.set_visible(False)\n",
    "    \n",
    "#     for sp in ax2.spines.values():\n",
    "#         sp.set_visible(False)\n",
    "#     ax2.set(xlim=[0.5,150],ylim=[0,4.4], yticks=[4,3.4,2.8,2.2,1.6,1,0.4], yticklabels=['Nation','Airport','Seoul','Seoul_Metro','Gyeongsang Province','Chungcheong Province','Jeolla Province'])\n",
    "    cbax1 = fig.add_axes([0.92, 0.13, 0.01, 0.7]) \n",
    "    fig.colorbar(img1, cax=cbax1)"
   ]
  },
  {
   "cell_type": "code",
   "execution_count": 251,
   "metadata": {},
   "outputs": [
    {
     "ename": "TypeError",
     "evalue": "visualize_groups2() missing 6 required positional arguments: 'class2', 'class3', 'class4', 'class5', 'class6', and 'class7'",
     "output_type": "error",
     "traceback": [
      "\u001b[1;31m---------------------------------------------------------------------------\u001b[0m",
      "\u001b[1;31mTypeError\u001b[0m                                 Traceback (most recent call last)",
      "\u001b[1;32m<ipython-input-251-f906d64a13de>\u001b[0m in \u001b[0;36m<module>\u001b[1;34m\u001b[0m\n\u001b[1;32m----> 1\u001b[1;33m \u001b[0mvisualize_groups2\u001b[0m\u001b[1;33m(\u001b[0m\u001b[0mseoul\u001b[0m\u001b[1;33m)\u001b[0m\u001b[1;33m\u001b[0m\u001b[1;33m\u001b[0m\u001b[0m\n\u001b[0m",
      "\u001b[1;31mTypeError\u001b[0m: visualize_groups2() missing 6 required positional arguments: 'class2', 'class3', 'class4', 'class5', 'class6', and 'class7'"
     ]
    }
   ],
   "source": [
    "visualize_groups2(seoul)"
   ]
  },
  {
   "cell_type": "code",
   "execution_count": 10,
   "metadata": {},
   "outputs": [
    {
     "data": {
      "text/plain": [
       "0    1\n",
       "1    0\n",
       "2    0\n",
       "3    0\n",
       "4    1\n",
       "Name: nation, dtype: int64"
      ]
     },
     "execution_count": 10,
     "metadata": {},
     "output_type": "execute_result"
    }
   ],
   "source": [
    "nation.head()"
   ]
  },
  {
   "cell_type": "code",
   "execution_count": 64,
   "metadata": {},
   "outputs": [],
   "source": [
    "import pandas as pd\n"
   ]
  },
  {
   "cell_type": "code",
   "execution_count": 26,
   "metadata": {},
   "outputs": [],
   "source": [
    "nation3 = nation/np.max(nation)*100"
   ]
  },
  {
   "cell_type": "code",
   "execution_count": 60,
   "metadata": {},
   "outputs": [],
   "source": [
    "\n",
    "group_names = range(len(bins)-1)\n"
   ]
  },
  {
   "cell_type": "code",
   "execution_count": 61,
   "metadata": {},
   "outputs": [],
   "source": [
    "seoul2 = seoul2.astype('int')"
   ]
  },
  {
   "cell_type": "code",
   "execution_count": 62,
   "metadata": {},
   "outputs": [],
   "source": [
    "nation2 = nation2.astype('int')"
   ]
  },
  {
   "cell_type": "code",
   "execution_count": 52,
   "metadata": {},
   "outputs": [
    {
     "ename": "TypeError",
     "evalue": "unsupported operand type(s) for -: 'Categorical' and 'Categorical'",
     "output_type": "error",
     "traceback": [
      "\u001b[1;31m---------------------------------------------------------------------------\u001b[0m",
      "\u001b[1;31mTypeError\u001b[0m                                 Traceback (most recent call last)",
      "\u001b[1;32m<ipython-input-52-4f688c41cce0>\u001b[0m in \u001b[0;36m<module>\u001b[1;34m\u001b[0m\n\u001b[1;32m----> 1\u001b[1;33m \u001b[0mnation2\u001b[0m\u001b[1;33m.\u001b[0m\u001b[0mvalues\u001b[0m\u001b[1;33m-\u001b[0m\u001b[0mseoul2\u001b[0m\u001b[1;33m.\u001b[0m\u001b[0mvalues\u001b[0m\u001b[1;33m\u001b[0m\u001b[1;33m\u001b[0m\u001b[0m\n\u001b[0m",
      "\u001b[1;31mTypeError\u001b[0m: unsupported operand type(s) for -: 'Categorical' and 'Categorical'"
     ]
    }
   ],
   "source": [
    "nation2.values-seoul2.values"
   ]
  },
  {
   "cell_type": "code",
   "execution_count": 58,
   "metadata": {},
   "outputs": [
    {
     "data": {
      "text/plain": [
       "0              0\n",
       "1              0\n",
       "2              0\n",
       "3              0\n",
       "4              0\n",
       "5              0\n",
       "6              0\n",
       "7              0\n",
       "8              0\n",
       "9              0\n",
       "10             1\n",
       "11             1\n",
       "12             0\n",
       "13             1\n",
       "14             0\n",
       "15             0\n",
       "16             1\n",
       "17             1\n",
       "18             0\n",
       "19             0\n",
       "20             1\n",
       "21             0\n",
       "22             0\n",
       "23             0\n",
       "24             0\n",
       "25             0\n",
       "26             0\n",
       "27             0\n",
       "28             0\n",
       "29             0\n",
       "30             3\n",
       "31             5\n",
       "32             5\n",
       "33             7\n",
       "34             6\n",
       "35             7\n",
       "36             6\n",
       "37             7\n",
       "38            10\n",
       "39            10\n",
       "40            10\n",
       "41            10\n",
       "42   -2147483648\n",
       "43            10\n",
       "44             9\n",
       "45            10\n",
       "46             9\n",
       "47             8\n",
       "48             7\n",
       "49             6\n",
       "Name: nation, dtype: int32"
      ]
     },
     "execution_count": 58,
     "metadata": {},
     "output_type": "execute_result"
    }
   ],
   "source": [
    "nation2[0:50]"
   ]
  },
  {
   "cell_type": "code",
   "execution_count": 247,
   "metadata": {},
   "outputs": [
    {
     "data": {
      "text/plain": [
       "1076"
      ]
     },
     "execution_count": 247,
     "metadata": {},
     "output_type": "execute_result"
    }
   ],
   "source": [
    "np.max(nation)"
   ]
  },
  {
   "cell_type": "code",
   "execution_count": 248,
   "metadata": {},
   "outputs": [
    {
     "data": {
      "text/plain": [
       "52"
      ]
     },
     "execution_count": 248,
     "metadata": {},
     "output_type": "execute_result"
    }
   ],
   "source": [
    "np.max(seoul)"
   ]
  },
  {
   "cell_type": "code",
   "execution_count": null,
   "metadata": {},
   "outputs": [],
   "source": []
  }
 ],
 "metadata": {
  "kernelspec": {
   "display_name": "Python 3",
   "language": "python",
   "name": "python3"
  },
  "language_info": {
   "codemirror_mode": {
    "name": "ipython",
    "version": 3
   },
   "file_extension": ".py",
   "mimetype": "text/x-python",
   "name": "python",
   "nbconvert_exporter": "python",
   "pygments_lexer": "ipython3",
   "version": "3.7.4"
  }
 },
 "nbformat": 4,
 "nbformat_minor": 4
}
