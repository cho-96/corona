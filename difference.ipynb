{
 "cells": [
  {
   "cell_type": "code",
   "execution_count": 41,
   "metadata": {},
   "outputs": [],
   "source": [
    "import pandas as pd\n",
    "a = pd.read_csv('2019_floating_population.csv')"
   ]
  },
  {
   "cell_type": "code",
   "execution_count": 42,
   "metadata": {},
   "outputs": [],
   "source": [
    "a = a[a['month'] != 1]"
   ]
  },
  {
   "cell_type": "code",
   "execution_count": 43,
   "metadata": {},
   "outputs": [],
   "source": [
    "a = a[~(((a['date'] == 1)|(a['date'] == 2)|(a['date'] == 3)|(a['date'] == 4)|(a['date'] == 5))&(a['month'] == 2))]\n",
    "a = a[~(((a['date'] == 21)|(a['date'] == 22)|(a['date'] == 23)|(a['date'] == 24)|(a['date'] == 25)|(a['date'] == 26)|(a['date'] == 27)|(a['date'] == 28)|(a['date'] == 29)|(a['date'] == 30))&(a['month'] == 4))]"
   ]
  },
  {
   "cell_type": "code",
   "execution_count": 44,
   "metadata": {},
   "outputs": [],
   "source": [
    "import numpy as np\n",
    "arra1 = np.arange(np.datetime64('2019-02-06'), np.datetime64('2019-04-21'), dtype='datetime64[D]')\n",
    "arra1 = arra1[arra1!=np.datetime64('2019-04-17')]\n",
    "arra2 = np.arange(np.datetime64('2020-02-05'), np.datetime64('2020-04-19'), dtype='datetime64[D]')\n",
    "arra2 = arra2[arra2!=np.datetime64('2020-04-15')]"
   ]
  },
  {
   "cell_type": "code",
   "execution_count": 45,
   "metadata": {},
   "outputs": [
    {
     "data": {
      "text/plain": [
       "73"
      ]
     },
     "execution_count": 45,
     "metadata": {},
     "output_type": "execute_result"
    }
   ],
   "source": [
    "len(arra2)"
   ]
  },
  {
   "cell_type": "code",
   "execution_count": 46,
   "metadata": {},
   "outputs": [],
   "source": [
    "a = a.reset_index()"
   ]
  },
  {
   "cell_type": "code",
   "execution_count": 47,
   "metadata": {},
   "outputs": [
    {
     "data": {
      "text/html": [
       "<div>\n",
       "<style scoped>\n",
       "    .dataframe tbody tr th:only-of-type {\n",
       "        vertical-align: middle;\n",
       "    }\n",
       "\n",
       "    .dataframe tbody tr th {\n",
       "        vertical-align: top;\n",
       "    }\n",
       "\n",
       "    .dataframe thead th {\n",
       "        text-align: right;\n",
       "    }\n",
       "</style>\n",
       "<table border=\"1\" class=\"dataframe\">\n",
       "  <thead>\n",
       "    <tr style=\"text-align: right;\">\n",
       "      <th></th>\n",
       "      <th>index</th>\n",
       "      <th>Unnamed: 0</th>\n",
       "      <th>hour</th>\n",
       "      <th>집계구코드</th>\n",
       "      <th>floating population</th>\n",
       "      <th>date</th>\n",
       "      <th>month</th>\n",
       "    </tr>\n",
       "  </thead>\n",
       "  <tbody>\n",
       "    <tr>\n",
       "      <td>0</td>\n",
       "      <td>16547301</td>\n",
       "      <td>26</td>\n",
       "      <td>0</td>\n",
       "      <td>1101053010001</td>\n",
       "      <td>252.0</td>\n",
       "      <td>6</td>\n",
       "      <td>2</td>\n",
       "    </tr>\n",
       "    <tr>\n",
       "      <td>1</td>\n",
       "      <td>16547302</td>\n",
       "      <td>27</td>\n",
       "      <td>0</td>\n",
       "      <td>1101053010002</td>\n",
       "      <td>909.0</td>\n",
       "      <td>6</td>\n",
       "      <td>2</td>\n",
       "    </tr>\n",
       "    <tr>\n",
       "      <td>2</td>\n",
       "      <td>16547303</td>\n",
       "      <td>28</td>\n",
       "      <td>0</td>\n",
       "      <td>1101053010003</td>\n",
       "      <td>975.0</td>\n",
       "      <td>6</td>\n",
       "      <td>2</td>\n",
       "    </tr>\n",
       "    <tr>\n",
       "      <td>3</td>\n",
       "      <td>16547304</td>\n",
       "      <td>29</td>\n",
       "      <td>0</td>\n",
       "      <td>1101053010004</td>\n",
       "      <td>978.0</td>\n",
       "      <td>6</td>\n",
       "      <td>2</td>\n",
       "    </tr>\n",
       "    <tr>\n",
       "      <td>4</td>\n",
       "      <td>16547305</td>\n",
       "      <td>30</td>\n",
       "      <td>0</td>\n",
       "      <td>1101053010005</td>\n",
       "      <td>683.0</td>\n",
       "      <td>6</td>\n",
       "      <td>2</td>\n",
       "    </tr>\n",
       "  </tbody>\n",
       "</table>\n",
       "</div>"
      ],
      "text/plain": [
       "      index  Unnamed: 0  hour          집계구코드  floating population  date  month\n",
       "0  16547301          26     0  1101053010001                252.0     6      2\n",
       "1  16547302          27     0  1101053010002                909.0     6      2\n",
       "2  16547303          28     0  1101053010003                975.0     6      2\n",
       "3  16547304          29     0  1101053010004                978.0     6      2\n",
       "4  16547305          30     0  1101053010005                683.0     6      2"
      ]
     },
     "execution_count": 47,
     "metadata": {},
     "output_type": "execute_result"
    }
   ],
   "source": [
    "a.head()"
   ]
  },
  {
   "cell_type": "code",
   "execution_count": 48,
   "metadata": {},
   "outputs": [],
   "source": [
    "a = a[['hour','집계구코드','floating population','date','month']]"
   ]
  },
  {
   "cell_type": "code",
   "execution_count": 49,
   "metadata": {},
   "outputs": [
    {
     "data": {
      "text/html": [
       "<div>\n",
       "<style scoped>\n",
       "    .dataframe tbody tr th:only-of-type {\n",
       "        vertical-align: middle;\n",
       "    }\n",
       "\n",
       "    .dataframe tbody tr th {\n",
       "        vertical-align: top;\n",
       "    }\n",
       "\n",
       "    .dataframe thead th {\n",
       "        text-align: right;\n",
       "    }\n",
       "</style>\n",
       "<table border=\"1\" class=\"dataframe\">\n",
       "  <thead>\n",
       "    <tr style=\"text-align: right;\">\n",
       "      <th></th>\n",
       "      <th>hour</th>\n",
       "      <th>집계구코드</th>\n",
       "      <th>floating population</th>\n",
       "      <th>date</th>\n",
       "      <th>month</th>\n",
       "    </tr>\n",
       "  </thead>\n",
       "  <tbody>\n",
       "    <tr>\n",
       "      <td>0</td>\n",
       "      <td>0</td>\n",
       "      <td>1101053010001</td>\n",
       "      <td>252.0</td>\n",
       "      <td>6</td>\n",
       "      <td>2</td>\n",
       "    </tr>\n",
       "    <tr>\n",
       "      <td>1</td>\n",
       "      <td>0</td>\n",
       "      <td>1101053010002</td>\n",
       "      <td>909.0</td>\n",
       "      <td>6</td>\n",
       "      <td>2</td>\n",
       "    </tr>\n",
       "    <tr>\n",
       "      <td>2</td>\n",
       "      <td>0</td>\n",
       "      <td>1101053010003</td>\n",
       "      <td>975.0</td>\n",
       "      <td>6</td>\n",
       "      <td>2</td>\n",
       "    </tr>\n",
       "    <tr>\n",
       "      <td>3</td>\n",
       "      <td>0</td>\n",
       "      <td>1101053010004</td>\n",
       "      <td>978.0</td>\n",
       "      <td>6</td>\n",
       "      <td>2</td>\n",
       "    </tr>\n",
       "    <tr>\n",
       "      <td>4</td>\n",
       "      <td>0</td>\n",
       "      <td>1101053010005</td>\n",
       "      <td>683.0</td>\n",
       "      <td>6</td>\n",
       "      <td>2</td>\n",
       "    </tr>\n",
       "  </tbody>\n",
       "</table>\n",
       "</div>"
      ],
      "text/plain": [
       "   hour          집계구코드  floating population  date  month\n",
       "0     0  1101053010001                252.0     6      2\n",
       "1     0  1101053010002                909.0     6      2\n",
       "2     0  1101053010003                975.0     6      2\n",
       "3     0  1101053010004                978.0     6      2\n",
       "4     0  1101053010005                683.0     6      2"
      ]
     },
     "execution_count": 49,
     "metadata": {},
     "output_type": "execute_result"
    }
   ],
   "source": [
    "a.head()"
   ]
  },
  {
   "cell_type": "code",
   "execution_count": 50,
   "metadata": {},
   "outputs": [],
   "source": [
    "a['fulldate'] = 20190000+a['month']*100+a['date']"
   ]
  },
  {
   "cell_type": "code",
   "execution_count": 51,
   "metadata": {},
   "outputs": [],
   "source": [
    "a['fulldate'] = a['fulldate'].astype('int32')"
   ]
  },
  {
   "cell_type": "code",
   "execution_count": 52,
   "metadata": {},
   "outputs": [],
   "source": [
    "a['fulldate'] = pd.to_datetime(a['fulldate'], format='%Y%m%d')"
   ]
  },
  {
   "cell_type": "code",
   "execution_count": 18,
   "metadata": {},
   "outputs": [
    {
     "data": {
      "text/html": [
       "<div>\n",
       "<style scoped>\n",
       "    .dataframe tbody tr th:only-of-type {\n",
       "        vertical-align: middle;\n",
       "    }\n",
       "\n",
       "    .dataframe tbody tr th {\n",
       "        vertical-align: top;\n",
       "    }\n",
       "\n",
       "    .dataframe thead th {\n",
       "        text-align: right;\n",
       "    }\n",
       "</style>\n",
       "<table border=\"1\" class=\"dataframe\">\n",
       "  <thead>\n",
       "    <tr style=\"text-align: right;\">\n",
       "      <th></th>\n",
       "      <th>hour</th>\n",
       "      <th>집계구코드</th>\n",
       "      <th>floating population</th>\n",
       "      <th>date</th>\n",
       "      <th>month</th>\n",
       "      <th>fulldate</th>\n",
       "    </tr>\n",
       "  </thead>\n",
       "  <tbody>\n",
       "    <tr>\n",
       "      <td>0</td>\n",
       "      <td>0</td>\n",
       "      <td>1101053010001</td>\n",
       "      <td>252.0</td>\n",
       "      <td>6</td>\n",
       "      <td>2</td>\n",
       "      <td>2020-02-06</td>\n",
       "    </tr>\n",
       "    <tr>\n",
       "      <td>1</td>\n",
       "      <td>0</td>\n",
       "      <td>1101053010002</td>\n",
       "      <td>909.0</td>\n",
       "      <td>6</td>\n",
       "      <td>2</td>\n",
       "      <td>2020-02-06</td>\n",
       "    </tr>\n",
       "    <tr>\n",
       "      <td>2</td>\n",
       "      <td>0</td>\n",
       "      <td>1101053010003</td>\n",
       "      <td>975.0</td>\n",
       "      <td>6</td>\n",
       "      <td>2</td>\n",
       "      <td>2020-02-06</td>\n",
       "    </tr>\n",
       "    <tr>\n",
       "      <td>3</td>\n",
       "      <td>0</td>\n",
       "      <td>1101053010004</td>\n",
       "      <td>978.0</td>\n",
       "      <td>6</td>\n",
       "      <td>2</td>\n",
       "      <td>2020-02-06</td>\n",
       "    </tr>\n",
       "    <tr>\n",
       "      <td>4</td>\n",
       "      <td>0</td>\n",
       "      <td>1101053010005</td>\n",
       "      <td>683.0</td>\n",
       "      <td>6</td>\n",
       "      <td>2</td>\n",
       "      <td>2020-02-06</td>\n",
       "    </tr>\n",
       "  </tbody>\n",
       "</table>\n",
       "</div>"
      ],
      "text/plain": [
       "   hour          집계구코드  floating population  date  month   fulldate\n",
       "0     0  1101053010001                252.0     6      2 2020-02-06\n",
       "1     0  1101053010002                909.0     6      2 2020-02-06\n",
       "2     0  1101053010003                975.0     6      2 2020-02-06\n",
       "3     0  1101053010004                978.0     6      2 2020-02-06\n",
       "4     0  1101053010005                683.0     6      2 2020-02-06"
      ]
     },
     "execution_count": 18,
     "metadata": {},
     "output_type": "execute_result"
    }
   ],
   "source": [
    "a.head()"
   ]
  },
  {
   "cell_type": "code",
   "execution_count": 53,
   "metadata": {},
   "outputs": [],
   "source": [
    "match = pd.DataFrame(arra1, arra2)"
   ]
  },
  {
   "cell_type": "code",
   "execution_count": 54,
   "metadata": {},
   "outputs": [],
   "source": [
    "match = match.reset_index()"
   ]
  },
  {
   "cell_type": "code",
   "execution_count": 55,
   "metadata": {},
   "outputs": [
    {
     "data": {
      "text/html": [
       "<div>\n",
       "<style scoped>\n",
       "    .dataframe tbody tr th:only-of-type {\n",
       "        vertical-align: middle;\n",
       "    }\n",
       "\n",
       "    .dataframe tbody tr th {\n",
       "        vertical-align: top;\n",
       "    }\n",
       "\n",
       "    .dataframe thead th {\n",
       "        text-align: right;\n",
       "    }\n",
       "</style>\n",
       "<table border=\"1\" class=\"dataframe\">\n",
       "  <thead>\n",
       "    <tr style=\"text-align: right;\">\n",
       "      <th></th>\n",
       "      <th>index</th>\n",
       "      <th>0</th>\n",
       "    </tr>\n",
       "  </thead>\n",
       "  <tbody>\n",
       "    <tr>\n",
       "      <td>0</td>\n",
       "      <td>2020-02-05</td>\n",
       "      <td>2019-02-06</td>\n",
       "    </tr>\n",
       "    <tr>\n",
       "      <td>1</td>\n",
       "      <td>2020-02-06</td>\n",
       "      <td>2019-02-07</td>\n",
       "    </tr>\n",
       "    <tr>\n",
       "      <td>2</td>\n",
       "      <td>2020-02-07</td>\n",
       "      <td>2019-02-08</td>\n",
       "    </tr>\n",
       "    <tr>\n",
       "      <td>3</td>\n",
       "      <td>2020-02-08</td>\n",
       "      <td>2019-02-09</td>\n",
       "    </tr>\n",
       "    <tr>\n",
       "      <td>4</td>\n",
       "      <td>2020-02-09</td>\n",
       "      <td>2019-02-10</td>\n",
       "    </tr>\n",
       "  </tbody>\n",
       "</table>\n",
       "</div>"
      ],
      "text/plain": [
       "       index          0\n",
       "0 2020-02-05 2019-02-06\n",
       "1 2020-02-06 2019-02-07\n",
       "2 2020-02-07 2019-02-08\n",
       "3 2020-02-08 2019-02-09\n",
       "4 2020-02-09 2019-02-10"
      ]
     },
     "execution_count": 55,
     "metadata": {},
     "output_type": "execute_result"
    }
   ],
   "source": [
    "match.head()"
   ]
  },
  {
   "cell_type": "code",
   "execution_count": 56,
   "metadata": {},
   "outputs": [],
   "source": [
    "match.columns = ['twenty', 'nineteen']"
   ]
  },
  {
   "cell_type": "code",
   "execution_count": 29,
   "metadata": {},
   "outputs": [],
   "source": []
  },
  {
   "cell_type": "code",
   "execution_count": 57,
   "metadata": {},
   "outputs": [],
   "source": [
    "a['dayofweek'] = a['fulldate'].dt.day_name()"
   ]
  },
  {
   "cell_type": "code",
   "execution_count": 58,
   "metadata": {},
   "outputs": [
    {
     "data": {
      "text/plain": [
       "array(['Wednesday', 'Thursday', 'Friday', 'Saturday', 'Sunday', 'Monday',\n",
       "       'Tuesday'], dtype=object)"
      ]
     },
     "execution_count": 58,
     "metadata": {},
     "output_type": "execute_result"
    }
   ],
   "source": [
    "a['dayofweek'].unique()"
   ]
  },
  {
   "cell_type": "code",
   "execution_count": 59,
   "metadata": {},
   "outputs": [],
   "source": [
    "pop_zone_day = a.groupby(['fulldate','집계구코드'])['floating population'].agg('sum').reset_index()\n",
    "pop_zone_7to10 = a[(7<=a['hour'])&(a['hour']<=10)].groupby(['fulldate','집계구코드'])['floating population'].agg('sum').reset_index()\n",
    "pop_zone_11to14 = a[(11<=a['hour'])&(a['hour']<=14)].groupby(['fulldate','집계구코드'])['floating population'].agg('sum').reset_index()\n",
    "pop_zone_18to21 = a[(18<=a['hour'])&(a['hour']<=21)].groupby(['fulldate','집계구코드'])['floating population'].agg('sum').reset_index()"
   ]
  },
  {
   "cell_type": "code",
   "execution_count": 34,
   "metadata": {},
   "outputs": [
    {
     "data": {
      "text/html": [
       "<div>\n",
       "<style scoped>\n",
       "    .dataframe tbody tr th:only-of-type {\n",
       "        vertical-align: middle;\n",
       "    }\n",
       "\n",
       "    .dataframe tbody tr th {\n",
       "        vertical-align: top;\n",
       "    }\n",
       "\n",
       "    .dataframe thead th {\n",
       "        text-align: right;\n",
       "    }\n",
       "</style>\n",
       "<table border=\"1\" class=\"dataframe\">\n",
       "  <thead>\n",
       "    <tr style=\"text-align: right;\">\n",
       "      <th></th>\n",
       "      <th>fulldate</th>\n",
       "      <th>집계구코드</th>\n",
       "      <th>floating population</th>\n",
       "    </tr>\n",
       "  </thead>\n",
       "  <tbody>\n",
       "    <tr>\n",
       "      <td>0</td>\n",
       "      <td>2020-02-06</td>\n",
       "      <td>1101053010001</td>\n",
       "      <td>5315.0</td>\n",
       "    </tr>\n",
       "    <tr>\n",
       "      <td>1</td>\n",
       "      <td>2020-02-06</td>\n",
       "      <td>1101053010002</td>\n",
       "      <td>21226.0</td>\n",
       "    </tr>\n",
       "    <tr>\n",
       "      <td>2</td>\n",
       "      <td>2020-02-06</td>\n",
       "      <td>1101053010003</td>\n",
       "      <td>25230.0</td>\n",
       "    </tr>\n",
       "    <tr>\n",
       "      <td>3</td>\n",
       "      <td>2020-02-06</td>\n",
       "      <td>1101053010004</td>\n",
       "      <td>29683.0</td>\n",
       "    </tr>\n",
       "    <tr>\n",
       "      <td>4</td>\n",
       "      <td>2020-02-06</td>\n",
       "      <td>1101053010005</td>\n",
       "      <td>26019.0</td>\n",
       "    </tr>\n",
       "  </tbody>\n",
       "</table>\n",
       "</div>"
      ],
      "text/plain": [
       "    fulldate          집계구코드  floating population\n",
       "0 2020-02-06  1101053010001               5315.0\n",
       "1 2020-02-06  1101053010002              21226.0\n",
       "2 2020-02-06  1101053010003              25230.0\n",
       "3 2020-02-06  1101053010004              29683.0\n",
       "4 2020-02-06  1101053010005              26019.0"
      ]
     },
     "execution_count": 34,
     "metadata": {},
     "output_type": "execute_result"
    }
   ],
   "source": [
    "pop_zone_day.head()"
   ]
  },
  {
   "cell_type": "code",
   "execution_count": 60,
   "metadata": {},
   "outputs": [],
   "source": [
    "pop_zone_day['dayofweek'] = pop_zone_day['fulldate'].dt.day_name()\n",
    "pop_zone_7to10['dayofweek'] = pop_zone_7to10['fulldate'].dt.day_name()\n",
    "pop_zone_11to14['dayofweek'] = pop_zone_11to14['fulldate'].dt.day_name()\n",
    "pop_zone_18to21['dayofweek'] = pop_zone_18to21['fulldate'].dt.day_name()"
   ]
  },
  {
   "cell_type": "code",
   "execution_count": 61,
   "metadata": {},
   "outputs": [],
   "source": [
    "pop_zone_weekday = pop_zone_day[~((pop_zone_day['dayofweek']=='Saturday')|(pop_zone_day['dayofweek']=='Sunday'))].reset_index()\n",
    "pop_zone_weekend = pop_zone_day[(pop_zone_day['dayofweek']=='Saturday')|(pop_zone_day['dayofweek']=='Sunday')].reset_index()\n",
    "pop_zone_7to10_weekday = pop_zone_7to10[~((pop_zone_7to10['dayofweek']=='Saturday')|(pop_zone_7to10['dayofweek']=='Sunday'))].reset_index()\n",
    "pop_zone_7to10_weekend = pop_zone_7to10[(pop_zone_7to10['dayofweek']=='Saturday')|(pop_zone_7to10['dayofweek']=='Sunday')].reset_index()\n",
    "pop_zone_11to14_weekday = pop_zone_11to14[~((pop_zone_11to14['dayofweek']=='Saturday')|(pop_zone_11to14['dayofweek']=='Sunday'))].reset_index()\n",
    "pop_zone_11to14_weekend = pop_zone_11to14[(pop_zone_11to14['dayofweek']=='Saturday')|(pop_zone_11to14['dayofweek']=='Sunday')].reset_index()\n",
    "pop_zone_18to21_weekday = pop_zone_18to21[~((pop_zone_18to21['dayofweek']=='Saturday')|(pop_zone_18to21['dayofweek']=='Sunday'))].reset_index()\n",
    "pop_zone_18to21_weekend = pop_zone_18to21[(pop_zone_18to21['dayofweek']=='Saturday')|(pop_zone_18to21['dayofweek']=='Sunday')].reset_index()"
   ]
  },
  {
   "cell_type": "code",
   "execution_count": 62,
   "metadata": {},
   "outputs": [],
   "source": [
    "pop_zone_weekday = pop_zone_weekday[['fulldate','집계구코드','floating population', 'dayofweek']][pop_zone_weekday['fulldate'] != pd.Timestamp(2019, 4, 17)]\n",
    "pop_zone_weekend = pop_zone_weekend[['fulldate','집계구코드','floating population', 'dayofweek']]\n",
    "pop_zone_7to10_weekday = pop_zone_7to10_weekday[['fulldate','집계구코드','floating population', 'dayofweek']][pop_zone_7to10_weekday['fulldate'] != pd.Timestamp(2019, 4, 17)]\n",
    "pop_zone_7to10_weekend = pop_zone_7to10_weekend[['fulldate','집계구코드','floating population', 'dayofweek']]\n",
    "pop_zone_11to14_weekday = pop_zone_11to14_weekday[['fulldate','집계구코드','floating population', 'dayofweek']][pop_zone_11to14_weekday['fulldate'] != pd.Timestamp(2019, 4, 17)]\n",
    "pop_zone_11to14_weekend = pop_zone_11to14_weekend[['fulldate','집계구코드','floating population', 'dayofweek']]\n",
    "pop_zone_18to21_weekday = pop_zone_18to21_weekday[['fulldate','집계구코드','floating population', 'dayofweek']][pop_zone_18to21_weekday['fulldate'] != pd.Timestamp(2019, 4, 17)]\n",
    "pop_zone_18to21_weekend = pop_zone_18to21_weekend[['fulldate','집계구코드','floating population', 'dayofweek']]"
   ]
  },
  {
   "cell_type": "code",
   "execution_count": 39,
   "metadata": {},
   "outputs": [],
   "source": [
    "pop_zone_weekday_2020 = pd.read_csv('pop_8_times\\pop_zone_weekday.csv', encoding='cp949')\n",
    "pop_zone_weekend_2020 = pd.read_csv('pop_8_times\\pop_zone_weekend.csv', encoding='cp949')\n",
    "pop_zone_7to10_weekday_2020 = pd.read_csv('pop_8_times\\pop_zone_7to10_weekday.csv', encoding='cp949')\n",
    "pop_zone_7to10_weekend_2020 = pd.read_csv('pop_8_times\\pop_zone_7to10_weekend.csv', encoding='cp949')\n",
    "pop_zone_11to14_weekday_2020 = pd.read_csv('pop_8_times\\pop_zone_11to14_weekday.csv', encoding='cp949')\n",
    "pop_zone_11to14_weekend_2020 = pd.read_csv('pop_8_times\\pop_zone_11to14_weekend.csv', encoding='cp949')\n",
    "pop_zone_18to21_weekday_2020 = pd.read_csv('pop_8_times\\pop_zone_18to21_weekday.csv', encoding='cp949')\n",
    "pop_zone_18to21_weekend_2020 = pd.read_csv('pop_8_times\\pop_zone_18to21_weekend.csv', encoding='cp949')"
   ]
  },
  {
   "cell_type": "code",
   "execution_count": 69,
   "metadata": {},
   "outputs": [
    {
     "data": {
      "text/plain": [
       "True"
      ]
     },
     "execution_count": 69,
     "metadata": {},
     "output_type": "execute_result"
    }
   ],
   "source": [
    "pop_zone_weekday_2020['fulldate'][0] == '2020-02-03'"
   ]
  },
  {
   "cell_type": "code",
   "execution_count": 74,
   "metadata": {},
   "outputs": [],
   "source": [
    "pop_zone_weekday_2020['fulldate'] = pd.to_datetime(pop_zone_weekday_2020['fulldate'], format='%Y-%m-%d')\n",
    "pop_zone_weekend_2020['fulldate'] = pd.to_datetime(pop_zone_weekend_2020['fulldate'], format='%Y-%m-%d')\n",
    "pop_zone_7to10_weekday_2020['fulldate'] = pd.to_datetime(pop_zone_7to10_weekday_2020['fulldate'], format='%Y-%m-%d')\n",
    "pop_zone_7to10_weekend_2020['fulldate'] = pd.to_datetime(pop_zone_7to10_weekend_2020['fulldate'], format='%Y-%m-%d')\n",
    "pop_zone_11to14_weekday_2020['fulldate'] = pd.to_datetime(pop_zone_11to14_weekday_2020['fulldate'], format='%Y-%m-%d')\n",
    "pop_zone_11to14_weekend_2020['fulldate'] = pd.to_datetime(pop_zone_11to14_weekend_2020['fulldate'], format='%Y-%m-%d')\n",
    "pop_zone_18to21_weekday_2020['fulldate'] = pd.to_datetime(pop_zone_18to21_weekday_2020['fulldate'], format='%Y-%m-%d')\n",
    "pop_zone_18to21_weekend_2020['fulldate'] = pd.to_datetime(pop_zone_18to21_weekend_2020['fulldate'], format='%Y-%m-%d')"
   ]
  },
  {
   "cell_type": "code",
   "execution_count": 76,
   "metadata": {},
   "outputs": [
    {
     "data": {
      "text/plain": [
       "Timestamp('2020-02-03 00:00:00')"
      ]
     },
     "execution_count": 76,
     "metadata": {},
     "output_type": "execute_result"
    }
   ],
   "source": [
    "pop_zone_weekday_2020['fulldate'][0]"
   ]
  },
  {
   "cell_type": "code",
   "execution_count": 77,
   "metadata": {},
   "outputs": [
    {
     "data": {
      "text/html": [
       "<div>\n",
       "<style scoped>\n",
       "    .dataframe tbody tr th:only-of-type {\n",
       "        vertical-align: middle;\n",
       "    }\n",
       "\n",
       "    .dataframe tbody tr th {\n",
       "        vertical-align: top;\n",
       "    }\n",
       "\n",
       "    .dataframe thead th {\n",
       "        text-align: right;\n",
       "    }\n",
       "</style>\n",
       "<table border=\"1\" class=\"dataframe\">\n",
       "  <thead>\n",
       "    <tr style=\"text-align: right;\">\n",
       "      <th></th>\n",
       "      <th>twenty</th>\n",
       "      <th>nineteen</th>\n",
       "    </tr>\n",
       "  </thead>\n",
       "  <tbody>\n",
       "    <tr>\n",
       "      <td>0</td>\n",
       "      <td>2020-02-05</td>\n",
       "      <td>2019-02-06</td>\n",
       "    </tr>\n",
       "    <tr>\n",
       "      <td>1</td>\n",
       "      <td>2020-02-06</td>\n",
       "      <td>2019-02-07</td>\n",
       "    </tr>\n",
       "    <tr>\n",
       "      <td>2</td>\n",
       "      <td>2020-02-07</td>\n",
       "      <td>2019-02-08</td>\n",
       "    </tr>\n",
       "    <tr>\n",
       "      <td>3</td>\n",
       "      <td>2020-02-08</td>\n",
       "      <td>2019-02-09</td>\n",
       "    </tr>\n",
       "    <tr>\n",
       "      <td>4</td>\n",
       "      <td>2020-02-09</td>\n",
       "      <td>2019-02-10</td>\n",
       "    </tr>\n",
       "  </tbody>\n",
       "</table>\n",
       "</div>"
      ],
      "text/plain": [
       "      twenty   nineteen\n",
       "0 2020-02-05 2019-02-06\n",
       "1 2020-02-06 2019-02-07\n",
       "2 2020-02-07 2019-02-08\n",
       "3 2020-02-08 2019-02-09\n",
       "4 2020-02-09 2019-02-10"
      ]
     },
     "execution_count": 77,
     "metadata": {},
     "output_type": "execute_result"
    }
   ],
   "source": [
    "match.head()"
   ]
  },
  {
   "cell_type": "code",
   "execution_count": 79,
   "metadata": {},
   "outputs": [],
   "source": [
    "match.columns = ['fulldate','nineteen']"
   ]
  },
  {
   "cell_type": "code",
   "execution_count": 80,
   "metadata": {},
   "outputs": [],
   "source": [
    "pop_zone_weekday_2020 = pop_zone_weekday_2020.merge(match,on='fulldate',how='left')\n",
    "pop_zone_weekend_2020 = pop_zone_weekend_2020.merge(match,on='fulldate',how='left')\n",
    "pop_zone_7to10_weekday_2020 = pop_zone_7to10_weekday_2020.merge(match,on='fulldate',how='left')\n",
    "pop_zone_7to10_weekend_2020 = pop_zone_7to10_weekend_2020.merge(match,on='fulldate',how='left')\n",
    "pop_zone_11to14_weekday_2020 = pop_zone_11to14_weekday_2020.merge(match,on='fulldate',how='left')\n",
    "pop_zone_11to14_weekend_2020 = pop_zone_11to14_weekend_2020.merge(match,on='fulldate',how='left')\n",
    "pop_zone_18to21_weekday_2020 = pop_zone_18to21_weekday_2020.merge(match,on='fulldate',how='left')\n",
    "pop_zone_18to21_weekend_2020 = pop_zone_18to21_weekend_2020.merge(match,on='fulldate',how='left')"
   ]
  },
  {
   "cell_type": "code",
   "execution_count": 85,
   "metadata": {},
   "outputs": [],
   "source": [
    "pop_zone_weekday_2020 = pop_zone_weekday_2020[~pop_zone_weekday_2020['nineteen'].isnull()]\n",
    "pop_zone_weekend_2020 = pop_zone_weekend_2020[~pop_zone_weekend_2020['nineteen'].isnull()]\n",
    "pop_zone_7to10_weekday_2020 = pop_zone_7to10_weekday_2020[~pop_zone_7to10_weekday_2020['nineteen'].isnull()]\n",
    "pop_zone_7to10_weekend_2020 = pop_zone_7to10_weekend_2020[~pop_zone_7to10_weekend_2020['nineteen'].isnull()]\n",
    "pop_zone_11to14_weekday_2020 = pop_zone_11to14_weekday_2020[~pop_zone_11to14_weekday_2020['nineteen'].isnull()]\n",
    "pop_zone_11to14_weekend_2020 = pop_zone_11to14_weekend_2020[~pop_zone_11to14_weekend_2020['nineteen'].isnull()]\n",
    "pop_zone_18to21_weekday_2020 = pop_zone_18to21_weekday_2020[~pop_zone_18to21_weekday_2020['nineteen'].isnull()]\n",
    "pop_zone_18to21_weekend_2020 = pop_zone_18to21_weekend_2020[~pop_zone_18to21_weekend_2020['nineteen'].isnull()]"
   ]
  },
  {
   "cell_type": "code",
   "execution_count": 89,
   "metadata": {},
   "outputs": [],
   "source": [
    "pop_zone_weekday_2020 = pop_zone_weekday_2020[['zone','ppl_geoloc','fulldate','nineteen']]\n",
    "pop_zone_weekend_2020 = pop_zone_weekend_2020[['zone','ppl_geoloc','fulldate','nineteen']]\n",
    "pop_zone_7to10_weekday_2020 = pop_zone_7to10_weekday_2020[['zone','ppl_geoloc','fulldate','nineteen']]\n",
    "pop_zone_7to10_weekend_2020 = pop_zone_7to10_weekend_2020[['zone','ppl_geoloc','fulldate','nineteen']]\n",
    "pop_zone_11to14_weekday_2020 = pop_zone_11to14_weekday_2020[['zone','ppl_geoloc','fulldate','nineteen']]\n",
    "pop_zone_11to14_weekend_2020 = pop_zone_11to14_weekend_2020[['zone','ppl_geoloc','fulldate','nineteen']]\n",
    "pop_zone_18to21_weekday_2020 = pop_zone_18to21_weekday_2020[['zone','ppl_geoloc','fulldate','nineteen']]\n",
    "pop_zone_18to21_weekend_2020 = pop_zone_18to21_weekend_2020[['zone','ppl_geoloc','fulldate','nineteen']]"
   ]
  },
  {
   "cell_type": "code",
   "execution_count": 92,
   "metadata": {},
   "outputs": [],
   "source": [
    "pop_zone_weekday.columns = ['nineteen','zone','floating population', 'dayofweek']\n",
    "pop_zone_weekend.columns = ['nineteen','zone','floating population', 'dayofweek']\n",
    "pop_zone_7to10_weekday.columns = ['nineteen','zone','floating population', 'dayofweek']\n",
    "pop_zone_7to10_weekend.columns = ['nineteen','zone','floating population', 'dayofweek']\n",
    "pop_zone_11to14_weekday.columns = ['nineteen','zone','floating population', 'dayofweek']\n",
    "pop_zone_11to14_weekend.columns = ['nineteen','zone','floating population', 'dayofweek']\n",
    "pop_zone_18to21_weekday.columns = ['nineteen','zone','floating population', 'dayofweek']\n",
    "pop_zone_18to21_weekend.columns = ['nineteen','zone','floating population', 'dayofweek']"
   ]
  },
  {
   "cell_type": "code",
   "execution_count": 102,
   "metadata": {},
   "outputs": [],
   "source": [
    "pop_zone_weekday_diff = pop_zone_weekday.merge(pop_zone_weekday_2020, on=['nineteen','zone'], how='inner')"
   ]
  },
  {
   "cell_type": "code",
   "execution_count": 103,
   "metadata": {},
   "outputs": [],
   "source": [
    "pop_zone_weekday_diff = pop_zone_weekday_diff[(pop_zone_weekday_diff['floating population'] != 0) & (pop_zone_weekday_diff['ppl_geoloc'] != 0)]\n",
    "pop_zone_weekday_diff['population ratio'] = pop_zone_weekday_diff['ppl_geoloc']/pop_zone_weekday_diff['floating population']"
   ]
  },
  {
   "cell_type": "code",
   "execution_count": 106,
   "metadata": {},
   "outputs": [
    {
     "data": {
      "text/html": [
       "<div>\n",
       "<style scoped>\n",
       "    .dataframe tbody tr th:only-of-type {\n",
       "        vertical-align: middle;\n",
       "    }\n",
       "\n",
       "    .dataframe tbody tr th {\n",
       "        vertical-align: top;\n",
       "    }\n",
       "\n",
       "    .dataframe thead th {\n",
       "        text-align: right;\n",
       "    }\n",
       "</style>\n",
       "<table border=\"1\" class=\"dataframe\">\n",
       "  <thead>\n",
       "    <tr style=\"text-align: right;\">\n",
       "      <th></th>\n",
       "      <th>nineteen</th>\n",
       "      <th>zone</th>\n",
       "      <th>floating population</th>\n",
       "      <th>dayofweek</th>\n",
       "      <th>ppl_geoloc</th>\n",
       "      <th>fulldate</th>\n",
       "      <th>population ratio</th>\n",
       "    </tr>\n",
       "  </thead>\n",
       "  <tbody>\n",
       "    <tr>\n",
       "      <td>0</td>\n",
       "      <td>2019-02-06</td>\n",
       "      <td>1101053010001</td>\n",
       "      <td>5315.0</td>\n",
       "      <td>Wednesday</td>\n",
       "      <td>9598.0</td>\n",
       "      <td>2020-02-05</td>\n",
       "      <td>1.805833</td>\n",
       "    </tr>\n",
       "    <tr>\n",
       "      <td>1</td>\n",
       "      <td>2019-02-06</td>\n",
       "      <td>1101053010002</td>\n",
       "      <td>21226.0</td>\n",
       "      <td>Wednesday</td>\n",
       "      <td>42837.0</td>\n",
       "      <td>2020-02-05</td>\n",
       "      <td>2.018138</td>\n",
       "    </tr>\n",
       "    <tr>\n",
       "      <td>2</td>\n",
       "      <td>2019-02-06</td>\n",
       "      <td>1101053010003</td>\n",
       "      <td>25230.0</td>\n",
       "      <td>Wednesday</td>\n",
       "      <td>39583.0</td>\n",
       "      <td>2020-02-05</td>\n",
       "      <td>1.568886</td>\n",
       "    </tr>\n",
       "    <tr>\n",
       "      <td>3</td>\n",
       "      <td>2019-02-06</td>\n",
       "      <td>1101053010004</td>\n",
       "      <td>29683.0</td>\n",
       "      <td>Wednesday</td>\n",
       "      <td>44954.0</td>\n",
       "      <td>2020-02-05</td>\n",
       "      <td>1.514470</td>\n",
       "    </tr>\n",
       "    <tr>\n",
       "      <td>4</td>\n",
       "      <td>2019-02-06</td>\n",
       "      <td>1101053010005</td>\n",
       "      <td>26019.0</td>\n",
       "      <td>Wednesday</td>\n",
       "      <td>29905.0</td>\n",
       "      <td>2020-02-05</td>\n",
       "      <td>1.149352</td>\n",
       "    </tr>\n",
       "  </tbody>\n",
       "</table>\n",
       "</div>"
      ],
      "text/plain": [
       "    nineteen           zone  floating population  dayofweek  ppl_geoloc  \\\n",
       "0 2019-02-06  1101053010001               5315.0  Wednesday      9598.0   \n",
       "1 2019-02-06  1101053010002              21226.0  Wednesday     42837.0   \n",
       "2 2019-02-06  1101053010003              25230.0  Wednesday     39583.0   \n",
       "3 2019-02-06  1101053010004              29683.0  Wednesday     44954.0   \n",
       "4 2019-02-06  1101053010005              26019.0  Wednesday     29905.0   \n",
       "\n",
       "    fulldate  population ratio  \n",
       "0 2020-02-05          1.805833  \n",
       "1 2020-02-05          2.018138  \n",
       "2 2020-02-05          1.568886  \n",
       "3 2020-02-05          1.514470  \n",
       "4 2020-02-05          1.149352  "
      ]
     },
     "execution_count": 106,
     "metadata": {},
     "output_type": "execute_result"
    }
   ],
   "source": [
    "pop_zone_weekday_diff.head()"
   ]
  },
  {
   "cell_type": "code",
   "execution_count": 107,
   "metadata": {},
   "outputs": [],
   "source": [
    "pop_zone_weekday_diff = pop_zone_weekday_diff[['zone','fulldate','population ratio']]"
   ]
  },
  {
   "cell_type": "code",
   "execution_count": 108,
   "metadata": {},
   "outputs": [],
   "source": [
    "pop_zone_weekend_diff = pop_zone_weekend.merge(pop_zone_weekend_2020, on=['nineteen','zone'], how='inner')\n",
    "pop_zone_weekend_diff = pop_zone_weekend_diff[(pop_zone_weekend_diff['floating population'] != 0) & (pop_zone_weekend_diff['ppl_geoloc'] != 0)]\n",
    "pop_zone_weekend_diff['population ratio'] = pop_zone_weekend_diff['ppl_geoloc']/pop_zone_weekend_diff['floating population']\n",
    "pop_zone_weekend_diff = pop_zone_weekend_diff[['zone','fulldate','population ratio']]"
   ]
  },
  {
   "cell_type": "code",
   "execution_count": 109,
   "metadata": {},
   "outputs": [],
   "source": [
    "pop_zone_7to10_weekday_diff = pop_zone_7to10_weekday.merge(pop_zone_7to10_weekday_2020, on=['nineteen','zone'], how='inner')\n",
    "pop_zone_7to10_weekday_diff = pop_zone_7to10_weekday_diff[(pop_zone_7to10_weekday_diff['floating population'] != 0) & (pop_zone_7to10_weekday_diff['ppl_geoloc'] != 0)]\n",
    "pop_zone_7to10_weekday_diff['population ratio'] = pop_zone_7to10_weekday_diff['ppl_geoloc']/pop_zone_7to10_weekday_diff['floating population']\n",
    "pop_zone_7to10_weekday_diff = pop_zone_7to10_weekday_diff[['zone','fulldate','population ratio']]"
   ]
  },
  {
   "cell_type": "code",
   "execution_count": 110,
   "metadata": {},
   "outputs": [],
   "source": [
    "pop_zone_7to10_weekend_diff = pop_zone_7to10_weekend.merge(pop_zone_7to10_weekend_2020, on=['nineteen','zone'], how='inner')\n",
    "pop_zone_7to10_weekend_diff = pop_zone_7to10_weekend_diff[(pop_zone_7to10_weekend_diff['floating population'] != 0) & (pop_zone_7to10_weekend_diff['ppl_geoloc'] != 0)]\n",
    "pop_zone_7to10_weekend_diff['population ratio'] = pop_zone_7to10_weekend_diff['ppl_geoloc']/pop_zone_7to10_weekend_diff['floating population']\n",
    "pop_zone_7to10_weekend_diff = pop_zone_7to10_weekend_diff[['zone','fulldate','population ratio']]"
   ]
  },
  {
   "cell_type": "code",
   "execution_count": 111,
   "metadata": {},
   "outputs": [],
   "source": [
    "pop_zone_11to14_weekday_diff = pop_zone_11to14_weekday.merge(pop_zone_11to14_weekday_2020, on=['nineteen','zone'], how='inner')\n",
    "pop_zone_11to14_weekday_diff = pop_zone_11to14_weekday_diff[(pop_zone_11to14_weekday_diff['floating population'] != 0) & (pop_zone_11to14_weekday_diff['ppl_geoloc'] != 0)]\n",
    "pop_zone_11to14_weekday_diff['population ratio'] = pop_zone_11to14_weekday_diff['ppl_geoloc']/pop_zone_11to14_weekday_diff['floating population']\n",
    "pop_zone_11to14_weekday_diff = pop_zone_11to14_weekday_diff[['zone','fulldate','population ratio']]\n",
    "pop_zone_11to14_weekend_diff = pop_zone_11to14_weekend.merge(pop_zone_11to14_weekend_2020, on=['nineteen','zone'], how='inner')\n",
    "pop_zone_11to14_weekend_diff = pop_zone_11to14_weekend_diff[(pop_zone_11to14_weekend_diff['floating population'] != 0) & (pop_zone_11to14_weekend_diff['ppl_geoloc'] != 0)]\n",
    "pop_zone_11to14_weekend_diff['population ratio'] = pop_zone_11to14_weekend_diff['ppl_geoloc']/pop_zone_11to14_weekend_diff['floating population']\n",
    "pop_zone_11to14_weekend_diff = pop_zone_11to14_weekend_diff[['zone','fulldate','population ratio']]"
   ]
  },
  {
   "cell_type": "code",
   "execution_count": 112,
   "metadata": {},
   "outputs": [],
   "source": [
    "pop_zone_18to21_weekday_diff = pop_zone_18to21_weekday.merge(pop_zone_18to21_weekday_2020, on=['nineteen','zone'], how='inner')\n",
    "pop_zone_18to21_weekday_diff = pop_zone_18to21_weekday_diff[(pop_zone_18to21_weekday_diff['floating population'] != 0) & (pop_zone_18to21_weekday_diff['ppl_geoloc'] != 0)]\n",
    "pop_zone_18to21_weekday_diff['population ratio'] = pop_zone_18to21_weekday_diff['ppl_geoloc']/pop_zone_18to21_weekday_diff['floating population']\n",
    "pop_zone_18to21_weekday_diff = pop_zone_18to21_weekday_diff[['zone','fulldate','population ratio']]\n",
    "pop_zone_18to21_weekend_diff = pop_zone_18to21_weekend.merge(pop_zone_18to21_weekend_2020, on=['nineteen','zone'], how='inner')\n",
    "pop_zone_18to21_weekend_diff = pop_zone_18to21_weekend_diff[(pop_zone_18to21_weekend_diff['floating population'] != 0) & (pop_zone_18to21_weekend_diff['ppl_geoloc'] != 0)]\n",
    "pop_zone_18to21_weekend_diff['population ratio'] = pop_zone_18to21_weekend_diff['ppl_geoloc']/pop_zone_18to21_weekend_diff['floating population']\n",
    "pop_zone_18to21_weekend_diff = pop_zone_18to21_weekend_diff[['zone','fulldate','population ratio']]"
   ]
  },
  {
   "cell_type": "code",
   "execution_count": 115,
   "metadata": {},
   "outputs": [],
   "source": [
    "starbucks = pd.read_csv('POI_coord_data\\\\Starbucks.csv')\n",
    "michelin = pd.read_csv('POI_coord_data\\\\Michelin.csv')\n",
    "department = pd.read_csv('POI_coord_data\\\\dep_store.csv')\n",
    "bib_gourmand = pd.read_csv('POI_coord_data\\\\bib_Gourmand.csv')"
   ]
  },
  {
   "cell_type": "code",
   "execution_count": 116,
   "metadata": {},
   "outputs": [
    {
     "data": {
      "text/html": [
       "<div>\n",
       "<style scoped>\n",
       "    .dataframe tbody tr th:only-of-type {\n",
       "        vertical-align: middle;\n",
       "    }\n",
       "\n",
       "    .dataframe tbody tr th {\n",
       "        vertical-align: top;\n",
       "    }\n",
       "\n",
       "    .dataframe thead th {\n",
       "        text-align: right;\n",
       "    }\n",
       "</style>\n",
       "<table border=\"1\" class=\"dataframe\">\n",
       "  <thead>\n",
       "    <tr style=\"text-align: right;\">\n",
       "      <th></th>\n",
       "      <th>Rowid</th>\n",
       "      <th>FID</th>\n",
       "      <th>TOT_REG_CD</th>\n",
       "      <th>FREQUENCY</th>\n",
       "      <th>COUNT_TOT_REG_CD</th>\n",
       "    </tr>\n",
       "  </thead>\n",
       "  <tbody>\n",
       "    <tr>\n",
       "      <td>0</td>\n",
       "      <td>1</td>\n",
       "      <td>0</td>\n",
       "      <td>1101053010001</td>\n",
       "      <td>1</td>\n",
       "      <td>1</td>\n",
       "    </tr>\n",
       "    <tr>\n",
       "      <td>1</td>\n",
       "      <td>2</td>\n",
       "      <td>0</td>\n",
       "      <td>1101053020002</td>\n",
       "      <td>2</td>\n",
       "      <td>2</td>\n",
       "    </tr>\n",
       "    <tr>\n",
       "      <td>2</td>\n",
       "      <td>3</td>\n",
       "      <td>0</td>\n",
       "      <td>1101058020002</td>\n",
       "      <td>1</td>\n",
       "      <td>1</td>\n",
       "    </tr>\n",
       "    <tr>\n",
       "      <td>3</td>\n",
       "      <td>4</td>\n",
       "      <td>0</td>\n",
       "      <td>1101060020001</td>\n",
       "      <td>1</td>\n",
       "      <td>1</td>\n",
       "    </tr>\n",
       "    <tr>\n",
       "      <td>4</td>\n",
       "      <td>5</td>\n",
       "      <td>0</td>\n",
       "      <td>1101061030001</td>\n",
       "      <td>2</td>\n",
       "      <td>2</td>\n",
       "    </tr>\n",
       "  </tbody>\n",
       "</table>\n",
       "</div>"
      ],
      "text/plain": [
       "   Rowid  FID     TOT_REG_CD  FREQUENCY  COUNT_TOT_REG_CD\n",
       "0      1    0  1101053010001          1                 1\n",
       "1      2    0  1101053020002          2                 2\n",
       "2      3    0  1101058020002          1                 1\n",
       "3      4    0  1101060020001          1                 1\n",
       "4      5    0  1101061030001          2                 2"
      ]
     },
     "execution_count": 116,
     "metadata": {},
     "output_type": "execute_result"
    }
   ],
   "source": [
    "starbucks.head()"
   ]
  },
  {
   "cell_type": "code",
   "execution_count": 117,
   "metadata": {},
   "outputs": [],
   "source": [
    "pop_zone_weekday_diff.to_csv('pop_zone_weekday_diff.csv')\n",
    "pop_zone_weekend_diff.to_csv('pop_zone_weekend_diff.csv')\n",
    "pop_zone_7to10_weekday_diff.to_csv('pop_zone_7to10_weekday_diff.csv')\n",
    "pop_zone_7to10_weekend_diff.to_csv('pop_zone_7to10_weekend_diff.csv')\n",
    "pop_zone_11to14_weekday_diff.to_csv('pop_zone_11to14_weekday_diff.csv')\n",
    "pop_zone_11to14_weekend_diff.to_csv('pop_zone_11to14_weekend_diff.csv')\n",
    "pop_zone_18to21_weekday_diff.to_csv('pop_zone_18to21_weekday_diff.csv')\n",
    "pop_zone_18to21_weekend_diff.to_csv('pop_zone_18to21_weekend_diff.csv')"
   ]
  },
  {
   "cell_type": "code",
   "execution_count": 120,
   "metadata": {},
   "outputs": [],
   "source": [
    "starbucks_weekday = pop_zone_weekday_diff[pop_zone_weekday_diff.zone.isin(starbucks['TOT_REG_CD'].unique())].groupby(['fulldate'])['population ratio'].mean().reset_index()"
   ]
  },
  {
   "cell_type": "code",
   "execution_count": 122,
   "metadata": {},
   "outputs": [
    {
     "data": {
      "text/html": [
       "<div>\n",
       "<style scoped>\n",
       "    .dataframe tbody tr th:only-of-type {\n",
       "        vertical-align: middle;\n",
       "    }\n",
       "\n",
       "    .dataframe tbody tr th {\n",
       "        vertical-align: top;\n",
       "    }\n",
       "\n",
       "    .dataframe thead th {\n",
       "        text-align: right;\n",
       "    }\n",
       "</style>\n",
       "<table border=\"1\" class=\"dataframe\">\n",
       "  <thead>\n",
       "    <tr style=\"text-align: right;\">\n",
       "      <th></th>\n",
       "      <th>fulldate</th>\n",
       "      <th>population ratio</th>\n",
       "    </tr>\n",
       "  </thead>\n",
       "  <tbody>\n",
       "    <tr>\n",
       "      <td>0</td>\n",
       "      <td>2020-02-05</td>\n",
       "      <td>1.652528</td>\n",
       "    </tr>\n",
       "    <tr>\n",
       "      <td>1</td>\n",
       "      <td>2020-02-06</td>\n",
       "      <td>1.113636</td>\n",
       "    </tr>\n",
       "    <tr>\n",
       "      <td>2</td>\n",
       "      <td>2020-02-07</td>\n",
       "      <td>1.047796</td>\n",
       "    </tr>\n",
       "    <tr>\n",
       "      <td>3</td>\n",
       "      <td>2020-02-10</td>\n",
       "      <td>1.047768</td>\n",
       "    </tr>\n",
       "    <tr>\n",
       "      <td>4</td>\n",
       "      <td>2020-02-11</td>\n",
       "      <td>1.053093</td>\n",
       "    </tr>\n",
       "    <tr>\n",
       "      <td>5</td>\n",
       "      <td>2020-02-12</td>\n",
       "      <td>1.044543</td>\n",
       "    </tr>\n",
       "    <tr>\n",
       "      <td>6</td>\n",
       "      <td>2020-02-13</td>\n",
       "      <td>1.053899</td>\n",
       "    </tr>\n",
       "    <tr>\n",
       "      <td>7</td>\n",
       "      <td>2020-02-14</td>\n",
       "      <td>1.057143</td>\n",
       "    </tr>\n",
       "    <tr>\n",
       "      <td>8</td>\n",
       "      <td>2020-02-17</td>\n",
       "      <td>1.045278</td>\n",
       "    </tr>\n",
       "    <tr>\n",
       "      <td>9</td>\n",
       "      <td>2020-02-18</td>\n",
       "      <td>1.066079</td>\n",
       "    </tr>\n",
       "    <tr>\n",
       "      <td>10</td>\n",
       "      <td>2020-02-19</td>\n",
       "      <td>1.114276</td>\n",
       "    </tr>\n",
       "    <tr>\n",
       "      <td>11</td>\n",
       "      <td>2020-02-20</td>\n",
       "      <td>1.114164</td>\n",
       "    </tr>\n",
       "    <tr>\n",
       "      <td>12</td>\n",
       "      <td>2020-02-21</td>\n",
       "      <td>1.110153</td>\n",
       "    </tr>\n",
       "    <tr>\n",
       "      <td>13</td>\n",
       "      <td>2020-02-24</td>\n",
       "      <td>1.091459</td>\n",
       "    </tr>\n",
       "    <tr>\n",
       "      <td>14</td>\n",
       "      <td>2020-02-25</td>\n",
       "      <td>1.013046</td>\n",
       "    </tr>\n",
       "    <tr>\n",
       "      <td>15</td>\n",
       "      <td>2020-02-26</td>\n",
       "      <td>1.000012</td>\n",
       "    </tr>\n",
       "    <tr>\n",
       "      <td>16</td>\n",
       "      <td>2020-02-27</td>\n",
       "      <td>0.992646</td>\n",
       "    </tr>\n",
       "    <tr>\n",
       "      <td>17</td>\n",
       "      <td>2020-02-28</td>\n",
       "      <td>1.140407</td>\n",
       "    </tr>\n",
       "    <tr>\n",
       "      <td>18</td>\n",
       "      <td>2020-03-02</td>\n",
       "      <td>0.959279</td>\n",
       "    </tr>\n",
       "    <tr>\n",
       "      <td>19</td>\n",
       "      <td>2020-03-03</td>\n",
       "      <td>0.972419</td>\n",
       "    </tr>\n",
       "    <tr>\n",
       "      <td>20</td>\n",
       "      <td>2020-03-04</td>\n",
       "      <td>0.969241</td>\n",
       "    </tr>\n",
       "    <tr>\n",
       "      <td>21</td>\n",
       "      <td>2020-03-05</td>\n",
       "      <td>0.967622</td>\n",
       "    </tr>\n",
       "    <tr>\n",
       "      <td>22</td>\n",
       "      <td>2020-03-06</td>\n",
       "      <td>0.968170</td>\n",
       "    </tr>\n",
       "    <tr>\n",
       "      <td>23</td>\n",
       "      <td>2020-03-09</td>\n",
       "      <td>0.982181</td>\n",
       "    </tr>\n",
       "    <tr>\n",
       "      <td>24</td>\n",
       "      <td>2020-03-10</td>\n",
       "      <td>0.975138</td>\n",
       "    </tr>\n",
       "    <tr>\n",
       "      <td>25</td>\n",
       "      <td>2020-03-11</td>\n",
       "      <td>0.966321</td>\n",
       "    </tr>\n",
       "    <tr>\n",
       "      <td>26</td>\n",
       "      <td>2020-03-12</td>\n",
       "      <td>0.970037</td>\n",
       "    </tr>\n",
       "    <tr>\n",
       "      <td>27</td>\n",
       "      <td>2020-03-13</td>\n",
       "      <td>0.961359</td>\n",
       "    </tr>\n",
       "    <tr>\n",
       "      <td>28</td>\n",
       "      <td>2020-03-16</td>\n",
       "      <td>0.993687</td>\n",
       "    </tr>\n",
       "    <tr>\n",
       "      <td>29</td>\n",
       "      <td>2020-03-17</td>\n",
       "      <td>0.996630</td>\n",
       "    </tr>\n",
       "    <tr>\n",
       "      <td>30</td>\n",
       "      <td>2020-03-18</td>\n",
       "      <td>0.996603</td>\n",
       "    </tr>\n",
       "    <tr>\n",
       "      <td>31</td>\n",
       "      <td>2020-03-19</td>\n",
       "      <td>0.989011</td>\n",
       "    </tr>\n",
       "    <tr>\n",
       "      <td>32</td>\n",
       "      <td>2020-03-20</td>\n",
       "      <td>0.981153</td>\n",
       "    </tr>\n",
       "    <tr>\n",
       "      <td>33</td>\n",
       "      <td>2020-03-23</td>\n",
       "      <td>0.985855</td>\n",
       "    </tr>\n",
       "    <tr>\n",
       "      <td>34</td>\n",
       "      <td>2020-03-24</td>\n",
       "      <td>0.978971</td>\n",
       "    </tr>\n",
       "    <tr>\n",
       "      <td>35</td>\n",
       "      <td>2020-03-25</td>\n",
       "      <td>0.981268</td>\n",
       "    </tr>\n",
       "    <tr>\n",
       "      <td>36</td>\n",
       "      <td>2020-03-26</td>\n",
       "      <td>0.979050</td>\n",
       "    </tr>\n",
       "    <tr>\n",
       "      <td>37</td>\n",
       "      <td>2020-03-27</td>\n",
       "      <td>0.984177</td>\n",
       "    </tr>\n",
       "    <tr>\n",
       "      <td>38</td>\n",
       "      <td>2020-03-30</td>\n",
       "      <td>1.006733</td>\n",
       "    </tr>\n",
       "    <tr>\n",
       "      <td>39</td>\n",
       "      <td>2020-03-31</td>\n",
       "      <td>1.006192</td>\n",
       "    </tr>\n",
       "    <tr>\n",
       "      <td>40</td>\n",
       "      <td>2020-04-01</td>\n",
       "      <td>0.989591</td>\n",
       "    </tr>\n",
       "    <tr>\n",
       "      <td>41</td>\n",
       "      <td>2020-04-02</td>\n",
       "      <td>0.985019</td>\n",
       "    </tr>\n",
       "    <tr>\n",
       "      <td>42</td>\n",
       "      <td>2020-04-03</td>\n",
       "      <td>0.983717</td>\n",
       "    </tr>\n",
       "    <tr>\n",
       "      <td>43</td>\n",
       "      <td>2020-04-06</td>\n",
       "      <td>0.999900</td>\n",
       "    </tr>\n",
       "    <tr>\n",
       "      <td>44</td>\n",
       "      <td>2020-04-07</td>\n",
       "      <td>0.996522</td>\n",
       "    </tr>\n",
       "    <tr>\n",
       "      <td>45</td>\n",
       "      <td>2020-04-08</td>\n",
       "      <td>0.990194</td>\n",
       "    </tr>\n",
       "    <tr>\n",
       "      <td>46</td>\n",
       "      <td>2020-04-09</td>\n",
       "      <td>0.991482</td>\n",
       "    </tr>\n",
       "    <tr>\n",
       "      <td>47</td>\n",
       "      <td>2020-04-10</td>\n",
       "      <td>0.991053</td>\n",
       "    </tr>\n",
       "    <tr>\n",
       "      <td>48</td>\n",
       "      <td>2020-04-13</td>\n",
       "      <td>0.999025</td>\n",
       "    </tr>\n",
       "    <tr>\n",
       "      <td>49</td>\n",
       "      <td>2020-04-14</td>\n",
       "      <td>1.007474</td>\n",
       "    </tr>\n",
       "    <tr>\n",
       "      <td>50</td>\n",
       "      <td>2020-04-16</td>\n",
       "      <td>0.999997</td>\n",
       "    </tr>\n",
       "    <tr>\n",
       "      <td>51</td>\n",
       "      <td>2020-04-17</td>\n",
       "      <td>0.999727</td>\n",
       "    </tr>\n",
       "  </tbody>\n",
       "</table>\n",
       "</div>"
      ],
      "text/plain": [
       "     fulldate  population ratio\n",
       "0  2020-02-05          1.652528\n",
       "1  2020-02-06          1.113636\n",
       "2  2020-02-07          1.047796\n",
       "3  2020-02-10          1.047768\n",
       "4  2020-02-11          1.053093\n",
       "5  2020-02-12          1.044543\n",
       "6  2020-02-13          1.053899\n",
       "7  2020-02-14          1.057143\n",
       "8  2020-02-17          1.045278\n",
       "9  2020-02-18          1.066079\n",
       "10 2020-02-19          1.114276\n",
       "11 2020-02-20          1.114164\n",
       "12 2020-02-21          1.110153\n",
       "13 2020-02-24          1.091459\n",
       "14 2020-02-25          1.013046\n",
       "15 2020-02-26          1.000012\n",
       "16 2020-02-27          0.992646\n",
       "17 2020-02-28          1.140407\n",
       "18 2020-03-02          0.959279\n",
       "19 2020-03-03          0.972419\n",
       "20 2020-03-04          0.969241\n",
       "21 2020-03-05          0.967622\n",
       "22 2020-03-06          0.968170\n",
       "23 2020-03-09          0.982181\n",
       "24 2020-03-10          0.975138\n",
       "25 2020-03-11          0.966321\n",
       "26 2020-03-12          0.970037\n",
       "27 2020-03-13          0.961359\n",
       "28 2020-03-16          0.993687\n",
       "29 2020-03-17          0.996630\n",
       "30 2020-03-18          0.996603\n",
       "31 2020-03-19          0.989011\n",
       "32 2020-03-20          0.981153\n",
       "33 2020-03-23          0.985855\n",
       "34 2020-03-24          0.978971\n",
       "35 2020-03-25          0.981268\n",
       "36 2020-03-26          0.979050\n",
       "37 2020-03-27          0.984177\n",
       "38 2020-03-30          1.006733\n",
       "39 2020-03-31          1.006192\n",
       "40 2020-04-01          0.989591\n",
       "41 2020-04-02          0.985019\n",
       "42 2020-04-03          0.983717\n",
       "43 2020-04-06          0.999900\n",
       "44 2020-04-07          0.996522\n",
       "45 2020-04-08          0.990194\n",
       "46 2020-04-09          0.991482\n",
       "47 2020-04-10          0.991053\n",
       "48 2020-04-13          0.999025\n",
       "49 2020-04-14          1.007474\n",
       "50 2020-04-16          0.999997\n",
       "51 2020-04-17          0.999727"
      ]
     },
     "execution_count": 122,
     "metadata": {},
     "output_type": "execute_result"
    }
   ],
   "source": [
    "starbucks_weekday"
   ]
  },
  {
   "cell_type": "code",
   "execution_count": 123,
   "metadata": {},
   "outputs": [],
   "source": [
    "starbucks_weekday = pop_zone_weekday_diff[pop_zone_weekday_diff.zone.isin(starbucks['TOT_REG_CD'].unique())].groupby(['fulldate'])['population ratio'].mean().reset_index()\n",
    "starbucks_weekend = pop_zone_weekend_diff[pop_zone_weekend_diff.zone.isin(starbucks['TOT_REG_CD'].unique())].groupby(['fulldate'])['population ratio'].mean().reset_index()\n",
    "starbucks_7to10_weekday = pop_zone_7to10_weekday_diff[pop_zone_7to10_weekday_diff.zone.isin(starbucks['TOT_REG_CD'].unique())].groupby(['fulldate'])['population ratio'].mean().reset_index()\n",
    "starbucks_7to10_weekend = pop_zone_7to10_weekend_diff[pop_zone_7to10_weekend_diff.zone.isin(starbucks['TOT_REG_CD'].unique())].groupby(['fulldate'])['population ratio'].mean().reset_index()\n",
    "starbucks_11to14_weekday = pop_zone_11to14_weekday_diff[pop_zone_11to14_weekday_diff.zone.isin(starbucks['TOT_REG_CD'].unique())].groupby(['fulldate'])['population ratio'].mean().reset_index()\n",
    "starbucks_11to14_weekend = pop_zone_11to14_weekend_diff[pop_zone_11to14_weekend_diff.zone.isin(starbucks['TOT_REG_CD'].unique())].groupby(['fulldate'])['population ratio'].mean().reset_index()\n",
    "starbucks_18to21_weekday = pop_zone_18to21_weekday_diff[pop_zone_18to21_weekday_diff.zone.isin(starbucks['TOT_REG_CD'].unique())].groupby(['fulldate'])['population ratio'].mean().reset_index()\n",
    "starbucks_18to21_weekend = pop_zone_18to21_weekend_diff[pop_zone_18to21_weekend_diff.zone.isin(starbucks['TOT_REG_CD'].unique())].groupby(['fulldate'])['population ratio'].mean().reset_index()\n"
   ]
  },
  {
   "cell_type": "code",
   "execution_count": 124,
   "metadata": {},
   "outputs": [],
   "source": [
    "michelin_weekday = pop_zone_weekday_diff[pop_zone_weekday_diff.zone.isin(michelin['TOT_REG_CD'].unique())].groupby(['fulldate'])['population ratio'].mean().reset_index()\n",
    "michelin_weekend = pop_zone_weekend_diff[pop_zone_weekend_diff.zone.isin(michelin['TOT_REG_CD'].unique())].groupby(['fulldate'])['population ratio'].mean().reset_index()\n",
    "michelin_7to10_weekday = pop_zone_7to10_weekday_diff[pop_zone_7to10_weekday_diff.zone.isin(michelin['TOT_REG_CD'].unique())].groupby(['fulldate'])['population ratio'].mean().reset_index()\n",
    "michelin_7to10_weekend = pop_zone_7to10_weekend_diff[pop_zone_7to10_weekend_diff.zone.isin(michelin['TOT_REG_CD'].unique())].groupby(['fulldate'])['population ratio'].mean().reset_index()\n",
    "michelin_11to14_weekday = pop_zone_11to14_weekday_diff[pop_zone_11to14_weekday_diff.zone.isin(michelin['TOT_REG_CD'].unique())].groupby(['fulldate'])['population ratio'].mean().reset_index()\n",
    "michelin_11to14_weekend = pop_zone_11to14_weekend_diff[pop_zone_11to14_weekend_diff.zone.isin(michelin['TOT_REG_CD'].unique())].groupby(['fulldate'])['population ratio'].mean().reset_index()\n",
    "michelin_18to21_weekday = pop_zone_18to21_weekday_diff[pop_zone_18to21_weekday_diff.zone.isin(michelin['TOT_REG_CD'].unique())].groupby(['fulldate'])['population ratio'].mean().reset_index()\n",
    "michelin_18to21_weekend = pop_zone_18to21_weekend_diff[pop_zone_18to21_weekend_diff.zone.isin(michelin['TOT_REG_CD'].unique())].groupby(['fulldate'])['population ratio'].mean().reset_index()\n"
   ]
  },
  {
   "cell_type": "code",
   "execution_count": 126,
   "metadata": {},
   "outputs": [],
   "source": [
    "department_weekday = pop_zone_weekday_diff[pop_zone_weekday_diff.zone.isin(department['TOT_REG_CD'].unique())].groupby(['fulldate'])['population ratio'].mean().reset_index()\n",
    "department_weekend = pop_zone_weekend_diff[pop_zone_weekend_diff.zone.isin(department['TOT_REG_CD'].unique())].groupby(['fulldate'])['population ratio'].mean().reset_index()\n",
    "department_7to10_weekday = pop_zone_7to10_weekday_diff[pop_zone_7to10_weekday_diff.zone.isin(department['TOT_REG_CD'].unique())].groupby(['fulldate'])['population ratio'].mean().reset_index()\n",
    "department_7to10_weekend = pop_zone_7to10_weekend_diff[pop_zone_7to10_weekend_diff.zone.isin(department['TOT_REG_CD'].unique())].groupby(['fulldate'])['population ratio'].mean().reset_index()\n",
    "department_11to14_weekday = pop_zone_11to14_weekday_diff[pop_zone_11to14_weekday_diff.zone.isin(department['TOT_REG_CD'].unique())].groupby(['fulldate'])['population ratio'].mean().reset_index()\n",
    "department_11to14_weekend = pop_zone_11to14_weekend_diff[pop_zone_11to14_weekend_diff.zone.isin(department['TOT_REG_CD'].unique())].groupby(['fulldate'])['population ratio'].mean().reset_index()\n",
    "department_18to21_weekday = pop_zone_18to21_weekday_diff[pop_zone_18to21_weekday_diff.zone.isin(department['TOT_REG_CD'].unique())].groupby(['fulldate'])['population ratio'].mean().reset_index()\n",
    "department_18to21_weekend = pop_zone_18to21_weekend_diff[pop_zone_18to21_weekend_diff.zone.isin(department['TOT_REG_CD'].unique())].groupby(['fulldate'])['population ratio'].mean().reset_index()\n"
   ]
  },
  {
   "cell_type": "code",
   "execution_count": 127,
   "metadata": {},
   "outputs": [],
   "source": [
    "bib_gourmand_weekday = pop_zone_weekday_diff[pop_zone_weekday_diff.zone.isin(bib_gourmand['TOT_REG_CD'].unique())].groupby(['fulldate'])['population ratio'].mean().reset_index()\n",
    "bib_gourmand_weekend = pop_zone_weekend_diff[pop_zone_weekend_diff.zone.isin(bib_gourmand['TOT_REG_CD'].unique())].groupby(['fulldate'])['population ratio'].mean().reset_index()\n",
    "bib_gourmand_7to10_weekday = pop_zone_7to10_weekday_diff[pop_zone_7to10_weekday_diff.zone.isin(bib_gourmand['TOT_REG_CD'].unique())].groupby(['fulldate'])['population ratio'].mean().reset_index()\n",
    "bib_gourmand_7to10_weekend = pop_zone_7to10_weekend_diff[pop_zone_7to10_weekend_diff.zone.isin(bib_gourmand['TOT_REG_CD'].unique())].groupby(['fulldate'])['population ratio'].mean().reset_index()\n",
    "bib_gourmand_11to14_weekday = pop_zone_11to14_weekday_diff[pop_zone_11to14_weekday_diff.zone.isin(bib_gourmand['TOT_REG_CD'].unique())].groupby(['fulldate'])['population ratio'].mean().reset_index()\n",
    "bib_gourmand_11to14_weekend = pop_zone_11to14_weekend_diff[pop_zone_11to14_weekend_diff.zone.isin(bib_gourmand['TOT_REG_CD'].unique())].groupby(['fulldate'])['population ratio'].mean().reset_index()\n",
    "bib_gourmand_18to21_weekday = pop_zone_18to21_weekday_diff[pop_zone_18to21_weekday_diff.zone.isin(bib_gourmand['TOT_REG_CD'].unique())].groupby(['fulldate'])['population ratio'].mean().reset_index()\n",
    "bib_gourmand_18to21_weekend = pop_zone_18to21_weekend_diff[pop_zone_18to21_weekend_diff.zone.isin(bib_gourmand['TOT_REG_CD'].unique())].groupby(['fulldate'])['population ratio'].mean().reset_index()\n"
   ]
  },
  {
   "cell_type": "code",
   "execution_count": 128,
   "metadata": {},
   "outputs": [],
   "source": [
    "starbucks_weekday.to_csv('starbucks\\\\starbucks_weekday.csv')\n",
    "starbucks_weekend.to_csv('starbucks\\\\starbucks_weekend.csv')\n",
    "starbucks_7to10_weekday.to_csv('starbucks\\\\starbucks_7to10_weekday.csv')\n",
    "starbucks_7to10_weekend.to_csv('starbucks\\\\starbucks_7to10_weekend.csv')\n",
    "starbucks_11to14_weekday.to_csv('starbucks\\\\starbucks_11to14_weekday.csv')\n",
    "starbucks_11to14_weekend.to_csv('starbucks\\\\starbucks_11to14_weekend.csv')\n",
    "starbucks_18to21_weekday.to_csv('starbucks\\\\starbucks_18to21_weekday.csv')\n",
    "starbucks_18to21_weekend.to_csv('starbucks\\\\starbucks_18to21_weekend.csv')"
   ]
  },
  {
   "cell_type": "code",
   "execution_count": 129,
   "metadata": {},
   "outputs": [],
   "source": [
    "michelin_weekday.to_csv('michelin\\\\michelin_weekday.csv')\n",
    "michelin_weekend.to_csv('michelin\\\\michelin_weekend.csv')\n",
    "michelin_7to10_weekday.to_csv('michelin\\\\michelin_7to10_weekday.csv')\n",
    "michelin_7to10_weekend.to_csv('michelin\\\\michelin_7to10_weekend.csv')\n",
    "michelin_11to14_weekday.to_csv('michelin\\\\michelin_11to14_weekday.csv')\n",
    "michelin_11to14_weekend.to_csv('michelin\\\\michelin_11to14_weekend.csv')\n",
    "michelin_18to21_weekday.to_csv('michelin\\\\michelin_18to21_weekday.csv')\n",
    "michelin_18to21_weekend.to_csv('michelin\\\\michelin_18to21_weekend.csv')"
   ]
  },
  {
   "cell_type": "code",
   "execution_count": 130,
   "metadata": {},
   "outputs": [],
   "source": [
    "department_weekday.to_csv('department\\\\department_weekday.csv')\n",
    "department_weekend.to_csv('department\\\\department_weekend.csv')\n",
    "department_7to10_weekday.to_csv('department\\\\department_7to10_weekday.csv')\n",
    "department_7to10_weekend.to_csv('department\\\\department_7to10_weekend.csv')\n",
    "department_11to14_weekday.to_csv('department\\\\department_11to14_weekday.csv')\n",
    "department_11to14_weekend.to_csv('department\\\\department_11to14_weekend.csv')\n",
    "department_18to21_weekday.to_csv('department\\\\department_18to21_weekday.csv')\n",
    "department_18to21_weekend.to_csv('department\\\\department_18to21_weekend.csv')"
   ]
  },
  {
   "cell_type": "code",
   "execution_count": 131,
   "metadata": {},
   "outputs": [],
   "source": [
    "bib_gourmand_weekday.to_csv('bib_gourmand\\\\bib_gourmand_weekday.csv')\n",
    "bib_gourmand_weekend.to_csv('bib_gourmand\\\\bib_gourmand_weekend.csv')\n",
    "bib_gourmand_7to10_weekday.to_csv('bib_gourmand\\\\bib_gourmand_7to10_weekday.csv')\n",
    "bib_gourmand_7to10_weekend.to_csv('bib_gourmand\\\\bib_gourmand_7to10_weekend.csv')\n",
    "bib_gourmand_11to14_weekday.to_csv('bib_gourmand\\\\bib_gourmand_11to14_weekday.csv')\n",
    "bib_gourmand_11to14_weekend.to_csv('bib_gourmand\\\\bib_gourmand_11to14_weekend.csv')\n",
    "bib_gourmand_18to21_weekday.to_csv('bib_gourmand\\\\bib_gourmand_18to21_weekday.csv')\n",
    "bib_gourmand_18to21_weekend.to_csv('bib_gourmand\\\\bib_gourmand_18to21_weekend.csv')"
   ]
  },
  {
   "cell_type": "code",
   "execution_count": null,
   "metadata": {},
   "outputs": [],
   "source": []
  }
 ],
 "metadata": {
  "kernelspec": {
   "display_name": "Python 3",
   "language": "python",
   "name": "python3"
  },
  "language_info": {
   "codemirror_mode": {
    "name": "ipython",
    "version": 3
   },
   "file_extension": ".py",
   "mimetype": "text/x-python",
   "name": "python",
   "nbconvert_exporter": "python",
   "pygments_lexer": "ipython3",
   "version": "3.7.4"
  }
 },
 "nbformat": 4,
 "nbformat_minor": 2
}
